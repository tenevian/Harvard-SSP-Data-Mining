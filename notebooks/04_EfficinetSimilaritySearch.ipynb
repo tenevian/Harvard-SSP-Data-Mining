{
 "cells": [
  {
   "cell_type": "markdown",
   "metadata": {
    "id": "5iRMnZfakB8H"
   },
   "source": [
    "# 4. Efficient Similarity Search    \n",
    "\n",
    "## CSCI E-108      \n",
    "\n",
    "### Steve Elston"
   ]
  },
  {
   "cell_type": "markdown",
   "metadata": {
    "id": "61hLWprekB8I"
   },
   "source": [
    "In these exercises you will gain some experience with methods for efficient similarity search. A naive similarity search requires a brute-force computation of all pairwise distances, in the chosen metrics. The brute-force approach is not scalable with computational complexity for $n$ observations of $O(n^2)$.    \n",
    "\n",
    "For massive datasets we need much more efficient methods. These methods fall into two broad categories. First **exact similarity search** or **exact nearest neighbor search** methods try to find the $k$ observations closest to a query vector, $q$. However, even the most efficient exact similarity search methods do not scale to high dimensional massive datasets. In order to perform similarity search on massive high-dimensional datasets we must use **approximate nearest neighbor search (ANNS)** algorithms. As you will see, ANNS algorithms involve compromises between query speed, memory use and accuracy. Whereas, exact methods are expected to have a recall score of 1.0, we must expect lower recall from ANNS algorithms as the price paid for high query speed and low memory use.            \n",
    "\n",
    "Here, we will explore several widely used possibilities:        \n",
    "1. [**KD trees**](https://en.wikipedia.org/wiki/K-d_tree) are a widely used tree-based data structure used for low-dimensional data. KD-trees are constructed from recursive binary splits. For a dataset with $n$ observations and dimensionality, $d$, the computational complexity is $O\\big(d\\ n \\log(n) \\big)$. While not ideal linear scaling, $O(n)$, the KD tree is a significant improvement over brute-force methods. Generally, KD-trees are considered to be efficient for large datasets with $d \\le 20$. For higher dimensional data, R-trees and ball trees can be extended to higher dimensional data. We will apply ball trees for clustering and dimensionality reduction with the spectral clustering and UMAP algorithms.     \n",
    "2. [**Inverted Indexes**](https://www.pinecone.io/learn/series/faiss/vector-indexes/) are a course quantization method that divides a large search space. Inverted indexes can be search very quickly but do not achieve high recall rates. Typically, these algorithms are used in conjunction with finer search algorithms.    \n",
    "3. [**Product Quantization (PQ)**](https://www.pinecone.io/learn/series/faiss/product-quantization/) employs multi-level vector quantization. The PQ algorithm is provides fast queries with reasonable levels of recall. In addition, the PQ algorithm requires minimal memory, providing up to 97% compression!\n",
    "4. [**Hierarchical Navigable Small Worlds (HNSW)** graphs](https://www.pinecone.io/learn/series/faiss/hnsw/) are arguably the state of the art in ANNS. These algorithms use a hierarchy of graphs of increasing detail and accuracy. There is a trade-off between memory use query speed and recall (accuracy) for HNSW. Properly configured, HNSW can achieve high recall scores with reasonable scalability.\n",
    "5. [**Composite Indices**](https://www.pinecone.io/learn/series/faiss/composite-indexes/) use pipelines of to improve end to end performance, recall, query speed and memory use. These composites start with coarse quantization with inverted indices (IVF) and work toward fine ANN search in two or more steps. The number of possible pipeline combinations is quite large. In practice, there are a smaller number of widely used composites which are empirically known to work well for many problems.      \n",
    "\n"
   ]
  },
  {
   "cell_type": "markdown",
   "metadata": {
    "id": "IiJLUiiUkB8I"
   },
   "source": [
    "### Executing this notebook\n",
    "\n",
    "This notebook is intended to run in Google Colab, using a GPU. You can set select the runtime environment by clicking the `Change runtime type` under the Runtime menu tab. If you are not familiar with working in Colab you can find a [quick start guide here](https://docs.google.com/document/d/1afPjc4IaeZzIqUAX20uBEk3Dt41pAP0Ebkpd53EJTaE/edit?tab=t.0).           \n",
    "\n",
    "Before proceeding to the exercises, execute the code in the cell below to import the required packages.  \n",
    "\n",
    "> **Note:** There are multiple possible version conflicts which arise when creating an environment where FAISS runs. You may well see errors from the pip installer. If this occurs you need to click `Restart session` under the Runtime menu tab and execute the code in the cell below again."
   ]
  },
  {
   "cell_type": "code",
   "execution_count": null,
   "metadata": {
    "colab": {
     "base_uri": "https://localhost:8080/"
    },
    "id": "oi8OMS5B-q_s",
    "outputId": "60a8b5b8-895b-4d60-91e9-4b035a05bba8"
   },
   "outputs": [],
   "source": [
    "!pip install --upgrade numpy<3\n",
    "!pip install faiss-gpu-cu12\n",
    "!pip install --upgrade scikit-learn\n",
    "!pip install --upgrade pandas\n",
    "!pip install tensorflow-datasets"
   ]
  },
  {
   "cell_type": "code",
   "execution_count": null,
   "metadata": {
    "id": "yyzrSjEmkB8I"
   },
   "outputs": [],
   "source": [
    "import os\n",
    "import time\n",
    "import sys\n",
    "import itertools\n",
    "import collections\n",
    "import numpy as np\n",
    "import pandas as pd\n",
    "import faiss\n",
    "import shutil\n",
    "import tensorflow as tf\n",
    "import tensorflow_datasets as tfds\n",
    "import matplotlib.pyplot as plt\n",
    "from sklearn import datasets\n",
    "from sklearn.neighbors import KDTree\n",
    "from sklearn.model_selection import train_test_split\n",
    "import math\n",
    "from google.colab import files"
   ]
  },
  {
   "cell_type": "markdown",
   "metadata": {
    "id": "XLnJOoVikB8J"
   },
   "source": [
    "## Similarity Search with KD Trees     \n",
    "\n",
    "We will now explore a basic example of using a KD tree to find nearest neighbors. We will use a small (toy) dataset of characteristics and metabolic measurements taken from 442 diabetes patients. The KD tree algorithm will be used to find the nearest neighbors of the patients, based on the Euclidean distance between the observation vectors.    \n",
    "\n",
    "### Load the dataset\n",
    "\n",
    "The diabetes dataset is in the [Scikit Learn Datasets package](https://scikit-learn.org/stable/api/sklearn.datasets.html).This dataset has already been cleaned, missing values dealt with, and standardized (zero mean, unite variance). Therefore, we will skip the usual exploration and preparation steps.     \n",
    "\n",
    "Execute the code in the cell below to load the dataset and split it into two data frames, one for training and one for test.  "
   ]
  },
  {
   "cell_type": "code",
   "execution_count": null,
   "metadata": {
    "colab": {
     "base_uri": "https://localhost:8080/"
    },
    "id": "wyuqdb5IkB8J",
    "outputId": "6f2494ca-f6fb-43e9-de10-24b822935fdd"
   },
   "outputs": [],
   "source": [
    "datasets.load_diabetes()['data'].shape"
   ]
  },
  {
   "cell_type": "code",
   "execution_count": null,
   "metadata": {
    "colab": {
     "base_uri": "https://localhost:8080/"
    },
    "id": "w2CFY04SkB8J",
    "outputId": "b8e71ee8-eeeb-4df4-d58f-7df482184daf"
   },
   "outputs": [],
   "source": [
    "test_size = 32\n",
    "column_names = ['age_years',\n",
    "                'sex',\n",
    "                'BMI',\n",
    "                'Average_BP',\n",
    "                'serum_cholesterol',\n",
    "                'LDL',\n",
    "                'HDL',\n",
    "                'total_chol_over_HDL',\n",
    "                'log_serum_triglycerides',\n",
    "                'Glucose_level']\n",
    "\n",
    "diabetes_train, diabetes_test = train_test_split(datasets.load_diabetes()['data'], test_size=test_size)\n",
    "\n",
    "diabetes_train = pd.DataFrame(diabetes_train, columns=column_names)\n",
    "diabetes_test = pd.DataFrame(diabetes_test, columns=column_names)\n",
    "print('Dimensions of training data frame = ' + str(diabetes_train.shape))\n",
    "print('Dimensions of test data frame = ' + str(diabetes_test.shape))\n",
    "print(diabetes_test)"
   ]
  },
  {
   "cell_type": "markdown",
   "metadata": {
    "id": "kOJRLeH5kB8J"
   },
   "source": [
    "Notice that each of the observations is a numeric vector with 10 variables. These variables have all be standardized.    "
   ]
  },
  {
   "cell_type": "markdown",
   "metadata": {
    "id": "azvISAgwkB8J"
   },
   "source": [
    "### Constructing and querying the KD-Tree   \n",
    "\n",
    "The code in the cell below constructs the KD-tree as a KD-tree object with the required arguments. Execute the code."
   ]
  },
  {
   "cell_type": "code",
   "execution_count": null,
   "metadata": {
    "colab": {
     "base_uri": "https://localhost:8080/"
    },
    "id": "bJ2NiqogkB8K",
    "outputId": "4ea9beb8-2c8d-4ccd-fbba-22fc2edd6da3"
   },
   "outputs": [],
   "source": [
    "%time KD_tree = KDTree(diabetes_train, leaf_size=10, metric='euclidean')"
   ]
  },
  {
   "cell_type": "markdown",
   "metadata": {
    "id": "eTxv3TwtkB8K"
   },
   "source": [
    "Notice how quickly the tree was constructed. This should not be surprising given the small data set and low dimensionality of the data.   \n",
    "\n",
    "With the tree constructed we can now query the tree with the test data. The number of near neighbors is specified as 1 so that the query returns the single nearest neighbors.    \n",
    "\n",
    "> **Note:** In this case we are interested in similarity with each of the observations used to construct the KD-tree, so we use $k=1$ nearest neighbors. For other purposes, such as constructing a nearest neighbor graph, a larger value of $k$ is used. We will encounter a number algorithms using nearest neighbor graphs in subsequent lessons.   "
   ]
  },
  {
   "cell_type": "code",
   "execution_count": null,
   "metadata": {
    "colab": {
     "base_uri": "https://localhost:8080/",
     "height": 1000
    },
    "id": "5VrUz0uQkB8K",
    "outputId": "21f9c674-869b-4620-c42c-c64560448ce4"
   },
   "outputs": [],
   "source": [
    "np.random.seed(4545)\n",
    "%time distances, neighbors = KD_tree.query(diabetes_test, k=1)\n",
    "distance_frame = pd.DataFrame({'Nearest Neighbor':neighbors.ravel(), 'Distance':distances.ravel()})\n",
    "distance_frame.sort_values('Distance')"
   ]
  },
  {
   "cell_type": "markdown",
   "metadata": {
    "id": "BQ2kwjX2kB8K"
   },
   "source": [
    "Next print some summary statistics for the 20 queries just performed on the KD-tree by executing the code in the cell below.  "
   ]
  },
  {
   "cell_type": "code",
   "execution_count": null,
   "metadata": {
    "colab": {
     "base_uri": "https://localhost:8080/"
    },
    "id": "K0a9PtkIkB8K",
    "outputId": "9b44a2bf-dc2c-4ecf-b03a-af813b8274ab"
   },
   "outputs": [],
   "source": [
    "print(\"Stats for the tree\")\n",
    "print(\"Number of trims = %5d \\nnumber of leaves = %5d \\nnumber of splits = %6d\" % KD_tree.get_tree_stats())"
   ]
  },
  {
   "cell_type": "markdown",
   "metadata": {
    "id": "zgw6SYaxkB8K"
   },
   "source": [
    "Finally, we can filter by similarities to find the nodes of the KD-tree that are similar to the new observations in the test dataset by applying a threshold to the distance measure. For the purpose of demonstration, we select an arbitrary distance threshold to filter on. Execute the code in the cell below to apply a similarity threshold and display the results.   "
   ]
  },
  {
   "cell_type": "code",
   "execution_count": null,
   "metadata": {
    "colab": {
     "base_uri": "https://localhost:8080/"
    },
    "id": "2OEcRZOrkB8K",
    "outputId": "83f100a2-b580-49c2-f845-25cb1aa0e8f4"
   },
   "outputs": [],
   "source": [
    "divisor = 2.5\n",
    "distance_threshold = round(np.max(distance_frame.Distance)/divisor, 4)\n",
    "print('With divisor = ' + str(divisor) + ' and distance threshold = ' + str(distance_threshold))\n",
    "mask = distances < distance_threshold\n",
    "\n",
    "n_samples = len(diabetes_test)\n",
    "similarity_results = pd.DataFrame({'Sample':range(n_samples), 'Neighbor':neighbors.ravel(), 'Distance':distance_frame.Distance}).loc[mask.ravel(),:]\n",
    "similarity_results.sort_values('Distance', inplace=True)\n",
    "\n",
    "print('\\nThe total number of similar cases = ' + str(sum(mask)[0]))\n",
    "print(similarity_results)"
   ]
  },
  {
   "cell_type": "markdown",
   "metadata": {
    "id": "ufPKpjQNkB8K"
   },
   "source": [
    "> **Exercise 4-01:** Question 1. Examine the results of the similarity search using the KD-tree algorithm. Given the number of splits (nodes) and number of leaves of the KD-tree from the statistics printed above, do you think this tree is shallow and wide or narrow and deep, and why?         "
   ]
  },
  {
   "cell_type": "markdown",
   "metadata": {
    "id": "WTtGrvkBkB8K"
   },
   "source": [
    "> **Answer:**\n",
    "> 1.          "
   ]
  },
  {
   "cell_type": "markdown",
   "metadata": {
    "id": "SyyYr_X4kB8L"
   },
   "source": [
    "> If `[100, 1000, 10000, 100000, 1000000]` times as many samples had been used construct and query the KD-tree, what is the expected wall clock time required for construction and query of the KD-tree? To answer this question you need to compute the computational complexity for these operations relative to the sames used in the running example. Use the cell below to compute and display a table of the results of your calculation. Your table should have columns showing the multiplier, the expected construction time and the expected query time.      "
   ]
  },
  {
   "cell_type": "code",
   "execution_count": null,
   "metadata": {
    "colab": {
     "base_uri": "https://localhost:8080/"
    },
    "id": "AugasqvSkB8L",
    "outputId": "99d37cd9-4247-497b-bcd5-892e4c2af913"
   },
   "outputs": [],
   "source": [
    "## Put you code below\n",
    "\n",
    "\n",
    "\n"
   ]
  },
  {
   "cell_type": "markdown",
   "metadata": {
    "id": "q4oE4DtBkB8L"
   },
   "source": [
    "> 2. What does the difference in growth in construction time and query time tell you about the scalability of $n\\ log(n)$ vs. $log(n)$ computational complexity?  \n",
    "> 3. There is wide range of nearest nearest neighbor distances found in the similarity search. Filtering by a distance threshold has reduced the number of similar candidates. Consider a case where you need to filter 10,000,000 cases down to 100 most similar to present top a user as search results. Given the scalablity of the query do you think this query and filtering can be done in a real-time manner of less than 20 seconds and why?     "
   ]
  },
  {
   "cell_type": "markdown",
   "metadata": {
    "id": "pRgRKiUqkB8L"
   },
   "source": [
    "> **Answers:**      \n",
    "> 2.     \n",
    "> 3.     "
   ]
  },
  {
   "cell_type": "markdown",
   "metadata": {
    "id": "WKlmM7AbGm19"
   },
   "source": [
    "## Load the Sift1M benchmark dataset\n",
    "\n",
    "To benchmark the algorithms we are working with we will use the Sift1M, from the [Sifts Project](https://github.com/Shifts-Project/shifts). which contains 1 million real-valued vectors of length 128. The Sift1M also includes 10000 random query vectors used for performance benchmarking. Sift1M is a widely used dataset for benchmarking the performance of approximate similarity search algorithms.   \n",
    "\n",
    "There are a number of other widely used benchmark datasets for comparing the performance of ANNS algorithms. The [Gist1B benchmark](https://github.com/DeMoriarty/TorchPQ/blob/main/benchmark/turing/gist1m/README.md) is similar to Sift1M, but uses real-valued vectors of 980. The Gift1B datasets are similar to Sift1M, but contain 1 billion real-valued vectors of length 128. A more comprehensive list of ANNS benchmarks, including image and text data, can be found in the [ANN-Benchmarks](https://github.com/erikbern/ann-benchmarks) GitHub repository. Another index to benchmark datasets can be found on the [Zilli website](https://zilliz.com/glossary/ann-benchmarks).    \n",
    "\n",
    "Execute the code in the cell below to load both the database of observations and the test query dataset.\n",
    "\n",
    "> You may see a Json exception which you can safely ignore.  "
   ]
  },
  {
   "cell_type": "code",
   "execution_count": null,
   "metadata": {
    "colab": {
     "base_uri": "https://localhost:8080/",
     "height": 186,
     "referenced_widgets": [
      "a2e81ba928464c70a18fd1ddb92836d7",
      "b3a0952d2fa4443a9ad7cda63923e56c",
      "e4f8a337a26440f295490d028013775a",
      "ddb49497420f4aeea04934f347aec9d5",
      "64e165fe1d1446e6b8417b85143b045c",
      "042979dfa9b54e6eaae2071b45b8a994",
      "01b0cfee5bb34af3baaf30e57f2eb127",
      "09e67ba0709d4ea5bb38ca10f1606e00",
      "75c441075dda410b9ea8daf031f7af5d",
      "326c6fb2b54b4e199f78228b9dc72859",
      "972ba80348cd4a458dc71ccbc74975ac",
      "75eba347cfd8444eb4dfc6afae2591ac",
      "e938d9a234d94ec6bbb551be7cace6c4",
      "1398d3ca4b664fc4b524271607b063f1",
      "46b7176f8391432cbca51b725e353133",
      "8665fb60b140474f9bdea365a380427a",
      "533cb56cef054e30983881fd8f3cc9f5",
      "4840cadec22d43aab8c7627d5f01669b",
      "f526f8653d9543db9c5b03be44b745ba",
      "d01ce9851ea54a759256d3d0032dc149",
      "7de8e58335d44d0a8c69f41e60b5088b",
      "93176ffc36b045e78d0731320dfba277",
      "1157e831dfc248698fbc097fb8c61e59",
      "1ca1174ff02843d9a5ea7ca4dee1a03a",
      "d70590d4c9324b4f959c09775e6cdaca",
      "052e07593e31499992f177fc84da6445",
      "f7e304bacd3d457a925c59a8139c2d31",
      "9668b75d4758466d8c36fd54457b4f6b",
      "cd34b62277a744a9b6457d7e825636c1",
      "1dc3ed1ddbcc4e4d8e358758f433143b",
      "3b87cf0c1ee647c383013b3584258c93",
      "f1b4b46c05474e1388786bb6303e9f44",
      "a8854cde2e8f469f811d6fe038ae2ee5",
      "8f45a09ae1ba4c2c81acaef63c89d7ae",
      "cfc07663d52d4c25a81fed91497cc28d",
      "9769a354cb96499b83335e6e1e6892f8",
      "cebf2a8e49a04ec7856b97d7868e6d5a",
      "56d0a4d4b443485ca6dc9177ccb7c32f",
      "33534df6409940619d704c6a0786c7ff",
      "4792fbdb01054f69a7c1b0201518dd99",
      "264a3148aaf24a85bcc833584eec47c6",
      "0a98e1e51afc45e6867cb8622abb38b0",
      "14c5023a1d8247b79575eef9c21225e9",
      "2002d203c8b14599831410737d8b0fbd",
      "a4a9f6899df643b396f24756d50df655",
      "e7cd78b2d7724beaa68d7adf434d65e0",
      "bf2ca71e001644aa914aa16ff7013f5a",
      "d14ffe3312db43668d1442dffc310eda",
      "e343196dca554dbda7c7aa75a639708a",
      "846a318b777c41139c2e689bbda2f62f",
      "0889aaa8df6e400781b243f16253e424",
      "6f2299bbd36a4ca5bc31cb18b509b9c8",
      "b1c91ab9d3214a0489676ef5b7c0eea5",
      "fa53945b03454fbb8f4cc7028a4859c9",
      "a37a7f8bcdc048378cde19f967150cd0",
      "575d4ee4ce6d4654af2dbf558c252466",
      "b7224e5e7592428ba86613d9baae9f49",
      "cd7b4b4553f24da4a6dd2c18f7cc6fab",
      "537dfbb5818f4f11af5bb33c40841306",
      "3924801b9b794a628b373e6fe92a3d4d",
      "268ae6606a434dceb26db7726c68dd2c",
      "728fa361028d45a5b684bf0ac88b9dd6",
      "10afc82dd5434fa6bcf43c3820192bed",
      "638887d049c242a88dfe34ec54c3a709",
      "00f06bc3b1bd492c9cb29dcb5ac7329c",
      "1bedc3940bb54027b9249ef2d7942cb1",
      "3db1df9489254bafaba324b5afcca304",
      "89ad0071b6f849d490f3dbc346566364",
      "8495eaf4c4a94a55919056d20f024d83",
      "f25a0c3e497147a0b09c485a40f9d68d",
      "55cfd8ae736347efae85c18a8abb8757",
      "ce8ff118b64c494ebfe63a0c20a0b3f9",
      "a4a7b266baa04fe48840bdcdc4d33fbf",
      "9663be3ec74e464aa881ce3fac5ab6a6",
      "efd976de9e6f46ab9fccfdced562239f",
      "34eab6f4527a4841aac44826f509cbc9",
      "94871aef9c9f4e9a89611a11d10196ff",
      "86cf3d678bed4b8c8898b2956413dea9",
      "9905573f58e341558e18583ba665cd77",
      "e1ae8e4e4c284dc489a64e62c1856695",
      "514557c88c5543bbacc126bf20201529",
      "3e9a92140e694583af9934336d538579",
      "16312faa538441f4b9fe590d2545f9eb",
      "411116968c0240ebb2ddfaa6e7b9b1e4",
      "7c15153bb4aa4a69b3485d471082207c",
      "6d3b903a9b6a474aaa63498e6fc2d5c3",
      "b1f2e8727da747a6885e01c92d47a2eb",
      "07d4ebeb52c54858b4a5f86c9996c117"
     ]
    },
    "id": "FIThgSw9P66s",
    "outputId": "15e5303e-957a-41d8-bafc-80fbb7b1235a"
   },
   "outputs": [],
   "source": [
    "sift1m_database = tfds.load('sift1m', split='database', data_dir='./sift1m_data')\n",
    "sift1m_test = tfds.load('sift1m', split='test', data_dir='./sift1m_data')"
   ]
  },
  {
   "cell_type": "markdown",
   "metadata": {
    "id": "s3CR2bg56CPq"
   },
   "source": [
    "The Sift1M database you have imported is stored in a TensorFlow tensor data structure. To see some details of this data structure, execute the code in the cell below.  "
   ]
  },
  {
   "cell_type": "code",
   "execution_count": null,
   "metadata": {
    "colab": {
     "base_uri": "https://localhost:8080/"
    },
    "id": "a56ilpFmRu3R",
    "outputId": "b3c1ef68-8378-4757-cd47-52919317fde9"
   },
   "outputs": [],
   "source": [
    "print(sift1m_database)"
   ]
  },
  {
   "cell_type": "markdown",
   "metadata": {
    "id": "daOuh7FG6few"
   },
   "source": [
    "FAISS is expecting a vector real value for each observation in the form of a Numpy array. We must therefore extract these vectors from the TensorFlow data structure. The code in the cell below demonstrates how to perform this operation. Execute this code and examine the results."
   ]
  },
  {
   "cell_type": "code",
   "execution_count": null,
   "metadata": {
    "colab": {
     "base_uri": "https://localhost:8080/"
    },
    "id": "tB8DVfe5SkyW",
    "outputId": "032e30dd-118d-44d6-9cb3-2aab3baad65a"
   },
   "outputs": [],
   "source": [
    "for element in sift1m_database.take(2):\n",
    "    temp = np.array(element['embedding'])\n",
    "    print(temp)\n",
    "\n",
    "D = len(temp)\n",
    "print(f\"Length of embedding vector: {D}\")"
   ]
  },
  {
   "cell_type": "markdown",
   "metadata": {
    "id": "pcso4b9n8qmE"
   },
   "source": [
    "With the process of extracting the observation vectors into the rows of a Numpy array worked out, we must do so for all vectors. Execute the code in the following two cells to perform this operation for both the database and the test queries."
   ]
  },
  {
   "cell_type": "code",
   "execution_count": null,
   "metadata": {
    "colab": {
     "base_uri": "https://localhost:8080/"
    },
    "id": "cqyL074u8x4M",
    "outputId": "bb73fc6d-7e1d-41eb-ee33-c87d4dec7df2"
   },
   "outputs": [],
   "source": [
    "n_train = tf.data.experimental.cardinality(sift1m_database).numpy()\n",
    "\n",
    "sift1m_numpy = np.empty((n_train,D))\n",
    "for i,element in enumerate(sift1m_database.take(n_train)):\n",
    "   sift1m_numpy[i,:] = np.array(element['embedding'])\n",
    "\n",
    "print(f\"Dimension of training array: {sift1m_numpy.shape}\")"
   ]
  },
  {
   "cell_type": "code",
   "execution_count": null,
   "metadata": {
    "colab": {
     "base_uri": "https://localhost:8080/"
    },
    "id": "LjZW7-fT9Y88",
    "outputId": "20a3483e-9ead-4ffa-9746-5f04a0e87ef1"
   },
   "outputs": [],
   "source": [
    "n_test = tf.data.experimental.cardinality(sift1m_test).numpy()\n",
    "\n",
    "sift1m_numpy_test = np.empty((n_test,D))\n",
    "for i,element in enumerate(sift1m_test.take(n_test)):\n",
    "   sift1m_numpy_test[i,:] = np.array(element['embedding'])\n",
    "\n",
    "print(f\"Dimension of test array: {sift1m_numpy_test.shape}\")"
   ]
  },
  {
   "cell_type": "markdown",
   "metadata": {
    "id": "Htt412S9cq4S"
   },
   "source": [
    "## Load Data and Apply Flat Indexes  \n",
    "\n",
    "We will now create a simple 'flat' index using Euclidean distance or L2 norm. A flat index is an exact similarity search since the distance is computed pairwise between all vectors.  \n",
    "\n",
    "### Construct and test flat index\n",
    "\n",
    "As a first step to working with ANNS you will construct a flat index as a basis for comparing the performance of algorithms. Flat indices are computed by an exact distance calculation. Nearest neighbors are found using exact distances so we can use to the flat index as a basis to benchmark other algorithms.    \n",
    "\n",
    "For this example we are using the familiar L2 or Euclidean distance metric. Keep in mind that there is no reason for this metric to be the best choice for a particular problem. FAISS supports a several widely used distance metrics. You can see the choices [here](https://github.com/facebookresearch/faiss/wiki/MetricType-and-distances).\n",
    "\n",
    "The code in the cell below finds the single ($k=1$) nearest neighbor of first query of the test dataset by the following steps:    \n",
    "1. The flat index object is instantiated. You can find some documentation on the FAISS flat index and other basic indices [here](https://github.com/facebookresearch/faiss/wiki/Faiss-indexes).   \n",
    "2. The observations from the database are used to build the index. Since a flat index uses an exhaustive calculation, there is no model to train.    \n",
    "3. The search of the nearest neighbor of the query is performed.   \n",
    "\n",
    "Execute this code."
   ]
  },
  {
   "cell_type": "code",
   "execution_count": null,
   "metadata": {
    "colab": {
     "base_uri": "https://localhost:8080/"
    },
    "id": "1JrU_Jps9fir",
    "outputId": "b61ed8c9-514d-485f-d73b-42ce1e7f2f7d"
   },
   "outputs": [],
   "source": [
    "k=1\n",
    "\n",
    "l2_index = faiss.IndexFlatL2(D)\n",
    "l2_index.add(sift1m_numpy)\n",
    "\n",
    "%time\n",
    "dist, I = l2_index.search(sift1m_numpy_test[0,:].reshape(1,D), k)"
   ]
  },
  {
   "cell_type": "markdown",
   "metadata": {
    "id": "HXW_pomKKe00"
   },
   "source": [
    "The next question is what is the nearest neighbor to the query and how far is the query vector to the nearest neighbor. We can easily extract these values from the results returned by the search method. Execute the code in the cell below and examine the results."
   ]
  },
  {
   "cell_type": "code",
   "execution_count": null,
   "metadata": {
    "colab": {
     "base_uri": "https://localhost:8080/"
    },
    "id": "9FBXl8wD_ZN3",
    "outputId": "05377c4d-0ca5-42a0-b8c8-b016cc18980e"
   },
   "outputs": [],
   "source": [
    "print(f\"The approximate nearest neighbor is: {I[0][0]} at a Euclidean distance {dist[0][0]}\")"
   ]
  },
  {
   "cell_type": "markdown",
   "metadata": {
    "id": "5thXydm8OYm5"
   },
   "source": [
    "Typically one needs to find several nearest neighbors for a query vector. Execute the code in the cell below to find the 100 nearest neighbors to the query vector and displays the first 20."
   ]
  },
  {
   "cell_type": "code",
   "execution_count": null,
   "metadata": {
    "colab": {
     "base_uri": "https://localhost:8080/"
    },
    "id": "bT22Unj1y1xK",
    "outputId": "bbd230ff-a17c-4f6d-cd6b-683efc0c9a21"
   },
   "outputs": [],
   "source": [
    "k=100\n",
    "%time\n",
    "dist, I_L2 = l2_index.search(sift1m_numpy_test[0,:].reshape(1,D), k)\n",
    "\n",
    "NNs = pd.DataFrame({'Neighbor':I_L2[0], 'Distance':dist[0]})\n",
    "print(NNs.head(20))"
   ]
  },
  {
   "cell_type": "markdown",
   "metadata": {
    "id": "H5SECIv6QzY_"
   },
   "source": [
    "At large scale we need to find a number of nearest neighbors for multiple query vectors. The dataset provides 10000 sample query vectors. In the interest of limiting execution time for the examples in these exercises we will subsample these queries to just 1000. For more exact benchmarking one should use the full set of queries, but we will settle for faster execution time.   \n",
    "\n",
    "Execute the code in the cell below to perform the 1000 flat queries for the 100 nearest neighbors."
   ]
  },
  {
   "cell_type": "code",
   "execution_count": null,
   "metadata": {
    "colab": {
     "base_uri": "https://localhost:8080/"
    },
    "id": "LDHE28-6HwHg",
    "outputId": "70c3edde-1452-4711-8b11-b57e2f9e6007"
   },
   "outputs": [],
   "source": [
    "num_test = len(sift1m_numpy_test)\n",
    "indx = np.random.randint(0, num_test, 1000)\n",
    "%time dist, I_l2_1000 = l2_index.search(sift1m_numpy_test[indx,:], k)\n",
    "print(I_l2_1000.shape)"
   ]
  },
  {
   "cell_type": "markdown",
   "metadata": {
    "id": "Ksd_kpYdTJrX"
   },
   "source": [
    "You now have a measure of query speed for the flat index. The other dimension of performance is memory consumption. Since FAISS is coded in C++ with a Python API, we cannot directly find the size of the index objects from Python. Therefore, we must store the index as a temporary file and then find and return the file size.  \n",
    "\n",
    "Execute the code in the cell below\n",
    "\n",
    "> *Citation:* The function used was copied from the Pinecone blog post ['Product Quantization: Compressing high-dimensional vectors by 97%'](https://www.pinecone.io/learn/series/faiss/product-quantization/)."
   ]
  },
  {
   "cell_type": "code",
   "execution_count": null,
   "metadata": {
    "colab": {
     "base_uri": "https://localhost:8080/"
    },
    "id": "2rbhsFnnSdP6",
    "outputId": "fd1b1df9-05a0-418c-bf8f-706d470f5fe9"
   },
   "outputs": [],
   "source": [
    "def get_memory(index, digits=2):\n",
    "    # write index to file\n",
    "    faiss.write_index(index, './temp.index')\n",
    "    # get file size\n",
    "    file_size = os.path.getsize('./temp.index')\n",
    "    # delete saved index\n",
    "    os.remove('./temp.index')\n",
    "    return round(file_size/1000000, digits)\n",
    "\n",
    "#get_memory(l2_index)\n",
    "print(f'Index size: {get_memory(l2_index)} MB')"
   ]
  },
  {
   "cell_type": "markdown",
   "metadata": {
    "id": "s_IyY2zHzcoX"
   },
   "source": [
    "## Coarse Inverted Indexes  \n",
    "\n",
    "Inverted indexes provide a method to perform rapid ANN searches on a limited range of observed vectors. We will start to explore this area using simple coarse coded inverted indices. Again we will use the familiar L2 or Euclidean norm for simplicity. You can find an overview of coarse quantization with FAISS [here](https://www.pinecone.io/learn/series/faiss/vector-indexes/).    \n",
    "\n",
    "The coarse inverted index is built by the following steps:    \n",
    "1. A quantizer is defined using the L2 norm. The quantizer defines the method for computing distances\n",
    "2. The flat inverted index is defined using the L2 norm quantizer. The search space of observations is divided into [**Voronoi regions**](https://en.wikipedia.org/wiki/Voronoi_diagram). A search starts by finding the nearest cell centroid(s). The result is based on this centroid, hence the inverted and coarse (approximate) nature of the search.     \n",
    "3. The coarse quantizer is trained. The centroids of the Voronoi regions are found by using the k-means algorithm. We discuss the details of this algorithm later in the course.  \n",
    "4. The observation vectors are added to the index, organized by the nearest Voronoi region centroid.   \n",
    "\n",
    "Execute the code and examine the results."
   ]
  },
  {
   "cell_type": "code",
   "execution_count": null,
   "metadata": {
    "colab": {
     "base_uri": "https://localhost:8080/"
    },
    "id": "28V8ECDzzbUg",
    "outputId": "7c463abc-27dc-40cf-c45f-f77577d9e282"
   },
   "outputs": [],
   "source": [
    "nlist = 128  # The number of Voronoi cells for partitioning the data\n",
    "quantizer = faiss.IndexFlatL2(D)  # Define method for storing and comparing vectors\n",
    "index_IVF = faiss.IndexIVFFlat(quantizer, D, nlist) # Create an inverted file index with the quantizer\n",
    "index_IVF.train(sift1m_numpy)  # Train the index to cluster into Voronoi cells\n",
    "index_IVF.add(sift1m_numpy) # Add the vectors into the indexer\n",
    "\n",
    "print(f'Index size: {get_memory(index_IVF)} MB')"
   ]
  },
  {
   "cell_type": "markdown",
   "metadata": {
    "id": "elFcToeeBRc9"
   },
   "source": [
    "As a next step, test the coarse IVF index with a single $k=100$ query by executing the code in the cell below."
   ]
  },
  {
   "cell_type": "code",
   "execution_count": null,
   "metadata": {
    "colab": {
     "base_uri": "https://localhost:8080/"
    },
    "id": "uaz2nZ8z45qD",
    "outputId": "a7d9a859-a124-4fb7-d2cf-25235d84b7a3"
   },
   "outputs": [],
   "source": [
    "k=100\n",
    "%time dist, I = index_IVF.search(sift1m_numpy_test[0,:].reshape(1,D), k)\n",
    "\n",
    "NNs_IVF = pd.DataFrame({'Neighbor':I[0], 'Distance':dist[0]})\n",
    "print(NNs_IVF.head(20))"
   ]
  },
  {
   "cell_type": "markdown",
   "metadata": {
    "id": "JYjjzWzBUWp4"
   },
   "source": [
    "The next question is who good is this nearest neighbor approximation. To find out, the code in the cell below computes the [**recall**](https://developers.google.com/machine-learning/crash-course/classification/accuracy-precision-recall) at several numbers of nearest neighbors, with respect to the ground truth found by the exact flat index search. With recall defined as:\n",
    "\n",
    "$$recall = \\frac{Number\\ correctly\\ identified\\ neighbors}{Number\\ true\\ nearest\\ neighbors}$$    \n",
    "\n",
    "Execute the code in the cell below and examine the results."
   ]
  },
  {
   "cell_type": "code",
   "execution_count": null,
   "metadata": {
    "colab": {
     "base_uri": "https://localhost:8080/",
     "height": 206
    },
    "id": "OtNhjIi25edT",
    "outputId": "52357393-8e55-499f-b978-ef47c3ccdd98"
   },
   "outputs": [],
   "source": [
    "def compute_recall(NN1, NN2, at=[1, 2, 10, 20, 100]):\n",
    "  out = []\n",
    "  for k in at:\n",
    "    recall = sum([1 for i in NN1[:k] if i in NN2[:k]])/k\n",
    "    out.append(recall)\n",
    "  return pd.DataFrame({'at k':at, 'Recall':out})\n",
    "\n",
    "compute_recall(list(NNs_IVF.Neighbor), list(NNs.Neighbor))"
   ]
  },
  {
   "cell_type": "markdown",
   "metadata": {
    "id": "enVX2DLDW2c9"
   },
   "source": [
    "These recall statistics might be adequate for some purposes, but can be improved.       \n",
    "\n",
    "A simple way to increase recall is to prob more Voronoi cells. Setting the `nprob` attribute of the index defines the number of neighboring Voronoi cells to prob. Execute this code and compare the results to the previous results with $nprob = 1$, the default value.  "
   ]
  },
  {
   "cell_type": "code",
   "execution_count": null,
   "metadata": {
    "colab": {
     "base_uri": "https://localhost:8080/",
     "height": 241
    },
    "id": "3SB7lPvETo7T",
    "outputId": "bb5ff4f6-5af4-4e44-b31a-f68071da6be3"
   },
   "outputs": [],
   "source": [
    "index_IVF.nprobe = 8\n",
    "%time dist, I = index_IVF.search(sift1m_numpy_test[0,:].reshape(1,D), k)\n",
    "NNs_IVF_10prob = pd.DataFrame({'Neighbor':I[0], 'Distance':dist[0]})\n",
    "compute_recall(list(NNs_IVF_10prob.Neighbor), list(NNs.Neighbor))"
   ]
  },
  {
   "cell_type": "markdown",
   "metadata": {
    "id": "rmOmUq0oZcO1"
   },
   "source": [
    "To get a better estimate of the performance of this index it is necessary to use more queries. Here you will execute the code cell below to execute the same randomly selected 1000 queries used for the exact flat index."
   ]
  },
  {
   "cell_type": "code",
   "execution_count": null,
   "metadata": {
    "colab": {
     "base_uri": "https://localhost:8080/"
    },
    "id": "LZaWh3ecWxPF",
    "outputId": "3cc6574d-ea6b-4ca4-a7e4-e673ee085983"
   },
   "outputs": [],
   "source": [
    "at=[1, 2, 10, 20, 100]\n",
    "np.empty(len(at))"
   ]
  },
  {
   "cell_type": "markdown",
   "metadata": {
    "id": "T_5fKUls6H7w"
   },
   "source": [
    "Now that the 100 queries have been executed at different values of k, it is time to evaluate the results. The code in the cell below evaluates recall at the values of k using two function.   \n",
    "1. A function that computes the recall for a set of queries.\n",
    "2. A function that iterates over all values of $k$, using the first function to compute recall, and returns the mean over all queries.      \n",
    "\n",
    "Execute this code, and examine the recall tables computed at different `n_prob` values."
   ]
  },
  {
   "cell_type": "code",
   "execution_count": null,
   "metadata": {
    "colab": {
     "base_uri": "https://localhost:8080/"
    },
    "id": "Kv4NQj5PJB9l",
    "outputId": "c6b638f2-4b2b-4a41-cc6d-f61017942130"
   },
   "outputs": [],
   "source": [
    "def rowwise_recall(NN1, NN2):\n",
    "  \"\"\"Function computes recall between rows of arrays of nearest neighbors\"\"\"\n",
    "  recall = 0.0\n",
    "  num_neighbors = len(NN1)\n",
    "  for i in range(num_neighbors):\n",
    "    recall += np.sum(np.isin(NN1[i,:], NN2[i,:]))\n",
    "  return recall/num_neighbors\n",
    "\n",
    "def compute_mean_recall(NN1, NN2, at=[1, 2, 10, 20, 100]):\n",
    "  \"\"\"Function computes recall between rows of arrays of nearest neighbors\n",
    "  at several k values\"\"\"\n",
    "#  print(len(at))\n",
    "#  print(np.empty(5))\n",
    "  recall = np.empty(len(at))\n",
    "  for i, k in enumerate(at):\n",
    "    recall[i] = rowwise_recall( NN1[:,:k], NN2[:,:k])/k\n",
    "  return pd.DataFrame({'at k':at, 'Mean Recall':recall})\n",
    "\n",
    "for nprob in [1,8, 16]:\n",
    "  index_IVF.nprobe = nprob\n",
    "  print(f\"\\n\\n nprob: {nprob}\")\n",
    "\n",
    "  %time dist, I_IVF_1000 = index_IVF.search(sift1m_numpy_test[indx,:], k)\n",
    "\n",
    "  print(compute_mean_recall(I_IVF_1000, I_l2_1000))"
   ]
  },
  {
   "cell_type": "markdown",
   "metadata": {
    "id": "qoAXIlXjdAIy"
   },
   "source": [
    "> **Exercise 4-02:** Examine these results and answer the following questions:    \n",
    "> 1. In a few sentences explain how these benchmark results are interpreted? Be sure to discuss the benchmark reference for the recall metrics and the meaning of the values of k and why recall is always $\\lt 1$.      \n",
    "> 2. Why does increasing the `n_prob` hyperparameter increase the recall?\n",
    "> 3. Why does the time required for the 1000 queries increase with values of `n_prob`?    \n",
    "> 4. Explain why the inverted index is much faster than the flat index.   \n",
    "> 5. If you had sufficient memory, which hyperparameter of this index could you increase to improve recall any why? Hint; `n_prob` is a property of the search on the index not a property of the index itself.  "
   ]
  },
  {
   "cell_type": "markdown",
   "metadata": {
    "id": "ce6DHsbgBoRP"
   },
   "source": [
    "> **Answers:**\n",
    "> 1.        \n",
    "> 2.         \n",
    "> 3.          \n",
    "> 4.        \n",
    "> 5.            "
   ]
  },
  {
   "cell_type": "markdown",
   "metadata": {
    "id": "Mp7riOMM2TQO"
   },
   "source": [
    "## Product Quantization\n",
    "\n",
    "We have now explored two basic ANNS index methods, flat or exact search and coarse quantization. We will now explore product quantization (PQ). In summary, the PQ algorithm uses the following steps:     \n",
    "1. The vectors are divided into $m$ subvectors.\n",
    "2. Each of the subvectors are quantized using a similar algorithm to coarse quantization.    \n",
    "3. Queries are performed on the subvectors with the total distance being the sum of the subvector distances.     \n",
    "\n",
    "You can find an overview of PQ with FAISS [here](https://www.pinecone.io/learn/series/faiss/vector-indexes/).\n",
    "\n",
    "We will now construct and test the PQ index by these steps.    \n",
    "1. Define the number of subvectors, $m=8$, and the number quantization bits for the subvectors, $nbits = 8$.    \n",
    "2. Instantiate the PQ index.      \n",
    "3. Train the PQ index.    \n",
    "4. Add the database vectors to the index.   \n",
    "\n",
    "Execute the code and examine the results.  "
   ]
  },
  {
   "cell_type": "code",
   "execution_count": null,
   "metadata": {
    "colab": {
     "base_uri": "https://localhost:8080/"
    },
    "id": "bSVd784AD9zo",
    "outputId": "a81bb702-6365-49de-b82e-a7bad44b5f88"
   },
   "outputs": [],
   "source": [
    "m = 8\n",
    "nbits = 8\n",
    "index_PQ = faiss.IndexPQ( D, m, nbits) # Create an PQ inverted index with the quantizer\n",
    "index_PQ.train(sift1m_numpy)  # Train the index to cluster into Voronoi cells with PQ refinement\n",
    "index_PQ.add(sift1m_numpy) # Add the vectors into the indexer\n",
    "\n",
    "print(f'Index size: {get_memory(index_PQ)} MB')"
   ]
  },
  {
   "cell_type": "markdown",
   "metadata": {
    "id": "Wx0tZKM9mUxj"
   },
   "source": [
    "Now you will test the PQ index on a single $k=100$ query by executing the code in the cell below.   "
   ]
  },
  {
   "cell_type": "code",
   "execution_count": null,
   "metadata": {
    "colab": {
     "base_uri": "https://localhost:8080/",
     "height": 241
    },
    "id": "oCdDxsplECdR",
    "outputId": "a2eede08-06ba-447e-e15a-9c49ea6fbb4c"
   },
   "outputs": [],
   "source": [
    "%time dist, I = index_PQ.search(sift1m_numpy_test[0,:].reshape(1,D), k)\n",
    "\n",
    "NNs_PQ = pd.DataFrame({'Neighbor':I[0], 'Distance':dist[0]})\n",
    "compute_recall(list(NNs_PQ.Neighbor), list(NNs.Neighbor))"
   ]
  },
  {
   "cell_type": "markdown",
   "metadata": {
    "id": "hZqFU-hImpEl"
   },
   "source": [
    "To get a better idea of the performance of the PQ index execute the code in the cell below to compute the average recall for 1000 random queries.  "
   ]
  },
  {
   "cell_type": "code",
   "execution_count": null,
   "metadata": {
    "colab": {
     "base_uri": "https://localhost:8080/",
     "height": 241
    },
    "id": "4n1rS2d3t89M",
    "outputId": "394069dc-c4ca-4241-b2f7-5e752a0568fc"
   },
   "outputs": [],
   "source": [
    "%time dist, I_PQ_1000 = index_PQ.search(sift1m_numpy_test[indx,:], k)\n",
    "compute_mean_recall(I_PQ_1000, I_l2_1000)"
   ]
  },
  {
   "cell_type": "markdown",
   "metadata": {
    "id": "WKoV_hSZUgN8"
   },
   "source": [
    "The recall of the basic PQ index can be improved by increasing the number of quantization levels, by specifying a larger $nbits$. Execute the code in the cell below that uses $nbits = 10$ to specify the number of quantization levels, and compare the results to the model with $nbits=8$. This code will take some time to execute given the long training time for the model."
   ]
  },
  {
   "cell_type": "code",
   "execution_count": null,
   "metadata": {
    "colab": {
     "base_uri": "https://localhost:8080/",
     "height": 259
    },
    "id": "0C4i38dK_rz4",
    "outputId": "21690582-b945-4656-b8f6-5686bdf9f966"
   },
   "outputs": [],
   "source": [
    "m = 8\n",
    "nbits = 10\n",
    "index_PQ = faiss.IndexPQ( D, m, nbits) # Create an PQ inverted index with the quantizer\n",
    "index_PQ.train(sift1m_numpy)  # Train the index to cluster into Voronoi cells with PQ refinement\n",
    "index_PQ.add(sift1m_numpy) # Add the vectors into the indexer\n",
    "\n",
    "print(f'Index size: {get_memory(index_PQ)} MB')\n",
    "\n",
    "%time dist, I_PQ_1000 = index_PQ.search(sift1m_numpy_test[indx,:], k)\n",
    "compute_mean_recall(I_PQ_1000, I_l2_1000)"
   ]
  },
  {
   "cell_type": "markdown",
   "metadata": {
    "id": "9UmyDl0kgC9a"
   },
   "source": [
    "Using more, smaller, subvectors is another way to increase recall at the expense of memory and query speed. To see an example, execute the code in the cell below with $m=32$."
   ]
  },
  {
   "cell_type": "code",
   "execution_count": null,
   "metadata": {
    "colab": {
     "base_uri": "https://localhost:8080/",
     "height": 259
    },
    "id": "OHS2b3ufGiaW",
    "outputId": "94365798-a64d-4609-805e-e5de7f330aaf"
   },
   "outputs": [],
   "source": [
    "m = 32\n",
    "nbits = 8\n",
    "index_PQ = faiss.IndexPQ( D, m, nbits)\n",
    "index_PQ.train(sift1m_numpy)\n",
    "index_PQ.add(sift1m_numpy)\n",
    "\n",
    "print(f'Index size: {get_memory(index_PQ)} MB')\n",
    "\n",
    "%time dist, I_PQ_1000 = index_PQ.search(sift1m_numpy_test[indx,:], k)\n",
    "compute_mean_recall(I_PQ_1000, I_l2_1000)"
   ]
  },
  {
   "cell_type": "markdown",
   "metadata": {
    "id": "3w6Z7MeTNf8o"
   },
   "source": [
    "> **Exercise 4-03:** Examine the benchmark results for the PQ ANNS and answer the following question.    \n",
    "> 1. Why does increasing `nbits` only marginally increase the benchmark recall of the queries at only a modest increase in memory use? In formulating your answer, consider the role of the asymmetric distance calculation.\n",
    "> 2. Calculate and compare the number of subvector quantization centroids, $p$ for the two choices of the hyperparameter `n_bits` used. \n",
    "> 3. Why does increasing `m` provide greater recall increase than increasing `nbits`, but at a greater increase in memory use?"
   ]
  },
  {
   "cell_type": "markdown",
   "metadata": {
    "id": "1fKQx21XWswg"
   },
   "source": [
    "> **Answers:**\n",
    "> 1.       \n",
    "> 2.         \n",
    "> 3.      "
   ]
  },
  {
   "cell_type": "markdown",
   "metadata": {
    "id": "lHE25RjqfFgB"
   },
   "source": [
    "## Hierarchical Navigable Small World Graphs\n",
    "\n",
    "The final basic index we will test is the hierarchical navigable small world network (HNSWN)  algorithm. In summary, the HNSWN comprises a hierarchy of graphs to go from coarse to finer grain search.      \n",
    "\n",
    "You will now build an HNSWN index by the following steps.   \n",
    "1. The number of neighbors for the nodes in the navigable small world graph is defined, $m=8$.\n",
    "2. The HNSWN flat index model is instantiated. This model uses exact or flat search on each level of the graph hierarchy.    \n",
    "3. The HNSWN model is trained on the database.\n",
    "4. The observation vectors from the database are added to the model.\n",
    "\n",
    "Execute this code and notice the results.    "
   ]
  },
  {
   "cell_type": "code",
   "execution_count": null,
   "metadata": {
    "colab": {
     "base_uri": "https://localhost:8080/"
    },
    "id": "u2-k5bl-gI_k",
    "outputId": "8f3cfed1-7149-4575-b3ab-19d663794536"
   },
   "outputs": [],
   "source": [
    "m = 8\n",
    "index_HNSW = faiss.IndexHNSWFlat(D, m) # Create an HNSWN index with flat L2 search at each level\n",
    "index_HNSW.train(sift1m_numpy)  # Train the index which constructs the HNSW graph\n",
    "index_HNSW.add(sift1m_numpy) # Add the vectors into the indexer\n",
    "\n",
    "print(f'Index size: {get_memory(index_HNSW)} MB')"
   ]
  },
  {
   "cell_type": "markdown",
   "metadata": {
    "id": "kML_O_NkKlKK"
   },
   "source": [
    "As the next step, execute the code in the cell below to execute a single $k=100$ query and examine the results."
   ]
  },
  {
   "cell_type": "code",
   "execution_count": null,
   "metadata": {
    "colab": {
     "base_uri": "https://localhost:8080/",
     "height": 241
    },
    "id": "FfHryOQtiQR3",
    "outputId": "c3e178d5-9aa6-46ff-ea6d-8665c32d1a2d"
   },
   "outputs": [],
   "source": [
    "%time dist, I = index_HNSW.search(sift1m_numpy_test[0,:].reshape(1,D), k)\n",
    "\n",
    "NNs_HNSW = pd.DataFrame({'Neighbor':I[0], 'Distance':dist[0]})\n",
    "compute_recall(list(NNs_HNSW.Neighbor), list(NNs.Neighbor))"
   ]
  },
  {
   "cell_type": "markdown",
   "metadata": {
    "id": "zVLvF9YjMpvI"
   },
   "source": [
    "Now, execute the code in the cell below to perform 1000 randomly selected queries and compute and display the recall statistics."
   ]
  },
  {
   "cell_type": "code",
   "execution_count": null,
   "metadata": {
    "colab": {
     "base_uri": "https://localhost:8080/",
     "height": 241
    },
    "id": "r50mqAlwulfj",
    "outputId": "bdadaa57-cdd8-4e60-8d97-7589417056da"
   },
   "outputs": [],
   "source": [
    "%time dist, I_HNSW_1000 = index_HNSW.search(sift1m_numpy_test[indx,:], k)\n",
    "compute_mean_recall(I_HNSW_1000, I_l2_1000)"
   ]
  },
  {
   "cell_type": "markdown",
   "metadata": {
    "id": "Ac2bUjemQQON"
   },
   "source": [
    "It is possible to increase the recall of a HNSWN model by increasing the number of neighbors for the nodes in the graph, $m$. To make a comparison execute the code in the cell below with $m=16$ and compare the results to the $m=8$ case."
   ]
  },
  {
   "cell_type": "code",
   "execution_count": null,
   "metadata": {
    "colab": {
     "base_uri": "https://localhost:8080/",
     "height": 259
    },
    "id": "NYHX2MRd-5wc",
    "outputId": "23e65d85-6a1d-46b9-89f1-9ec1c231bad1"
   },
   "outputs": [],
   "source": [
    "m = 16\n",
    "index_HNSW = faiss.IndexHNSWFlat(D, m) # Create an HNSWN index with flat L2 search at each level\n",
    "index_HNSW.train(sift1m_numpy)  # Train the index which constructs the HNSW graph\n",
    "index_HNSW.add(sift1m_numpy) # Add the vectors into the indexer\n",
    "\n",
    "print(f'Index size: {get_memory(index_HNSW)} MB')\n",
    "\n",
    "%time dist, I_HNSW_1000 = index_HNSW.search(sift1m_numpy_test[indx,:], k)\n",
    "compute_mean_recall(I_HNSW_1000, I_l2_1000)"
   ]
  },
  {
   "cell_type": "markdown",
   "metadata": {
    "id": "fDiqSMaf1U2F"
   },
   "source": [
    "> **Exercise 4-04:** Based on the results of the benchmark tests above, answer the following questions:    \n",
    "> 1. In the foregoing benchmark test a HNSWN is searched with a flat index. What is the role of the flat index in this search?     \n",
    "> 2. Why does an hierarchy of small world networks result in fast ANNS?\n",
    "> 3. How does increasing the hyperparameter `m` change the HNSWN, and why does this improve the recall?    \n",
    "> 4. Why does increasing the hyperparameter `m` increase the query time and the memory required to store the index?  "
   ]
  },
  {
   "cell_type": "markdown",
   "metadata": {
    "id": "MmPxX99H1VCL"
   },
   "source": [
    "> **Answers:**\n",
    "> 1.        \n",
    "> 2.      \n",
    "> 3.        \n",
    "> 4.          "
   ]
  },
  {
   "cell_type": "markdown",
   "metadata": {
    "id": "s8UGJSic14bX"
   },
   "source": [
    "## Summary of Algorithm Performance    \n",
    "\n",
    "> **Exercise 4-05:** Now that you have worked with some of the basic indicies used for exact and approximate large scale nearest neighbor searches, you will compare these algorithms. To start, fill in the table shown with the performance characteristics of the algorithms, memory used, total time for 1000 queries, recall@20 for the 1000 queries and recall@100 for the 1000 queries. You need only report the results to 2 significant digits. You can find a summary of using tables in Markdown [here](https://www.codecademy.com/resources/docs/markdown/tables), as well as many other sources.       "
   ]
  },
  {
   "cell_type": "markdown",
   "metadata": {
    "id": "SbdO1DwHEk-c"
   },
   "source": [
    "| Algorithm | Memory Used MB | Query Time S | Recall @20 | Recall @100 |\n",
    "| :-------- | :---------: | :--------: | :--------: | :---------: |\n",
    "| Flat      |            |       |         |           |\n",
    "| IVF, nprob = 1   |  |     |        |          |\n",
    "| IVF, nprob = 8   |  |       |        |         |\n",
    "| IVF, nprob = 16   | |       |        |          |\n",
    "| PQ, m=8, nbits=8 |     |      |         |         |\n",
    "|PQ, m=8, nbits=10 |    |      |       |          |\n",
    "|PQ, m=32, nbits=8 |   |      |        |          |\n",
    "|HSWN, m=8         |    |      |       |          |\n",
    "|HSWN, m=16         |   |     |       |          |"
   ]
  },
  {
   "cell_type": "markdown",
   "metadata": {
    "id": "_ALYp1CxafBG"
   },
   "source": [
    "> Examine the table of algorithm performance you have completed and answer these questions.     \n",
    "> 1. In one or a few sentences, describe the general relationship you observe between memory use, query time and recall, given these results.  \n",
    "> 2. In one or a few sentences, state which index has the longest query time. What are the trade-offs of using this index and why?\n",
    "> 3. Consider the memory use of these algorithms. In one or a few sentences,state which class of algorithm uses significantly less memory than the other types, and what are the performance trade-offs for this algorithm and why?   \n",
    "> 4. Consider the query time of these algorithms. In one or a few sentences,state which class of algorithm has significantly lower query time than the other types, and what are the performance trade-offs for this algorithm and why?"
   ]
  },
  {
   "cell_type": "markdown",
   "metadata": {
    "id": "7KYyagVMafO9"
   },
   "source": [
    "> Answers:      \n",
    "> 1.     \n",
    "> 2.       \n",
    "> 3.     \n",
    "> 4.     "
   ]
  },
  {
   "cell_type": "markdown",
   "metadata": {
    "id": "XAKvUOMVSK2G"
   },
   "source": [
    "## Composite Indexes\n",
    "\n",
    "In practice, ANN search performance is improved by using a composite of indices. This approach builds on the strength of the various algorithms to improve recall, reduce memory use and improve query speed. The flow of the pipeline follows these general steps:   \n",
    "1. **Preprocessing and transformation** to (optionally) normalize and orthogonalize the vector values. Commonly used algorithms include scaling, PCA and OPQ rotations.    \n",
    "2. **Coarse quantization** for  to reduce computation and memory requirements. Algorithms commonly used include IVF, [inverted multi-index (IMI)](https://sites.skoltech.ru/app/data/uploads/sites/25/2014/12/TPAMI14.pdf), and HNSWN algorithms.   \n",
    "3. **Fine quantization** primarily for compression to reduce memory required and improve query speed. PQ or flat search are the most commonly used algorithms.    \n",
    "4. **Reorder results** by inverse distance so nearest neighbor is first on the list.      \n",
    "\n",
    "You can find a tutorial introduction to working with composite indexes in FAISS [here](https://www.pinecone.io/learn/series/faiss/composite-indexes/)"
   ]
  },
  {
   "cell_type": "markdown",
   "metadata": {
    "id": "7Rp0E7UorQUi"
   },
   "source": [
    "### Coarse quantization with IMI\n",
    "\n",
    "The first composite index we will investigate is the \"OPQ32,IMI2x8,PQ32\". During construction of this index the following operations are performed:     \n",
    "1. The vectors are rotated to improved quantization, the \"OPQ32\" step. Confusingly, the notation \"OPQ32\" only specifies a rotation for the subsequent \"PQ32\" step.\n",
    "2. An inverted multindex on a $2 \\times 8$ grid is applied as a coarse quantizer.\n",
    "3. A PQ index with $2^{32}$ quantization centroids is used as the fine quantizer.   "
   ]
  },
  {
   "cell_type": "code",
   "execution_count": null,
   "metadata": {
    "colab": {
     "base_uri": "https://localhost:8080/"
    },
    "id": "YlwCdZ2QSGVK",
    "outputId": "ef47a6ed-2d96-4ed5-f462-ffe46f436988"
   },
   "outputs": [],
   "source": [
    "index_IVFOPQ = faiss.index_factory(D, \"OPQ32,IMI2x8,PQ32\") # Create the composite index\n",
    "index_IVFOPQ.train(sift1m_numpy)  # Train the index \n",
    "index_IVFOPQ.add(sift1m_numpy) # Add the vectors into the indexer\n",
    "\n",
    "print(f'Index size: {get_memory(index_IVFOPQ)} MB')"
   ]
  },
  {
   "cell_type": "code",
   "execution_count": null,
   "metadata": {
    "colab": {
     "base_uri": "https://localhost:8080/",
     "height": 241
    },
    "id": "AkheRnBqSAM_",
    "outputId": "58ffa533-64f7-4783-839a-699933fe34d2"
   },
   "outputs": [],
   "source": [
    "k=100\n",
    "%time dist, I = index_IVFOPQ.search(sift1m_numpy_test[0,:].reshape(1,D), k)\n",
    "\n",
    "NNs_IVFOPQ = pd.DataFrame({'Neighbor':I[0], 'Distance':dist[0]})\n",
    "compute_recall(list(NNs_IVFOPQ.Neighbor), list(NNs.Neighbor))"
   ]
  },
  {
   "cell_type": "markdown",
   "metadata": {},
   "source": [
    "These results are far from encouraging! Fortunately, there is an easy fix. The IMI is a search on a grid with a great many cells. significantly increasing 'n_prob' will force search on a larger part of the grid at the expense of increased query time. Execute the code in the cell below that performs the search with `n_prob` set to 1024.      "
   ]
  },
  {
   "cell_type": "code",
   "execution_count": null,
   "metadata": {
    "colab": {
     "base_uri": "https://localhost:8080/",
     "height": 241
    },
    "id": "E30YleA2R9gX",
    "outputId": "bc6ebd2a-1ebf-43d5-e35f-182c4bef7b19"
   },
   "outputs": [],
   "source": [
    "imi = faiss.extract_index_ivf(index_IVFOPQ)  # we increase nprobe\n",
    "imi.nprobe = 1024\n",
    "\n",
    "%time dist, I = index_IVFOPQ.search(sift1m_numpy_test[0,:].reshape(1,D), k)\n",
    "\n",
    "NNs_IVFOPQ = pd.DataFrame({'Neighbor':I[0], 'Distance':dist[0]})\n",
    "compute_recall(list(NNs_IVFOPQ.Neighbor), list(NNs.Neighbor))"
   ]
  },
  {
   "cell_type": "markdown",
   "metadata": {},
   "source": [
    "These results are much better! One should not be too concerned about recall@1, since this just means the algorithm did not find the single most similar vector to the query.     \n",
    "\n",
    "With a better value of `n_prob` set, execute the code in the cell below to perform the 1000 random queries and compute and display the performance metrics.  "
   ]
  },
  {
   "cell_type": "code",
   "execution_count": null,
   "metadata": {
    "colab": {
     "base_uri": "https://localhost:8080/",
     "height": 241
    },
    "id": "BR8VZUdsR31T",
    "outputId": "f9aca77a-5aa4-4145-9917-6c55644bb476"
   },
   "outputs": [],
   "source": [
    "%time dist, I_IVFOPQ_1000 = index_IVFOPQ.search(sift1m_numpy_test[indx,:], k)\n",
    "compute_mean_recall(I_IVFOPQ_1000, I_l2_1000)"
   ]
  },
  {
   "cell_type": "markdown",
   "metadata": {
    "id": "r_h53JIkryHc"
   },
   "source": [
    "### Coarse quantization with IVF-HSWN\n",
    "\n",
    "Now, we will investigate another composite index using a different coarse quantizer, the IVF4096_HNSW algorithm. During construction of this index the following operations are performed:     \n",
    "1. The vectors are rotated to improved quantization, the \"OPQ32\" step. \n",
    "2. An inverted 4096 cell index is constructed to search on the levels of a HNSW graph as a coarse quantizer.\n",
    "3. A PQ index with $2^{32}$ quantization centroids is used as the fine quantizer.\n",
    "\n",
    "Execute the code in the cell below to build this composite index.   "
   ]
  },
  {
   "cell_type": "code",
   "execution_count": null,
   "metadata": {
    "colab": {
     "base_uri": "https://localhost:8080/"
    },
    "id": "hQlVS1RAPrfK",
    "outputId": "4075ab91-a4e8-4d72-db4c-b7ca4b780ce8"
   },
   "outputs": [],
   "source": [
    "index_IVFHNSWPQ = faiss.index_factory(D, \"OPQ32,IVF4096_HNSW,PQ32\") # Create the composite index\n",
    "index_IVFHNSWPQ.train(sift1m_numpy)  # Train the index \n",
    "index_IVFHNSWPQ.add(sift1m_numpy) # Add the vectors into the indexer\n",
    "\n",
    "print(f'Index size: {get_memory(index_IVFHNSWPQ)} MB')"
   ]
  },
  {
   "cell_type": "markdown",
   "metadata": {},
   "source": [
    "Now, execute the code in the cell below to test the index on a single $k=100$ query.  "
   ]
  },
  {
   "cell_type": "code",
   "execution_count": null,
   "metadata": {
    "colab": {
     "base_uri": "https://localhost:8080/",
     "height": 241
    },
    "id": "Gl5EG-5HRhtL",
    "outputId": "a53a19c6-8a0e-40d2-f141-7422cb3c316a"
   },
   "outputs": [],
   "source": [
    "k=100\n",
    "%time dist, I = index_IVFHNSWPQ.search(sift1m_numpy_test[0,:].reshape(1,D), k)\n",
    "\n",
    "NNs_IVFHNSWPQ = pd.DataFrame({'Neighbor':I[0], 'Distance':dist[0]})\n",
    "compute_recall(list(NNs_IVFHNSWPQ.Neighbor), list(NNs.Neighbor))"
   ]
  },
  {
   "cell_type": "markdown",
   "metadata": {},
   "source": [
    "These initial results are not very good. But, we can easily improve on them at the expense of query time.     \n",
    "\n",
    "Since we are using an inverted index, we can increase the number of Voronoi cells probed by the inverted index at the expense of increased query time. Execute the code in the cell below that increases `n_prob` to 128 and performs a single $k=100$ query on the index."
   ]
  },
  {
   "cell_type": "code",
   "execution_count": null,
   "metadata": {
    "colab": {
     "base_uri": "https://localhost:8080/",
     "height": 241
    },
    "id": "-tpawjmNRltR",
    "outputId": "d423ffb0-3837-4d14-e546-bb48bac662f3"
   },
   "outputs": [],
   "source": [
    "index_ = faiss.extract_index_ivf(index_IVFHNSWPQ)  # we increase nprobe\n",
    "index_.nprobe = 128\n",
    "\n",
    "%time dist, I = index_IVFHNSWPQ.search(sift1m_numpy_test[0,:].reshape(1,D), k)\n",
    "\n",
    "NNs_IVFHNSWPQ = pd.DataFrame({'Neighbor':I[0], 'Distance':dist[0]})\n",
    "compute_recall(list(NNs_IVFHNSWPQ.Neighbor), list(NNs.Neighbor))"
   ]
  },
  {
   "cell_type": "markdown",
   "metadata": {},
   "source": [
    "Increasing `n_prob` has improved recall considerably. \n",
    "\n",
    "Execute the code in the cell below to perform queries using the 1000 randomly sampled vectors.   "
   ]
  },
  {
   "cell_type": "code",
   "execution_count": null,
   "metadata": {
    "colab": {
     "base_uri": "https://localhost:8080/",
     "height": 241
    },
    "id": "PycBmOKwRmoW",
    "outputId": "9bc13190-6570-467d-81d4-b93f728c4b12"
   },
   "outputs": [],
   "source": [
    "%time dist, I_IVFHNSWPQ_1000 = index_IVFHNSWPQ.search(sift1m_numpy_test[indx,:], k)\n",
    "compute_mean_recall(I_IVFHNSWPQ_1000, I_l2_1000)"
   ]
  },
  {
   "cell_type": "markdown",
   "metadata": {},
   "source": [
    "We have now explored just two of many possible composite index constructions. Within the limits of memory and query time, we can create indexes with better recall performance if the solution requires it. "
   ]
  },
  {
   "cell_type": "markdown",
   "metadata": {
    "id": "a3MpsUx3tvYr"
   },
   "source": [
    "> **Exercise 4-06:** Now you will analyze the performance of the composite indices and compare these algorithms to the basic algorithms. To start, fill in the table shown with the performance characteristics of the composite index algorithms, memory used, total time for 1000 queries, recall@20 for the 1000 queries and recall@100 for the 1000 queries. You need only report the results to 2 significant digits."
   ]
  },
  {
   "cell_type": "markdown",
   "metadata": {
    "id": "gCNDLdPut6An"
   },
   "source": [
    "| Index combination | Memory Used MB | Query Time S | Recall @20 | Recall @100 |\n",
    "| :-------- | :---------: | :--------: | :--------: | :---------: |\n",
    "| OPQ32,IMI2x8,PQ32     |        |     |       |         |\n",
    "| OPQ32,IVF4096_HNSW,PQ32    |          |     |        |    |"
   ]
  },
  {
   "cell_type": "markdown",
   "metadata": {
    "id": "jE8G9f9jvvpU"
   },
   "source": [
    "> Compare the results for the two composite algorithms in the above table and the results for the basic indices in the table you prepared earlier and answer these questions:     \n",
    "> 1. In one of a few sentences, describe how the performance characteristics of the composite indices compare to the basic indices.    \n",
    "> 2. In one or a few sentences, describe the similarities and differences between the two composite indices.\n",
    "> 3. Describe how the coarse quantization step of the composite indices improves the performance characteristics. How does the different choices of coarse quantizer explain the difference performance characteristics of the two composite indices.\n",
    "> 4. For the IMI coarse index what hypterparameter can you change to improve overall performance and at what cost in performance? Don't confuse this question with the possibility of increasing query `n_prob` at the expense time.  \n",
    "> 5. For the IVF_HNSW coarse index what two hypterparameters can you change to improve overall performance and at what cost in performance? Don't confuse this question with the possibility of increasing query `n_prob` at the expense time. \n",
    "> 6. Which two performance characteristics of the composite indices does the OPQ algorithm improve and why?"
   ]
  },
  {
   "cell_type": "markdown",
   "metadata": {
    "id": "UcB_gKqS2Irn"
   },
   "source": [
    "> **Answers:**      \n",
    "> 1.        \n",
    "> 2.       \n",
    "> 3.       \n",
    "> 4.       \n",
    "> 5.        \n",
    "> 6.         "
   ]
  },
  {
   "cell_type": "markdown",
   "metadata": {
    "id": "W7sCICGVH1Bv"
   },
   "source": [
    "#### Copyright 2024, 2025, Stephen F Elston. All rights reserved."
   ]
  },
  {
   "cell_type": "code",
   "execution_count": null,
   "metadata": {
    "id": "W0OQHNC01Oas"
   },
   "outputs": [],
   "source": []
  }
 ],
 "metadata": {
  "accelerator": "GPU",
  "colab": {
   "gpuType": "A100",
   "machine_shape": "hm",
   "provenance": []
  },
  "kernelspec": {
   "display_name": "Python 3 (ipykernel)",
   "language": "python",
   "name": "python3"
  },
  "language_info": {
   "codemirror_mode": {
    "name": "ipython",
    "version": 3
   },
   "file_extension": ".py",
   "mimetype": "text/x-python",
   "name": "python",
   "nbconvert_exporter": "python",
   "pygments_lexer": "ipython3",
   "version": "3.12.7"
  },
  "widgets": {
   "application/vnd.jupyter.widget-state+json": {
    "00f06bc3b1bd492c9cb29dcb5ac7329c": {
     "model_module": "@jupyter-widgets/base",
     "model_module_version": "1.2.0",
     "model_name": "LayoutModel",
     "state": {
      "_model_module": "@jupyter-widgets/base",
      "_model_module_version": "1.2.0",
      "_model_name": "LayoutModel",
      "_view_count": null,
      "_view_module": "@jupyter-widgets/base",
      "_view_module_version": "1.2.0",
      "_view_name": "LayoutView",
      "align_content": null,
      "align_items": null,
      "align_self": null,
      "border": null,
      "bottom": null,
      "display": null,
      "flex": null,
      "flex_flow": null,
      "grid_area": null,
      "grid_auto_columns": null,
      "grid_auto_flow": null,
      "grid_auto_rows": null,
      "grid_column": null,
      "grid_gap": null,
      "grid_row": null,
      "grid_template_areas": null,
      "grid_template_columns": null,
      "grid_template_rows": null,
      "height": null,
      "justify_content": null,
      "justify_items": null,
      "left": null,
      "margin": null,
      "max_height": null,
      "max_width": null,
      "min_height": null,
      "min_width": null,
      "object_fit": null,
      "object_position": null,
      "order": null,
      "overflow": null,
      "overflow_x": null,
      "overflow_y": null,
      "padding": null,
      "right": null,
      "top": null,
      "visibility": null,
      "width": null
     }
    },
    "01b0cfee5bb34af3baaf30e57f2eb127": {
     "model_module": "@jupyter-widgets/controls",
     "model_module_version": "1.5.0",
     "model_name": "DescriptionStyleModel",
     "state": {
      "_model_module": "@jupyter-widgets/controls",
      "_model_module_version": "1.5.0",
      "_model_name": "DescriptionStyleModel",
      "_view_count": null,
      "_view_module": "@jupyter-widgets/base",
      "_view_module_version": "1.2.0",
      "_view_name": "StyleView",
      "description_width": ""
     }
    },
    "042979dfa9b54e6eaae2071b45b8a994": {
     "model_module": "@jupyter-widgets/base",
     "model_module_version": "1.2.0",
     "model_name": "LayoutModel",
     "state": {
      "_model_module": "@jupyter-widgets/base",
      "_model_module_version": "1.2.0",
      "_model_name": "LayoutModel",
      "_view_count": null,
      "_view_module": "@jupyter-widgets/base",
      "_view_module_version": "1.2.0",
      "_view_name": "LayoutView",
      "align_content": null,
      "align_items": null,
      "align_self": null,
      "border": null,
      "bottom": null,
      "display": null,
      "flex": null,
      "flex_flow": null,
      "grid_area": null,
      "grid_auto_columns": null,
      "grid_auto_flow": null,
      "grid_auto_rows": null,
      "grid_column": null,
      "grid_gap": null,
      "grid_row": null,
      "grid_template_areas": null,
      "grid_template_columns": null,
      "grid_template_rows": null,
      "height": null,
      "justify_content": null,
      "justify_items": null,
      "left": null,
      "margin": null,
      "max_height": null,
      "max_width": null,
      "min_height": null,
      "min_width": null,
      "object_fit": null,
      "object_position": null,
      "order": null,
      "overflow": null,
      "overflow_x": null,
      "overflow_y": null,
      "padding": null,
      "right": null,
      "top": null,
      "visibility": null,
      "width": null
     }
    },
    "052e07593e31499992f177fc84da6445": {
     "model_module": "@jupyter-widgets/controls",
     "model_module_version": "1.5.0",
     "model_name": "HTMLModel",
     "state": {
      "_dom_classes": [],
      "_model_module": "@jupyter-widgets/controls",
      "_model_module_version": "1.5.0",
      "_model_name": "HTMLModel",
      "_view_count": null,
      "_view_module": "@jupyter-widgets/controls",
      "_view_module_version": "1.5.0",
      "_view_name": "HTMLView",
      "description": "",
      "description_tooltip": null,
      "layout": "IPY_MODEL_f1b4b46c05474e1388786bb6303e9f44",
      "placeholder": "​",
      "style": "IPY_MODEL_a8854cde2e8f469f811d6fe038ae2ee5",
      "value": " 0/0 [00:04&lt;?, ? file/s]"
     }
    },
    "07d4ebeb52c54858b4a5f86c9996c117": {
     "model_module": "@jupyter-widgets/controls",
     "model_module_version": "1.5.0",
     "model_name": "DescriptionStyleModel",
     "state": {
      "_model_module": "@jupyter-widgets/controls",
      "_model_module_version": "1.5.0",
      "_model_name": "DescriptionStyleModel",
      "_view_count": null,
      "_view_module": "@jupyter-widgets/base",
      "_view_module_version": "1.2.0",
      "_view_name": "StyleView",
      "description_width": ""
     }
    },
    "0889aaa8df6e400781b243f16253e424": {
     "model_module": "@jupyter-widgets/controls",
     "model_module_version": "1.5.0",
     "model_name": "DescriptionStyleModel",
     "state": {
      "_model_module": "@jupyter-widgets/controls",
      "_model_module_version": "1.5.0",
      "_model_name": "DescriptionStyleModel",
      "_view_count": null,
      "_view_module": "@jupyter-widgets/base",
      "_view_module_version": "1.2.0",
      "_view_name": "StyleView",
      "description_width": ""
     }
    },
    "09e67ba0709d4ea5bb38ca10f1606e00": {
     "model_module": "@jupyter-widgets/base",
     "model_module_version": "1.2.0",
     "model_name": "LayoutModel",
     "state": {
      "_model_module": "@jupyter-widgets/base",
      "_model_module_version": "1.2.0",
      "_model_name": "LayoutModel",
      "_view_count": null,
      "_view_module": "@jupyter-widgets/base",
      "_view_module_version": "1.2.0",
      "_view_name": "LayoutView",
      "align_content": null,
      "align_items": null,
      "align_self": null,
      "border": null,
      "bottom": null,
      "display": null,
      "flex": null,
      "flex_flow": null,
      "grid_area": null,
      "grid_auto_columns": null,
      "grid_auto_flow": null,
      "grid_auto_rows": null,
      "grid_column": null,
      "grid_gap": null,
      "grid_row": null,
      "grid_template_areas": null,
      "grid_template_columns": null,
      "grid_template_rows": null,
      "height": null,
      "justify_content": null,
      "justify_items": null,
      "left": null,
      "margin": null,
      "max_height": null,
      "max_width": null,
      "min_height": null,
      "min_width": null,
      "object_fit": null,
      "object_position": null,
      "order": null,
      "overflow": null,
      "overflow_x": null,
      "overflow_y": null,
      "padding": null,
      "right": null,
      "top": null,
      "visibility": null,
      "width": "20px"
     }
    },
    "0a98e1e51afc45e6867cb8622abb38b0": {
     "model_module": "@jupyter-widgets/controls",
     "model_module_version": "1.5.0",
     "model_name": "ProgressStyleModel",
     "state": {
      "_model_module": "@jupyter-widgets/controls",
      "_model_module_version": "1.5.0",
      "_model_name": "ProgressStyleModel",
      "_view_count": null,
      "_view_module": "@jupyter-widgets/base",
      "_view_module_version": "1.2.0",
      "_view_name": "StyleView",
      "bar_color": null,
      "description_width": ""
     }
    },
    "10afc82dd5434fa6bcf43c3820192bed": {
     "model_module": "@jupyter-widgets/base",
     "model_module_version": "1.2.0",
     "model_name": "LayoutModel",
     "state": {
      "_model_module": "@jupyter-widgets/base",
      "_model_module_version": "1.2.0",
      "_model_name": "LayoutModel",
      "_view_count": null,
      "_view_module": "@jupyter-widgets/base",
      "_view_module_version": "1.2.0",
      "_view_name": "LayoutView",
      "align_content": null,
      "align_items": null,
      "align_self": null,
      "border": null,
      "bottom": null,
      "display": null,
      "flex": null,
      "flex_flow": null,
      "grid_area": null,
      "grid_auto_columns": null,
      "grid_auto_flow": null,
      "grid_auto_rows": null,
      "grid_column": null,
      "grid_gap": null,
      "grid_row": null,
      "grid_template_areas": null,
      "grid_template_columns": null,
      "grid_template_rows": null,
      "height": null,
      "justify_content": null,
      "justify_items": null,
      "left": null,
      "margin": null,
      "max_height": null,
      "max_width": null,
      "min_height": null,
      "min_width": null,
      "object_fit": null,
      "object_position": null,
      "order": null,
      "overflow": null,
      "overflow_x": null,
      "overflow_y": null,
      "padding": null,
      "right": null,
      "top": null,
      "visibility": null,
      "width": null
     }
    },
    "1157e831dfc248698fbc097fb8c61e59": {
     "model_module": "@jupyter-widgets/controls",
     "model_module_version": "1.5.0",
     "model_name": "HBoxModel",
     "state": {
      "_dom_classes": [],
      "_model_module": "@jupyter-widgets/controls",
      "_model_module_version": "1.5.0",
      "_model_name": "HBoxModel",
      "_view_count": null,
      "_view_module": "@jupyter-widgets/controls",
      "_view_module_version": "1.5.0",
      "_view_name": "HBoxView",
      "box_style": "",
      "children": [
       "IPY_MODEL_1ca1174ff02843d9a5ea7ca4dee1a03a",
       "IPY_MODEL_d70590d4c9324b4f959c09775e6cdaca",
       "IPY_MODEL_052e07593e31499992f177fc84da6445"
      ],
      "layout": "IPY_MODEL_f7e304bacd3d457a925c59a8139c2d31"
     }
    },
    "1398d3ca4b664fc4b524271607b063f1": {
     "model_module": "@jupyter-widgets/controls",
     "model_module_version": "1.5.0",
     "model_name": "FloatProgressModel",
     "state": {
      "_dom_classes": [],
      "_model_module": "@jupyter-widgets/controls",
      "_model_module_version": "1.5.0",
      "_model_name": "FloatProgressModel",
      "_view_count": null,
      "_view_module": "@jupyter-widgets/controls",
      "_view_module_version": "1.5.0",
      "_view_name": "ProgressView",
      "bar_style": "success",
      "description": "",
      "description_tooltip": null,
      "layout": "IPY_MODEL_f526f8653d9543db9c5b03be44b745ba",
      "max": 1,
      "min": 0,
      "orientation": "horizontal",
      "style": "IPY_MODEL_d01ce9851ea54a759256d3d0032dc149",
      "value": 1
     }
    },
    "14c5023a1d8247b79575eef9c21225e9": {
     "model_module": "@jupyter-widgets/base",
     "model_module_version": "1.2.0",
     "model_name": "LayoutModel",
     "state": {
      "_model_module": "@jupyter-widgets/base",
      "_model_module_version": "1.2.0",
      "_model_name": "LayoutModel",
      "_view_count": null,
      "_view_module": "@jupyter-widgets/base",
      "_view_module_version": "1.2.0",
      "_view_name": "LayoutView",
      "align_content": null,
      "align_items": null,
      "align_self": null,
      "border": null,
      "bottom": null,
      "display": null,
      "flex": null,
      "flex_flow": null,
      "grid_area": null,
      "grid_auto_columns": null,
      "grid_auto_flow": null,
      "grid_auto_rows": null,
      "grid_column": null,
      "grid_gap": null,
      "grid_row": null,
      "grid_template_areas": null,
      "grid_template_columns": null,
      "grid_template_rows": null,
      "height": null,
      "justify_content": null,
      "justify_items": null,
      "left": null,
      "margin": null,
      "max_height": null,
      "max_width": null,
      "min_height": null,
      "min_width": null,
      "object_fit": null,
      "object_position": null,
      "order": null,
      "overflow": null,
      "overflow_x": null,
      "overflow_y": null,
      "padding": null,
      "right": null,
      "top": null,
      "visibility": null,
      "width": null
     }
    },
    "16312faa538441f4b9fe590d2545f9eb": {
     "model_module": "@jupyter-widgets/base",
     "model_module_version": "1.2.0",
     "model_name": "LayoutModel",
     "state": {
      "_model_module": "@jupyter-widgets/base",
      "_model_module_version": "1.2.0",
      "_model_name": "LayoutModel",
      "_view_count": null,
      "_view_module": "@jupyter-widgets/base",
      "_view_module_version": "1.2.0",
      "_view_name": "LayoutView",
      "align_content": null,
      "align_items": null,
      "align_self": null,
      "border": null,
      "bottom": null,
      "display": null,
      "flex": null,
      "flex_flow": null,
      "grid_area": null,
      "grid_auto_columns": null,
      "grid_auto_flow": null,
      "grid_auto_rows": null,
      "grid_column": null,
      "grid_gap": null,
      "grid_row": null,
      "grid_template_areas": null,
      "grid_template_columns": null,
      "grid_template_rows": null,
      "height": null,
      "justify_content": null,
      "justify_items": null,
      "left": null,
      "margin": null,
      "max_height": null,
      "max_width": null,
      "min_height": null,
      "min_width": null,
      "object_fit": null,
      "object_position": null,
      "order": null,
      "overflow": null,
      "overflow_x": null,
      "overflow_y": null,
      "padding": null,
      "right": null,
      "top": null,
      "visibility": null,
      "width": null
     }
    },
    "1bedc3940bb54027b9249ef2d7942cb1": {
     "model_module": "@jupyter-widgets/controls",
     "model_module_version": "1.5.0",
     "model_name": "DescriptionStyleModel",
     "state": {
      "_model_module": "@jupyter-widgets/controls",
      "_model_module_version": "1.5.0",
      "_model_name": "DescriptionStyleModel",
      "_view_count": null,
      "_view_module": "@jupyter-widgets/base",
      "_view_module_version": "1.2.0",
      "_view_name": "StyleView",
      "description_width": ""
     }
    },
    "1ca1174ff02843d9a5ea7ca4dee1a03a": {
     "model_module": "@jupyter-widgets/controls",
     "model_module_version": "1.5.0",
     "model_name": "HTMLModel",
     "state": {
      "_dom_classes": [],
      "_model_module": "@jupyter-widgets/controls",
      "_model_module_version": "1.5.0",
      "_model_name": "HTMLModel",
      "_view_count": null,
      "_view_module": "@jupyter-widgets/controls",
      "_view_module_version": "1.5.0",
      "_view_name": "HTMLView",
      "description": "",
      "description_tooltip": null,
      "layout": "IPY_MODEL_9668b75d4758466d8c36fd54457b4f6b",
      "placeholder": "​",
      "style": "IPY_MODEL_cd34b62277a744a9b6457d7e825636c1",
      "value": "Extraction completed...: "
     }
    },
    "1dc3ed1ddbcc4e4d8e358758f433143b": {
     "model_module": "@jupyter-widgets/base",
     "model_module_version": "1.2.0",
     "model_name": "LayoutModel",
     "state": {
      "_model_module": "@jupyter-widgets/base",
      "_model_module_version": "1.2.0",
      "_model_name": "LayoutModel",
      "_view_count": null,
      "_view_module": "@jupyter-widgets/base",
      "_view_module_version": "1.2.0",
      "_view_name": "LayoutView",
      "align_content": null,
      "align_items": null,
      "align_self": null,
      "border": null,
      "bottom": null,
      "display": null,
      "flex": null,
      "flex_flow": null,
      "grid_area": null,
      "grid_auto_columns": null,
      "grid_auto_flow": null,
      "grid_auto_rows": null,
      "grid_column": null,
      "grid_gap": null,
      "grid_row": null,
      "grid_template_areas": null,
      "grid_template_columns": null,
      "grid_template_rows": null,
      "height": null,
      "justify_content": null,
      "justify_items": null,
      "left": null,
      "margin": null,
      "max_height": null,
      "max_width": null,
      "min_height": null,
      "min_width": null,
      "object_fit": null,
      "object_position": null,
      "order": null,
      "overflow": null,
      "overflow_x": null,
      "overflow_y": null,
      "padding": null,
      "right": null,
      "top": null,
      "visibility": null,
      "width": "20px"
     }
    },
    "2002d203c8b14599831410737d8b0fbd": {
     "model_module": "@jupyter-widgets/controls",
     "model_module_version": "1.5.0",
     "model_name": "DescriptionStyleModel",
     "state": {
      "_model_module": "@jupyter-widgets/controls",
      "_model_module_version": "1.5.0",
      "_model_name": "DescriptionStyleModel",
      "_view_count": null,
      "_view_module": "@jupyter-widgets/base",
      "_view_module_version": "1.2.0",
      "_view_name": "StyleView",
      "description_width": ""
     }
    },
    "264a3148aaf24a85bcc833584eec47c6": {
     "model_module": "@jupyter-widgets/base",
     "model_module_version": "1.2.0",
     "model_name": "LayoutModel",
     "state": {
      "_model_module": "@jupyter-widgets/base",
      "_model_module_version": "1.2.0",
      "_model_name": "LayoutModel",
      "_view_count": null,
      "_view_module": "@jupyter-widgets/base",
      "_view_module_version": "1.2.0",
      "_view_name": "LayoutView",
      "align_content": null,
      "align_items": null,
      "align_self": null,
      "border": null,
      "bottom": null,
      "display": null,
      "flex": null,
      "flex_flow": null,
      "grid_area": null,
      "grid_auto_columns": null,
      "grid_auto_flow": null,
      "grid_auto_rows": null,
      "grid_column": null,
      "grid_gap": null,
      "grid_row": null,
      "grid_template_areas": null,
      "grid_template_columns": null,
      "grid_template_rows": null,
      "height": null,
      "justify_content": null,
      "justify_items": null,
      "left": null,
      "margin": null,
      "max_height": null,
      "max_width": null,
      "min_height": null,
      "min_width": null,
      "object_fit": null,
      "object_position": null,
      "order": null,
      "overflow": null,
      "overflow_x": null,
      "overflow_y": null,
      "padding": null,
      "right": null,
      "top": null,
      "visibility": null,
      "width": null
     }
    },
    "268ae6606a434dceb26db7726c68dd2c": {
     "model_module": "@jupyter-widgets/base",
     "model_module_version": "1.2.0",
     "model_name": "LayoutModel",
     "state": {
      "_model_module": "@jupyter-widgets/base",
      "_model_module_version": "1.2.0",
      "_model_name": "LayoutModel",
      "_view_count": null,
      "_view_module": "@jupyter-widgets/base",
      "_view_module_version": "1.2.0",
      "_view_name": "LayoutView",
      "align_content": null,
      "align_items": null,
      "align_self": null,
      "border": null,
      "bottom": null,
      "display": null,
      "flex": null,
      "flex_flow": null,
      "grid_area": null,
      "grid_auto_columns": null,
      "grid_auto_flow": null,
      "grid_auto_rows": null,
      "grid_column": null,
      "grid_gap": null,
      "grid_row": null,
      "grid_template_areas": null,
      "grid_template_columns": null,
      "grid_template_rows": null,
      "height": null,
      "justify_content": null,
      "justify_items": null,
      "left": null,
      "margin": null,
      "max_height": null,
      "max_width": null,
      "min_height": null,
      "min_width": null,
      "object_fit": null,
      "object_position": null,
      "order": null,
      "overflow": null,
      "overflow_x": null,
      "overflow_y": null,
      "padding": null,
      "right": null,
      "top": null,
      "visibility": null,
      "width": null
     }
    },
    "326c6fb2b54b4e199f78228b9dc72859": {
     "model_module": "@jupyter-widgets/base",
     "model_module_version": "1.2.0",
     "model_name": "LayoutModel",
     "state": {
      "_model_module": "@jupyter-widgets/base",
      "_model_module_version": "1.2.0",
      "_model_name": "LayoutModel",
      "_view_count": null,
      "_view_module": "@jupyter-widgets/base",
      "_view_module_version": "1.2.0",
      "_view_name": "LayoutView",
      "align_content": null,
      "align_items": null,
      "align_self": null,
      "border": null,
      "bottom": null,
      "display": null,
      "flex": null,
      "flex_flow": null,
      "grid_area": null,
      "grid_auto_columns": null,
      "grid_auto_flow": null,
      "grid_auto_rows": null,
      "grid_column": null,
      "grid_gap": null,
      "grid_row": null,
      "grid_template_areas": null,
      "grid_template_columns": null,
      "grid_template_rows": null,
      "height": null,
      "justify_content": null,
      "justify_items": null,
      "left": null,
      "margin": null,
      "max_height": null,
      "max_width": null,
      "min_height": null,
      "min_width": null,
      "object_fit": null,
      "object_position": null,
      "order": null,
      "overflow": null,
      "overflow_x": null,
      "overflow_y": null,
      "padding": null,
      "right": null,
      "top": null,
      "visibility": null,
      "width": null
     }
    },
    "33534df6409940619d704c6a0786c7ff": {
     "model_module": "@jupyter-widgets/base",
     "model_module_version": "1.2.0",
     "model_name": "LayoutModel",
     "state": {
      "_model_module": "@jupyter-widgets/base",
      "_model_module_version": "1.2.0",
      "_model_name": "LayoutModel",
      "_view_count": null,
      "_view_module": "@jupyter-widgets/base",
      "_view_module_version": "1.2.0",
      "_view_name": "LayoutView",
      "align_content": null,
      "align_items": null,
      "align_self": null,
      "border": null,
      "bottom": null,
      "display": null,
      "flex": null,
      "flex_flow": null,
      "grid_area": null,
      "grid_auto_columns": null,
      "grid_auto_flow": null,
      "grid_auto_rows": null,
      "grid_column": null,
      "grid_gap": null,
      "grid_row": null,
      "grid_template_areas": null,
      "grid_template_columns": null,
      "grid_template_rows": null,
      "height": null,
      "justify_content": null,
      "justify_items": null,
      "left": null,
      "margin": null,
      "max_height": null,
      "max_width": null,
      "min_height": null,
      "min_width": null,
      "object_fit": null,
      "object_position": null,
      "order": null,
      "overflow": null,
      "overflow_x": null,
      "overflow_y": null,
      "padding": null,
      "right": null,
      "top": null,
      "visibility": null,
      "width": null
     }
    },
    "34eab6f4527a4841aac44826f509cbc9": {
     "model_module": "@jupyter-widgets/base",
     "model_module_version": "1.2.0",
     "model_name": "LayoutModel",
     "state": {
      "_model_module": "@jupyter-widgets/base",
      "_model_module_version": "1.2.0",
      "_model_name": "LayoutModel",
      "_view_count": null,
      "_view_module": "@jupyter-widgets/base",
      "_view_module_version": "1.2.0",
      "_view_name": "LayoutView",
      "align_content": null,
      "align_items": null,
      "align_self": null,
      "border": null,
      "bottom": null,
      "display": null,
      "flex": null,
      "flex_flow": null,
      "grid_area": null,
      "grid_auto_columns": null,
      "grid_auto_flow": null,
      "grid_auto_rows": null,
      "grid_column": null,
      "grid_gap": null,
      "grid_row": null,
      "grid_template_areas": null,
      "grid_template_columns": null,
      "grid_template_rows": null,
      "height": null,
      "justify_content": null,
      "justify_items": null,
      "left": null,
      "margin": null,
      "max_height": null,
      "max_width": null,
      "min_height": null,
      "min_width": null,
      "object_fit": null,
      "object_position": null,
      "order": null,
      "overflow": null,
      "overflow_x": null,
      "overflow_y": null,
      "padding": null,
      "right": null,
      "top": null,
      "visibility": null,
      "width": null
     }
    },
    "3924801b9b794a628b373e6fe92a3d4d": {
     "model_module": "@jupyter-widgets/base",
     "model_module_version": "1.2.0",
     "model_name": "LayoutModel",
     "state": {
      "_model_module": "@jupyter-widgets/base",
      "_model_module_version": "1.2.0",
      "_model_name": "LayoutModel",
      "_view_count": null,
      "_view_module": "@jupyter-widgets/base",
      "_view_module_version": "1.2.0",
      "_view_name": "LayoutView",
      "align_content": null,
      "align_items": null,
      "align_self": null,
      "border": null,
      "bottom": null,
      "display": null,
      "flex": null,
      "flex_flow": null,
      "grid_area": null,
      "grid_auto_columns": null,
      "grid_auto_flow": null,
      "grid_auto_rows": null,
      "grid_column": null,
      "grid_gap": null,
      "grid_row": null,
      "grid_template_areas": null,
      "grid_template_columns": null,
      "grid_template_rows": null,
      "height": null,
      "justify_content": null,
      "justify_items": null,
      "left": null,
      "margin": null,
      "max_height": null,
      "max_width": null,
      "min_height": null,
      "min_width": null,
      "object_fit": null,
      "object_position": null,
      "order": null,
      "overflow": null,
      "overflow_x": null,
      "overflow_y": null,
      "padding": null,
      "right": null,
      "top": null,
      "visibility": "hidden",
      "width": null
     }
    },
    "3b87cf0c1ee647c383013b3584258c93": {
     "model_module": "@jupyter-widgets/controls",
     "model_module_version": "1.5.0",
     "model_name": "ProgressStyleModel",
     "state": {
      "_model_module": "@jupyter-widgets/controls",
      "_model_module_version": "1.5.0",
      "_model_name": "ProgressStyleModel",
      "_view_count": null,
      "_view_module": "@jupyter-widgets/base",
      "_view_module_version": "1.2.0",
      "_view_name": "StyleView",
      "bar_color": null,
      "description_width": ""
     }
    },
    "3db1df9489254bafaba324b5afcca304": {
     "model_module": "@jupyter-widgets/controls",
     "model_module_version": "1.5.0",
     "model_name": "HBoxModel",
     "state": {
      "_dom_classes": [],
      "_model_module": "@jupyter-widgets/controls",
      "_model_module_version": "1.5.0",
      "_model_name": "HBoxModel",
      "_view_count": null,
      "_view_module": "@jupyter-widgets/controls",
      "_view_module_version": "1.5.0",
      "_view_name": "HBoxView",
      "box_style": "",
      "children": [
       "IPY_MODEL_89ad0071b6f849d490f3dbc346566364",
       "IPY_MODEL_8495eaf4c4a94a55919056d20f024d83",
       "IPY_MODEL_f25a0c3e497147a0b09c485a40f9d68d"
      ],
      "layout": "IPY_MODEL_55cfd8ae736347efae85c18a8abb8757"
     }
    },
    "3e9a92140e694583af9934336d538579": {
     "model_module": "@jupyter-widgets/base",
     "model_module_version": "1.2.0",
     "model_name": "LayoutModel",
     "state": {
      "_model_module": "@jupyter-widgets/base",
      "_model_module_version": "1.2.0",
      "_model_name": "LayoutModel",
      "_view_count": null,
      "_view_module": "@jupyter-widgets/base",
      "_view_module_version": "1.2.0",
      "_view_name": "LayoutView",
      "align_content": null,
      "align_items": null,
      "align_self": null,
      "border": null,
      "bottom": null,
      "display": null,
      "flex": null,
      "flex_flow": null,
      "grid_area": null,
      "grid_auto_columns": null,
      "grid_auto_flow": null,
      "grid_auto_rows": null,
      "grid_column": null,
      "grid_gap": null,
      "grid_row": null,
      "grid_template_areas": null,
      "grid_template_columns": null,
      "grid_template_rows": null,
      "height": null,
      "justify_content": null,
      "justify_items": null,
      "left": null,
      "margin": null,
      "max_height": null,
      "max_width": null,
      "min_height": null,
      "min_width": null,
      "object_fit": null,
      "object_position": null,
      "order": null,
      "overflow": null,
      "overflow_x": null,
      "overflow_y": null,
      "padding": null,
      "right": null,
      "top": null,
      "visibility": "hidden",
      "width": null
     }
    },
    "411116968c0240ebb2ddfaa6e7b9b1e4": {
     "model_module": "@jupyter-widgets/controls",
     "model_module_version": "1.5.0",
     "model_name": "DescriptionStyleModel",
     "state": {
      "_model_module": "@jupyter-widgets/controls",
      "_model_module_version": "1.5.0",
      "_model_name": "DescriptionStyleModel",
      "_view_count": null,
      "_view_module": "@jupyter-widgets/base",
      "_view_module_version": "1.2.0",
      "_view_name": "StyleView",
      "description_width": ""
     }
    },
    "46b7176f8391432cbca51b725e353133": {
     "model_module": "@jupyter-widgets/controls",
     "model_module_version": "1.5.0",
     "model_name": "HTMLModel",
     "state": {
      "_dom_classes": [],
      "_model_module": "@jupyter-widgets/controls",
      "_model_module_version": "1.5.0",
      "_model_name": "HTMLModel",
      "_view_count": null,
      "_view_module": "@jupyter-widgets/controls",
      "_view_module_version": "1.5.0",
      "_view_name": "HTMLView",
      "description": "",
      "description_tooltip": null,
      "layout": "IPY_MODEL_7de8e58335d44d0a8c69f41e60b5088b",
      "placeholder": "​",
      "style": "IPY_MODEL_93176ffc36b045e78d0731320dfba277",
      "value": " 500/500 [00:04&lt;00:00, 110.44 MiB/s]"
     }
    },
    "4792fbdb01054f69a7c1b0201518dd99": {
     "model_module": "@jupyter-widgets/controls",
     "model_module_version": "1.5.0",
     "model_name": "DescriptionStyleModel",
     "state": {
      "_model_module": "@jupyter-widgets/controls",
      "_model_module_version": "1.5.0",
      "_model_name": "DescriptionStyleModel",
      "_view_count": null,
      "_view_module": "@jupyter-widgets/base",
      "_view_module_version": "1.2.0",
      "_view_name": "StyleView",
      "description_width": ""
     }
    },
    "4840cadec22d43aab8c7627d5f01669b": {
     "model_module": "@jupyter-widgets/controls",
     "model_module_version": "1.5.0",
     "model_name": "DescriptionStyleModel",
     "state": {
      "_model_module": "@jupyter-widgets/controls",
      "_model_module_version": "1.5.0",
      "_model_name": "DescriptionStyleModel",
      "_view_count": null,
      "_view_module": "@jupyter-widgets/base",
      "_view_module_version": "1.2.0",
      "_view_name": "StyleView",
      "description_width": ""
     }
    },
    "514557c88c5543bbacc126bf20201529": {
     "model_module": "@jupyter-widgets/controls",
     "model_module_version": "1.5.0",
     "model_name": "HTMLModel",
     "state": {
      "_dom_classes": [],
      "_model_module": "@jupyter-widgets/controls",
      "_model_module_version": "1.5.0",
      "_model_name": "HTMLModel",
      "_view_count": null,
      "_view_module": "@jupyter-widgets/controls",
      "_view_module_version": "1.5.0",
      "_view_name": "HTMLView",
      "description": "",
      "description_tooltip": null,
      "layout": "IPY_MODEL_b1f2e8727da747a6885e01c92d47a2eb",
      "placeholder": "​",
      "style": "IPY_MODEL_07d4ebeb52c54858b4a5f86c9996c117",
      "value": " 0/10000 [00:00&lt;?, ? examples/s]"
     }
    },
    "533cb56cef054e30983881fd8f3cc9f5": {
     "model_module": "@jupyter-widgets/base",
     "model_module_version": "1.2.0",
     "model_name": "LayoutModel",
     "state": {
      "_model_module": "@jupyter-widgets/base",
      "_model_module_version": "1.2.0",
      "_model_name": "LayoutModel",
      "_view_count": null,
      "_view_module": "@jupyter-widgets/base",
      "_view_module_version": "1.2.0",
      "_view_name": "LayoutView",
      "align_content": null,
      "align_items": null,
      "align_self": null,
      "border": null,
      "bottom": null,
      "display": null,
      "flex": null,
      "flex_flow": null,
      "grid_area": null,
      "grid_auto_columns": null,
      "grid_auto_flow": null,
      "grid_auto_rows": null,
      "grid_column": null,
      "grid_gap": null,
      "grid_row": null,
      "grid_template_areas": null,
      "grid_template_columns": null,
      "grid_template_rows": null,
      "height": null,
      "justify_content": null,
      "justify_items": null,
      "left": null,
      "margin": null,
      "max_height": null,
      "max_width": null,
      "min_height": null,
      "min_width": null,
      "object_fit": null,
      "object_position": null,
      "order": null,
      "overflow": null,
      "overflow_x": null,
      "overflow_y": null,
      "padding": null,
      "right": null,
      "top": null,
      "visibility": null,
      "width": null
     }
    },
    "537dfbb5818f4f11af5bb33c40841306": {
     "model_module": "@jupyter-widgets/controls",
     "model_module_version": "1.5.0",
     "model_name": "HTMLModel",
     "state": {
      "_dom_classes": [],
      "_model_module": "@jupyter-widgets/controls",
      "_model_module_version": "1.5.0",
      "_model_name": "HTMLModel",
      "_view_count": null,
      "_view_module": "@jupyter-widgets/controls",
      "_view_module_version": "1.5.0",
      "_view_name": "HTMLView",
      "description": "",
      "description_tooltip": null,
      "layout": "IPY_MODEL_00f06bc3b1bd492c9cb29dcb5ac7329c",
      "placeholder": "​",
      "style": "IPY_MODEL_1bedc3940bb54027b9249ef2d7942cb1",
      "value": " 944082/1000000 [00:02&lt;00:00, 476098.90 examples/s]"
     }
    },
    "55cfd8ae736347efae85c18a8abb8757": {
     "model_module": "@jupyter-widgets/base",
     "model_module_version": "1.2.0",
     "model_name": "LayoutModel",
     "state": {
      "_model_module": "@jupyter-widgets/base",
      "_model_module_version": "1.2.0",
      "_model_name": "LayoutModel",
      "_view_count": null,
      "_view_module": "@jupyter-widgets/base",
      "_view_module_version": "1.2.0",
      "_view_name": "LayoutView",
      "align_content": null,
      "align_items": null,
      "align_self": null,
      "border": null,
      "bottom": null,
      "display": null,
      "flex": null,
      "flex_flow": null,
      "grid_area": null,
      "grid_auto_columns": null,
      "grid_auto_flow": null,
      "grid_auto_rows": null,
      "grid_column": null,
      "grid_gap": null,
      "grid_row": null,
      "grid_template_areas": null,
      "grid_template_columns": null,
      "grid_template_rows": null,
      "height": null,
      "justify_content": null,
      "justify_items": null,
      "left": null,
      "margin": null,
      "max_height": null,
      "max_width": null,
      "min_height": null,
      "min_width": null,
      "object_fit": null,
      "object_position": null,
      "order": null,
      "overflow": null,
      "overflow_x": null,
      "overflow_y": null,
      "padding": null,
      "right": null,
      "top": null,
      "visibility": "hidden",
      "width": null
     }
    },
    "56d0a4d4b443485ca6dc9177ccb7c32f": {
     "model_module": "@jupyter-widgets/base",
     "model_module_version": "1.2.0",
     "model_name": "LayoutModel",
     "state": {
      "_model_module": "@jupyter-widgets/base",
      "_model_module_version": "1.2.0",
      "_model_name": "LayoutModel",
      "_view_count": null,
      "_view_module": "@jupyter-widgets/base",
      "_view_module_version": "1.2.0",
      "_view_name": "LayoutView",
      "align_content": null,
      "align_items": null,
      "align_self": null,
      "border": null,
      "bottom": null,
      "display": null,
      "flex": null,
      "flex_flow": null,
      "grid_area": null,
      "grid_auto_columns": null,
      "grid_auto_flow": null,
      "grid_auto_rows": null,
      "grid_column": null,
      "grid_gap": null,
      "grid_row": null,
      "grid_template_areas": null,
      "grid_template_columns": null,
      "grid_template_rows": null,
      "height": null,
      "justify_content": null,
      "justify_items": null,
      "left": null,
      "margin": null,
      "max_height": null,
      "max_width": null,
      "min_height": null,
      "min_width": null,
      "object_fit": null,
      "object_position": null,
      "order": null,
      "overflow": null,
      "overflow_x": null,
      "overflow_y": null,
      "padding": null,
      "right": null,
      "top": null,
      "visibility": "hidden",
      "width": null
     }
    },
    "575d4ee4ce6d4654af2dbf558c252466": {
     "model_module": "@jupyter-widgets/controls",
     "model_module_version": "1.5.0",
     "model_name": "HBoxModel",
     "state": {
      "_dom_classes": [],
      "_model_module": "@jupyter-widgets/controls",
      "_model_module_version": "1.5.0",
      "_model_name": "HBoxModel",
      "_view_count": null,
      "_view_module": "@jupyter-widgets/controls",
      "_view_module_version": "1.5.0",
      "_view_name": "HBoxView",
      "box_style": "",
      "children": [
       "IPY_MODEL_b7224e5e7592428ba86613d9baae9f49",
       "IPY_MODEL_cd7b4b4553f24da4a6dd2c18f7cc6fab",
       "IPY_MODEL_537dfbb5818f4f11af5bb33c40841306"
      ],
      "layout": "IPY_MODEL_3924801b9b794a628b373e6fe92a3d4d"
     }
    },
    "638887d049c242a88dfe34ec54c3a709": {
     "model_module": "@jupyter-widgets/controls",
     "model_module_version": "1.5.0",
     "model_name": "ProgressStyleModel",
     "state": {
      "_model_module": "@jupyter-widgets/controls",
      "_model_module_version": "1.5.0",
      "_model_name": "ProgressStyleModel",
      "_view_count": null,
      "_view_module": "@jupyter-widgets/base",
      "_view_module_version": "1.2.0",
      "_view_name": "StyleView",
      "bar_color": null,
      "description_width": ""
     }
    },
    "64e165fe1d1446e6b8417b85143b045c": {
     "model_module": "@jupyter-widgets/base",
     "model_module_version": "1.2.0",
     "model_name": "LayoutModel",
     "state": {
      "_model_module": "@jupyter-widgets/base",
      "_model_module_version": "1.2.0",
      "_model_name": "LayoutModel",
      "_view_count": null,
      "_view_module": "@jupyter-widgets/base",
      "_view_module_version": "1.2.0",
      "_view_name": "LayoutView",
      "align_content": null,
      "align_items": null,
      "align_self": null,
      "border": null,
      "bottom": null,
      "display": null,
      "flex": null,
      "flex_flow": null,
      "grid_area": null,
      "grid_auto_columns": null,
      "grid_auto_flow": null,
      "grid_auto_rows": null,
      "grid_column": null,
      "grid_gap": null,
      "grid_row": null,
      "grid_template_areas": null,
      "grid_template_columns": null,
      "grid_template_rows": null,
      "height": null,
      "justify_content": null,
      "justify_items": null,
      "left": null,
      "margin": null,
      "max_height": null,
      "max_width": null,
      "min_height": null,
      "min_width": null,
      "object_fit": null,
      "object_position": null,
      "order": null,
      "overflow": null,
      "overflow_x": null,
      "overflow_y": null,
      "padding": null,
      "right": null,
      "top": null,
      "visibility": null,
      "width": null
     }
    },
    "6d3b903a9b6a474aaa63498e6fc2d5c3": {
     "model_module": "@jupyter-widgets/controls",
     "model_module_version": "1.5.0",
     "model_name": "ProgressStyleModel",
     "state": {
      "_model_module": "@jupyter-widgets/controls",
      "_model_module_version": "1.5.0",
      "_model_name": "ProgressStyleModel",
      "_view_count": null,
      "_view_module": "@jupyter-widgets/base",
      "_view_module_version": "1.2.0",
      "_view_name": "StyleView",
      "bar_color": null,
      "description_width": ""
     }
    },
    "6f2299bbd36a4ca5bc31cb18b509b9c8": {
     "model_module": "@jupyter-widgets/base",
     "model_module_version": "1.2.0",
     "model_name": "LayoutModel",
     "state": {
      "_model_module": "@jupyter-widgets/base",
      "_model_module_version": "1.2.0",
      "_model_name": "LayoutModel",
      "_view_count": null,
      "_view_module": "@jupyter-widgets/base",
      "_view_module_version": "1.2.0",
      "_view_name": "LayoutView",
      "align_content": null,
      "align_items": null,
      "align_self": null,
      "border": null,
      "bottom": null,
      "display": null,
      "flex": null,
      "flex_flow": null,
      "grid_area": null,
      "grid_auto_columns": null,
      "grid_auto_flow": null,
      "grid_auto_rows": null,
      "grid_column": null,
      "grid_gap": null,
      "grid_row": null,
      "grid_template_areas": null,
      "grid_template_columns": null,
      "grid_template_rows": null,
      "height": null,
      "justify_content": null,
      "justify_items": null,
      "left": null,
      "margin": null,
      "max_height": null,
      "max_width": null,
      "min_height": null,
      "min_width": null,
      "object_fit": null,
      "object_position": null,
      "order": null,
      "overflow": null,
      "overflow_x": null,
      "overflow_y": null,
      "padding": null,
      "right": null,
      "top": null,
      "visibility": null,
      "width": "20px"
     }
    },
    "728fa361028d45a5b684bf0ac88b9dd6": {
     "model_module": "@jupyter-widgets/controls",
     "model_module_version": "1.5.0",
     "model_name": "DescriptionStyleModel",
     "state": {
      "_model_module": "@jupyter-widgets/controls",
      "_model_module_version": "1.5.0",
      "_model_name": "DescriptionStyleModel",
      "_view_count": null,
      "_view_module": "@jupyter-widgets/base",
      "_view_module_version": "1.2.0",
      "_view_name": "StyleView",
      "description_width": ""
     }
    },
    "75c441075dda410b9ea8daf031f7af5d": {
     "model_module": "@jupyter-widgets/controls",
     "model_module_version": "1.5.0",
     "model_name": "ProgressStyleModel",
     "state": {
      "_model_module": "@jupyter-widgets/controls",
      "_model_module_version": "1.5.0",
      "_model_name": "ProgressStyleModel",
      "_view_count": null,
      "_view_module": "@jupyter-widgets/base",
      "_view_module_version": "1.2.0",
      "_view_name": "StyleView",
      "bar_color": null,
      "description_width": ""
     }
    },
    "75eba347cfd8444eb4dfc6afae2591ac": {
     "model_module": "@jupyter-widgets/controls",
     "model_module_version": "1.5.0",
     "model_name": "HBoxModel",
     "state": {
      "_dom_classes": [],
      "_model_module": "@jupyter-widgets/controls",
      "_model_module_version": "1.5.0",
      "_model_name": "HBoxModel",
      "_view_count": null,
      "_view_module": "@jupyter-widgets/controls",
      "_view_module_version": "1.5.0",
      "_view_name": "HBoxView",
      "box_style": "",
      "children": [
       "IPY_MODEL_e938d9a234d94ec6bbb551be7cace6c4",
       "IPY_MODEL_1398d3ca4b664fc4b524271607b063f1",
       "IPY_MODEL_46b7176f8391432cbca51b725e353133"
      ],
      "layout": "IPY_MODEL_8665fb60b140474f9bdea365a380427a"
     }
    },
    "7c15153bb4aa4a69b3485d471082207c": {
     "model_module": "@jupyter-widgets/base",
     "model_module_version": "1.2.0",
     "model_name": "LayoutModel",
     "state": {
      "_model_module": "@jupyter-widgets/base",
      "_model_module_version": "1.2.0",
      "_model_name": "LayoutModel",
      "_view_count": null,
      "_view_module": "@jupyter-widgets/base",
      "_view_module_version": "1.2.0",
      "_view_name": "LayoutView",
      "align_content": null,
      "align_items": null,
      "align_self": null,
      "border": null,
      "bottom": null,
      "display": null,
      "flex": null,
      "flex_flow": null,
      "grid_area": null,
      "grid_auto_columns": null,
      "grid_auto_flow": null,
      "grid_auto_rows": null,
      "grid_column": null,
      "grid_gap": null,
      "grid_row": null,
      "grid_template_areas": null,
      "grid_template_columns": null,
      "grid_template_rows": null,
      "height": null,
      "justify_content": null,
      "justify_items": null,
      "left": null,
      "margin": null,
      "max_height": null,
      "max_width": null,
      "min_height": null,
      "min_width": null,
      "object_fit": null,
      "object_position": null,
      "order": null,
      "overflow": null,
      "overflow_x": null,
      "overflow_y": null,
      "padding": null,
      "right": null,
      "top": null,
      "visibility": null,
      "width": null
     }
    },
    "7de8e58335d44d0a8c69f41e60b5088b": {
     "model_module": "@jupyter-widgets/base",
     "model_module_version": "1.2.0",
     "model_name": "LayoutModel",
     "state": {
      "_model_module": "@jupyter-widgets/base",
      "_model_module_version": "1.2.0",
      "_model_name": "LayoutModel",
      "_view_count": null,
      "_view_module": "@jupyter-widgets/base",
      "_view_module_version": "1.2.0",
      "_view_name": "LayoutView",
      "align_content": null,
      "align_items": null,
      "align_self": null,
      "border": null,
      "bottom": null,
      "display": null,
      "flex": null,
      "flex_flow": null,
      "grid_area": null,
      "grid_auto_columns": null,
      "grid_auto_flow": null,
      "grid_auto_rows": null,
      "grid_column": null,
      "grid_gap": null,
      "grid_row": null,
      "grid_template_areas": null,
      "grid_template_columns": null,
      "grid_template_rows": null,
      "height": null,
      "justify_content": null,
      "justify_items": null,
      "left": null,
      "margin": null,
      "max_height": null,
      "max_width": null,
      "min_height": null,
      "min_width": null,
      "object_fit": null,
      "object_position": null,
      "order": null,
      "overflow": null,
      "overflow_x": null,
      "overflow_y": null,
      "padding": null,
      "right": null,
      "top": null,
      "visibility": null,
      "width": null
     }
    },
    "846a318b777c41139c2e689bbda2f62f": {
     "model_module": "@jupyter-widgets/base",
     "model_module_version": "1.2.0",
     "model_name": "LayoutModel",
     "state": {
      "_model_module": "@jupyter-widgets/base",
      "_model_module_version": "1.2.0",
      "_model_name": "LayoutModel",
      "_view_count": null,
      "_view_module": "@jupyter-widgets/base",
      "_view_module_version": "1.2.0",
      "_view_name": "LayoutView",
      "align_content": null,
      "align_items": null,
      "align_self": null,
      "border": null,
      "bottom": null,
      "display": null,
      "flex": null,
      "flex_flow": null,
      "grid_area": null,
      "grid_auto_columns": null,
      "grid_auto_flow": null,
      "grid_auto_rows": null,
      "grid_column": null,
      "grid_gap": null,
      "grid_row": null,
      "grid_template_areas": null,
      "grid_template_columns": null,
      "grid_template_rows": null,
      "height": null,
      "justify_content": null,
      "justify_items": null,
      "left": null,
      "margin": null,
      "max_height": null,
      "max_width": null,
      "min_height": null,
      "min_width": null,
      "object_fit": null,
      "object_position": null,
      "order": null,
      "overflow": null,
      "overflow_x": null,
      "overflow_y": null,
      "padding": null,
      "right": null,
      "top": null,
      "visibility": null,
      "width": null
     }
    },
    "8495eaf4c4a94a55919056d20f024d83": {
     "model_module": "@jupyter-widgets/controls",
     "model_module_version": "1.5.0",
     "model_name": "FloatProgressModel",
     "state": {
      "_dom_classes": [],
      "_model_module": "@jupyter-widgets/controls",
      "_model_module_version": "1.5.0",
      "_model_name": "FloatProgressModel",
      "_view_count": null,
      "_view_module": "@jupyter-widgets/controls",
      "_view_module_version": "1.5.0",
      "_view_name": "ProgressView",
      "bar_style": "info",
      "description": "",
      "description_tooltip": null,
      "layout": "IPY_MODEL_9663be3ec74e464aa881ce3fac5ab6a6",
      "max": 1,
      "min": 0,
      "orientation": "horizontal",
      "style": "IPY_MODEL_efd976de9e6f46ab9fccfdced562239f",
      "value": 1
     }
    },
    "8665fb60b140474f9bdea365a380427a": {
     "model_module": "@jupyter-widgets/base",
     "model_module_version": "1.2.0",
     "model_name": "LayoutModel",
     "state": {
      "_model_module": "@jupyter-widgets/base",
      "_model_module_version": "1.2.0",
      "_model_name": "LayoutModel",
      "_view_count": null,
      "_view_module": "@jupyter-widgets/base",
      "_view_module_version": "1.2.0",
      "_view_name": "LayoutView",
      "align_content": null,
      "align_items": null,
      "align_self": null,
      "border": null,
      "bottom": null,
      "display": null,
      "flex": null,
      "flex_flow": null,
      "grid_area": null,
      "grid_auto_columns": null,
      "grid_auto_flow": null,
      "grid_auto_rows": null,
      "grid_column": null,
      "grid_gap": null,
      "grid_row": null,
      "grid_template_areas": null,
      "grid_template_columns": null,
      "grid_template_rows": null,
      "height": null,
      "justify_content": null,
      "justify_items": null,
      "left": null,
      "margin": null,
      "max_height": null,
      "max_width": null,
      "min_height": null,
      "min_width": null,
      "object_fit": null,
      "object_position": null,
      "order": null,
      "overflow": null,
      "overflow_x": null,
      "overflow_y": null,
      "padding": null,
      "right": null,
      "top": null,
      "visibility": null,
      "width": null
     }
    },
    "86cf3d678bed4b8c8898b2956413dea9": {
     "model_module": "@jupyter-widgets/controls",
     "model_module_version": "1.5.0",
     "model_name": "HBoxModel",
     "state": {
      "_dom_classes": [],
      "_model_module": "@jupyter-widgets/controls",
      "_model_module_version": "1.5.0",
      "_model_name": "HBoxModel",
      "_view_count": null,
      "_view_module": "@jupyter-widgets/controls",
      "_view_module_version": "1.5.0",
      "_view_name": "HBoxView",
      "box_style": "",
      "children": [
       "IPY_MODEL_9905573f58e341558e18583ba665cd77",
       "IPY_MODEL_e1ae8e4e4c284dc489a64e62c1856695",
       "IPY_MODEL_514557c88c5543bbacc126bf20201529"
      ],
      "layout": "IPY_MODEL_3e9a92140e694583af9934336d538579"
     }
    },
    "89ad0071b6f849d490f3dbc346566364": {
     "model_module": "@jupyter-widgets/controls",
     "model_module_version": "1.5.0",
     "model_name": "HTMLModel",
     "state": {
      "_dom_classes": [],
      "_model_module": "@jupyter-widgets/controls",
      "_model_module_version": "1.5.0",
      "_model_name": "HTMLModel",
      "_view_count": null,
      "_view_module": "@jupyter-widgets/controls",
      "_view_module_version": "1.5.0",
      "_view_name": "HTMLView",
      "description": "",
      "description_tooltip": null,
      "layout": "IPY_MODEL_ce8ff118b64c494ebfe63a0c20a0b3f9",
      "placeholder": "​",
      "style": "IPY_MODEL_a4a7b266baa04fe48840bdcdc4d33fbf",
      "value": "Generating test examples...: "
     }
    },
    "8f45a09ae1ba4c2c81acaef63c89d7ae": {
     "model_module": "@jupyter-widgets/controls",
     "model_module_version": "1.5.0",
     "model_name": "HBoxModel",
     "state": {
      "_dom_classes": [],
      "_model_module": "@jupyter-widgets/controls",
      "_model_module_version": "1.5.0",
      "_model_name": "HBoxModel",
      "_view_count": null,
      "_view_module": "@jupyter-widgets/controls",
      "_view_module_version": "1.5.0",
      "_view_name": "HBoxView",
      "box_style": "",
      "children": [
       "IPY_MODEL_cfc07663d52d4c25a81fed91497cc28d",
       "IPY_MODEL_9769a354cb96499b83335e6e1e6892f8",
       "IPY_MODEL_cebf2a8e49a04ec7856b97d7868e6d5a"
      ],
      "layout": "IPY_MODEL_56d0a4d4b443485ca6dc9177ccb7c32f"
     }
    },
    "93176ffc36b045e78d0731320dfba277": {
     "model_module": "@jupyter-widgets/controls",
     "model_module_version": "1.5.0",
     "model_name": "DescriptionStyleModel",
     "state": {
      "_model_module": "@jupyter-widgets/controls",
      "_model_module_version": "1.5.0",
      "_model_name": "DescriptionStyleModel",
      "_view_count": null,
      "_view_module": "@jupyter-widgets/base",
      "_view_module_version": "1.2.0",
      "_view_name": "StyleView",
      "description_width": ""
     }
    },
    "94871aef9c9f4e9a89611a11d10196ff": {
     "model_module": "@jupyter-widgets/controls",
     "model_module_version": "1.5.0",
     "model_name": "DescriptionStyleModel",
     "state": {
      "_model_module": "@jupyter-widgets/controls",
      "_model_module_version": "1.5.0",
      "_model_name": "DescriptionStyleModel",
      "_view_count": null,
      "_view_module": "@jupyter-widgets/base",
      "_view_module_version": "1.2.0",
      "_view_name": "StyleView",
      "description_width": ""
     }
    },
    "9663be3ec74e464aa881ce3fac5ab6a6": {
     "model_module": "@jupyter-widgets/base",
     "model_module_version": "1.2.0",
     "model_name": "LayoutModel",
     "state": {
      "_model_module": "@jupyter-widgets/base",
      "_model_module_version": "1.2.0",
      "_model_name": "LayoutModel",
      "_view_count": null,
      "_view_module": "@jupyter-widgets/base",
      "_view_module_version": "1.2.0",
      "_view_name": "LayoutView",
      "align_content": null,
      "align_items": null,
      "align_self": null,
      "border": null,
      "bottom": null,
      "display": null,
      "flex": null,
      "flex_flow": null,
      "grid_area": null,
      "grid_auto_columns": null,
      "grid_auto_flow": null,
      "grid_auto_rows": null,
      "grid_column": null,
      "grid_gap": null,
      "grid_row": null,
      "grid_template_areas": null,
      "grid_template_columns": null,
      "grid_template_rows": null,
      "height": null,
      "justify_content": null,
      "justify_items": null,
      "left": null,
      "margin": null,
      "max_height": null,
      "max_width": null,
      "min_height": null,
      "min_width": null,
      "object_fit": null,
      "object_position": null,
      "order": null,
      "overflow": null,
      "overflow_x": null,
      "overflow_y": null,
      "padding": null,
      "right": null,
      "top": null,
      "visibility": null,
      "width": "20px"
     }
    },
    "9668b75d4758466d8c36fd54457b4f6b": {
     "model_module": "@jupyter-widgets/base",
     "model_module_version": "1.2.0",
     "model_name": "LayoutModel",
     "state": {
      "_model_module": "@jupyter-widgets/base",
      "_model_module_version": "1.2.0",
      "_model_name": "LayoutModel",
      "_view_count": null,
      "_view_module": "@jupyter-widgets/base",
      "_view_module_version": "1.2.0",
      "_view_name": "LayoutView",
      "align_content": null,
      "align_items": null,
      "align_self": null,
      "border": null,
      "bottom": null,
      "display": null,
      "flex": null,
      "flex_flow": null,
      "grid_area": null,
      "grid_auto_columns": null,
      "grid_auto_flow": null,
      "grid_auto_rows": null,
      "grid_column": null,
      "grid_gap": null,
      "grid_row": null,
      "grid_template_areas": null,
      "grid_template_columns": null,
      "grid_template_rows": null,
      "height": null,
      "justify_content": null,
      "justify_items": null,
      "left": null,
      "margin": null,
      "max_height": null,
      "max_width": null,
      "min_height": null,
      "min_width": null,
      "object_fit": null,
      "object_position": null,
      "order": null,
      "overflow": null,
      "overflow_x": null,
      "overflow_y": null,
      "padding": null,
      "right": null,
      "top": null,
      "visibility": null,
      "width": null
     }
    },
    "972ba80348cd4a458dc71ccbc74975ac": {
     "model_module": "@jupyter-widgets/controls",
     "model_module_version": "1.5.0",
     "model_name": "DescriptionStyleModel",
     "state": {
      "_model_module": "@jupyter-widgets/controls",
      "_model_module_version": "1.5.0",
      "_model_name": "DescriptionStyleModel",
      "_view_count": null,
      "_view_module": "@jupyter-widgets/base",
      "_view_module_version": "1.2.0",
      "_view_name": "StyleView",
      "description_width": ""
     }
    },
    "9769a354cb96499b83335e6e1e6892f8": {
     "model_module": "@jupyter-widgets/controls",
     "model_module_version": "1.5.0",
     "model_name": "FloatProgressModel",
     "state": {
      "_dom_classes": [],
      "_model_module": "@jupyter-widgets/controls",
      "_model_module_version": "1.5.0",
      "_model_name": "FloatProgressModel",
      "_view_count": null,
      "_view_module": "@jupyter-widgets/controls",
      "_view_module_version": "1.5.0",
      "_view_name": "ProgressView",
      "bar_style": "",
      "description": "",
      "description_tooltip": null,
      "layout": "IPY_MODEL_264a3148aaf24a85bcc833584eec47c6",
      "max": 2,
      "min": 0,
      "orientation": "horizontal",
      "style": "IPY_MODEL_0a98e1e51afc45e6867cb8622abb38b0",
      "value": 2
     }
    },
    "9905573f58e341558e18583ba665cd77": {
     "model_module": "@jupyter-widgets/controls",
     "model_module_version": "1.5.0",
     "model_name": "HTMLModel",
     "state": {
      "_dom_classes": [],
      "_model_module": "@jupyter-widgets/controls",
      "_model_module_version": "1.5.0",
      "_model_name": "HTMLModel",
      "_view_count": null,
      "_view_module": "@jupyter-widgets/controls",
      "_view_module_version": "1.5.0",
      "_view_name": "HTMLView",
      "description": "",
      "description_tooltip": null,
      "layout": "IPY_MODEL_16312faa538441f4b9fe590d2545f9eb",
      "placeholder": "​",
      "style": "IPY_MODEL_411116968c0240ebb2ddfaa6e7b9b1e4",
      "value": "Shuffling sift1m_data/sift1m/incomplete.NK1OXT_1.0.0/sift1m-test.tfrecord*...:   0%"
     }
    },
    "a2e81ba928464c70a18fd1ddb92836d7": {
     "model_module": "@jupyter-widgets/controls",
     "model_module_version": "1.5.0",
     "model_name": "HBoxModel",
     "state": {
      "_dom_classes": [],
      "_model_module": "@jupyter-widgets/controls",
      "_model_module_version": "1.5.0",
      "_model_name": "HBoxModel",
      "_view_count": null,
      "_view_module": "@jupyter-widgets/controls",
      "_view_module_version": "1.5.0",
      "_view_name": "HBoxView",
      "box_style": "",
      "children": [
       "IPY_MODEL_b3a0952d2fa4443a9ad7cda63923e56c",
       "IPY_MODEL_e4f8a337a26440f295490d028013775a",
       "IPY_MODEL_ddb49497420f4aeea04934f347aec9d5"
      ],
      "layout": "IPY_MODEL_64e165fe1d1446e6b8417b85143b045c"
     }
    },
    "a37a7f8bcdc048378cde19f967150cd0": {
     "model_module": "@jupyter-widgets/controls",
     "model_module_version": "1.5.0",
     "model_name": "DescriptionStyleModel",
     "state": {
      "_model_module": "@jupyter-widgets/controls",
      "_model_module_version": "1.5.0",
      "_model_name": "DescriptionStyleModel",
      "_view_count": null,
      "_view_module": "@jupyter-widgets/base",
      "_view_module_version": "1.2.0",
      "_view_name": "StyleView",
      "description_width": ""
     }
    },
    "a4a7b266baa04fe48840bdcdc4d33fbf": {
     "model_module": "@jupyter-widgets/controls",
     "model_module_version": "1.5.0",
     "model_name": "DescriptionStyleModel",
     "state": {
      "_model_module": "@jupyter-widgets/controls",
      "_model_module_version": "1.5.0",
      "_model_name": "DescriptionStyleModel",
      "_view_count": null,
      "_view_module": "@jupyter-widgets/base",
      "_view_module_version": "1.2.0",
      "_view_name": "StyleView",
      "description_width": ""
     }
    },
    "a4a9f6899df643b396f24756d50df655": {
     "model_module": "@jupyter-widgets/controls",
     "model_module_version": "1.5.0",
     "model_name": "HBoxModel",
     "state": {
      "_dom_classes": [],
      "_model_module": "@jupyter-widgets/controls",
      "_model_module_version": "1.5.0",
      "_model_name": "HBoxModel",
      "_view_count": null,
      "_view_module": "@jupyter-widgets/controls",
      "_view_module_version": "1.5.0",
      "_view_name": "HBoxView",
      "box_style": "",
      "children": [
       "IPY_MODEL_e7cd78b2d7724beaa68d7adf434d65e0",
       "IPY_MODEL_bf2ca71e001644aa914aa16ff7013f5a",
       "IPY_MODEL_d14ffe3312db43668d1442dffc310eda"
      ],
      "layout": "IPY_MODEL_e343196dca554dbda7c7aa75a639708a"
     }
    },
    "a8854cde2e8f469f811d6fe038ae2ee5": {
     "model_module": "@jupyter-widgets/controls",
     "model_module_version": "1.5.0",
     "model_name": "DescriptionStyleModel",
     "state": {
      "_model_module": "@jupyter-widgets/controls",
      "_model_module_version": "1.5.0",
      "_model_name": "DescriptionStyleModel",
      "_view_count": null,
      "_view_module": "@jupyter-widgets/base",
      "_view_module_version": "1.2.0",
      "_view_name": "StyleView",
      "description_width": ""
     }
    },
    "b1c91ab9d3214a0489676ef5b7c0eea5": {
     "model_module": "@jupyter-widgets/controls",
     "model_module_version": "1.5.0",
     "model_name": "ProgressStyleModel",
     "state": {
      "_model_module": "@jupyter-widgets/controls",
      "_model_module_version": "1.5.0",
      "_model_name": "ProgressStyleModel",
      "_view_count": null,
      "_view_module": "@jupyter-widgets/base",
      "_view_module_version": "1.2.0",
      "_view_name": "StyleView",
      "bar_color": null,
      "description_width": ""
     }
    },
    "b1f2e8727da747a6885e01c92d47a2eb": {
     "model_module": "@jupyter-widgets/base",
     "model_module_version": "1.2.0",
     "model_name": "LayoutModel",
     "state": {
      "_model_module": "@jupyter-widgets/base",
      "_model_module_version": "1.2.0",
      "_model_name": "LayoutModel",
      "_view_count": null,
      "_view_module": "@jupyter-widgets/base",
      "_view_module_version": "1.2.0",
      "_view_name": "LayoutView",
      "align_content": null,
      "align_items": null,
      "align_self": null,
      "border": null,
      "bottom": null,
      "display": null,
      "flex": null,
      "flex_flow": null,
      "grid_area": null,
      "grid_auto_columns": null,
      "grid_auto_flow": null,
      "grid_auto_rows": null,
      "grid_column": null,
      "grid_gap": null,
      "grid_row": null,
      "grid_template_areas": null,
      "grid_template_columns": null,
      "grid_template_rows": null,
      "height": null,
      "justify_content": null,
      "justify_items": null,
      "left": null,
      "margin": null,
      "max_height": null,
      "max_width": null,
      "min_height": null,
      "min_width": null,
      "object_fit": null,
      "object_position": null,
      "order": null,
      "overflow": null,
      "overflow_x": null,
      "overflow_y": null,
      "padding": null,
      "right": null,
      "top": null,
      "visibility": null,
      "width": null
     }
    },
    "b3a0952d2fa4443a9ad7cda63923e56c": {
     "model_module": "@jupyter-widgets/controls",
     "model_module_version": "1.5.0",
     "model_name": "HTMLModel",
     "state": {
      "_dom_classes": [],
      "_model_module": "@jupyter-widgets/controls",
      "_model_module_version": "1.5.0",
      "_model_name": "HTMLModel",
      "_view_count": null,
      "_view_module": "@jupyter-widgets/controls",
      "_view_module_version": "1.5.0",
      "_view_name": "HTMLView",
      "description": "",
      "description_tooltip": null,
      "layout": "IPY_MODEL_042979dfa9b54e6eaae2071b45b8a994",
      "placeholder": "​",
      "style": "IPY_MODEL_01b0cfee5bb34af3baaf30e57f2eb127",
      "value": "Dl Completed...: 100%"
     }
    },
    "b7224e5e7592428ba86613d9baae9f49": {
     "model_module": "@jupyter-widgets/controls",
     "model_module_version": "1.5.0",
     "model_name": "HTMLModel",
     "state": {
      "_dom_classes": [],
      "_model_module": "@jupyter-widgets/controls",
      "_model_module_version": "1.5.0",
      "_model_name": "HTMLModel",
      "_view_count": null,
      "_view_module": "@jupyter-widgets/controls",
      "_view_module_version": "1.5.0",
      "_view_name": "HTMLView",
      "description": "",
      "description_tooltip": null,
      "layout": "IPY_MODEL_268ae6606a434dceb26db7726c68dd2c",
      "placeholder": "​",
      "style": "IPY_MODEL_728fa361028d45a5b684bf0ac88b9dd6",
      "value": "Shuffling sift1m_data/sift1m/incomplete.NK1OXT_1.0.0/sift1m-database.tfrecord*...:  94%"
     }
    },
    "bf2ca71e001644aa914aa16ff7013f5a": {
     "model_module": "@jupyter-widgets/controls",
     "model_module_version": "1.5.0",
     "model_name": "FloatProgressModel",
     "state": {
      "_dom_classes": [],
      "_model_module": "@jupyter-widgets/controls",
      "_model_module_version": "1.5.0",
      "_model_name": "FloatProgressModel",
      "_view_count": null,
      "_view_module": "@jupyter-widgets/controls",
      "_view_module_version": "1.5.0",
      "_view_name": "ProgressView",
      "bar_style": "info",
      "description": "",
      "description_tooltip": null,
      "layout": "IPY_MODEL_6f2299bbd36a4ca5bc31cb18b509b9c8",
      "max": 1,
      "min": 0,
      "orientation": "horizontal",
      "style": "IPY_MODEL_b1c91ab9d3214a0489676ef5b7c0eea5",
      "value": 1
     }
    },
    "cd34b62277a744a9b6457d7e825636c1": {
     "model_module": "@jupyter-widgets/controls",
     "model_module_version": "1.5.0",
     "model_name": "DescriptionStyleModel",
     "state": {
      "_model_module": "@jupyter-widgets/controls",
      "_model_module_version": "1.5.0",
      "_model_name": "DescriptionStyleModel",
      "_view_count": null,
      "_view_module": "@jupyter-widgets/base",
      "_view_module_version": "1.2.0",
      "_view_name": "StyleView",
      "description_width": ""
     }
    },
    "cd7b4b4553f24da4a6dd2c18f7cc6fab": {
     "model_module": "@jupyter-widgets/controls",
     "model_module_version": "1.5.0",
     "model_name": "FloatProgressModel",
     "state": {
      "_dom_classes": [],
      "_model_module": "@jupyter-widgets/controls",
      "_model_module_version": "1.5.0",
      "_model_name": "FloatProgressModel",
      "_view_count": null,
      "_view_module": "@jupyter-widgets/controls",
      "_view_module_version": "1.5.0",
      "_view_name": "ProgressView",
      "bar_style": "",
      "description": "",
      "description_tooltip": null,
      "layout": "IPY_MODEL_10afc82dd5434fa6bcf43c3820192bed",
      "max": 1000000,
      "min": 0,
      "orientation": "horizontal",
      "style": "IPY_MODEL_638887d049c242a88dfe34ec54c3a709",
      "value": 1000000
     }
    },
    "ce8ff118b64c494ebfe63a0c20a0b3f9": {
     "model_module": "@jupyter-widgets/base",
     "model_module_version": "1.2.0",
     "model_name": "LayoutModel",
     "state": {
      "_model_module": "@jupyter-widgets/base",
      "_model_module_version": "1.2.0",
      "_model_name": "LayoutModel",
      "_view_count": null,
      "_view_module": "@jupyter-widgets/base",
      "_view_module_version": "1.2.0",
      "_view_name": "LayoutView",
      "align_content": null,
      "align_items": null,
      "align_self": null,
      "border": null,
      "bottom": null,
      "display": null,
      "flex": null,
      "flex_flow": null,
      "grid_area": null,
      "grid_auto_columns": null,
      "grid_auto_flow": null,
      "grid_auto_rows": null,
      "grid_column": null,
      "grid_gap": null,
      "grid_row": null,
      "grid_template_areas": null,
      "grid_template_columns": null,
      "grid_template_rows": null,
      "height": null,
      "justify_content": null,
      "justify_items": null,
      "left": null,
      "margin": null,
      "max_height": null,
      "max_width": null,
      "min_height": null,
      "min_width": null,
      "object_fit": null,
      "object_position": null,
      "order": null,
      "overflow": null,
      "overflow_x": null,
      "overflow_y": null,
      "padding": null,
      "right": null,
      "top": null,
      "visibility": null,
      "width": null
     }
    },
    "cebf2a8e49a04ec7856b97d7868e6d5a": {
     "model_module": "@jupyter-widgets/controls",
     "model_module_version": "1.5.0",
     "model_name": "HTMLModel",
     "state": {
      "_dom_classes": [],
      "_model_module": "@jupyter-widgets/controls",
      "_model_module_version": "1.5.0",
      "_model_name": "HTMLModel",
      "_view_count": null,
      "_view_module": "@jupyter-widgets/controls",
      "_view_module_version": "1.5.0",
      "_view_name": "HTMLView",
      "description": "",
      "description_tooltip": null,
      "layout": "IPY_MODEL_14c5023a1d8247b79575eef9c21225e9",
      "placeholder": "​",
      "style": "IPY_MODEL_2002d203c8b14599831410737d8b0fbd",
      "value": " 2/2 [04:04&lt;00:00, 103.58s/ splits]"
     }
    },
    "cfc07663d52d4c25a81fed91497cc28d": {
     "model_module": "@jupyter-widgets/controls",
     "model_module_version": "1.5.0",
     "model_name": "HTMLModel",
     "state": {
      "_dom_classes": [],
      "_model_module": "@jupyter-widgets/controls",
      "_model_module_version": "1.5.0",
      "_model_name": "HTMLModel",
      "_view_count": null,
      "_view_module": "@jupyter-widgets/controls",
      "_view_module_version": "1.5.0",
      "_view_name": "HTMLView",
      "description": "",
      "description_tooltip": null,
      "layout": "IPY_MODEL_33534df6409940619d704c6a0786c7ff",
      "placeholder": "​",
      "style": "IPY_MODEL_4792fbdb01054f69a7c1b0201518dd99",
      "value": "Generating splits...: 100%"
     }
    },
    "d01ce9851ea54a759256d3d0032dc149": {
     "model_module": "@jupyter-widgets/controls",
     "model_module_version": "1.5.0",
     "model_name": "ProgressStyleModel",
     "state": {
      "_model_module": "@jupyter-widgets/controls",
      "_model_module_version": "1.5.0",
      "_model_name": "ProgressStyleModel",
      "_view_count": null,
      "_view_module": "@jupyter-widgets/base",
      "_view_module_version": "1.2.0",
      "_view_name": "StyleView",
      "bar_color": null,
      "description_width": ""
     }
    },
    "d14ffe3312db43668d1442dffc310eda": {
     "model_module": "@jupyter-widgets/controls",
     "model_module_version": "1.5.0",
     "model_name": "HTMLModel",
     "state": {
      "_dom_classes": [],
      "_model_module": "@jupyter-widgets/controls",
      "_model_module_version": "1.5.0",
      "_model_name": "HTMLModel",
      "_view_count": null,
      "_view_module": "@jupyter-widgets/controls",
      "_view_module_version": "1.5.0",
      "_view_name": "HTMLView",
      "description": "",
      "description_tooltip": null,
      "layout": "IPY_MODEL_fa53945b03454fbb8f4cc7028a4859c9",
      "placeholder": "​",
      "style": "IPY_MODEL_a37a7f8bcdc048378cde19f967150cd0",
      "value": " 995995/? [03:44&lt;00:00, 4461.28 examples/s]"
     }
    },
    "d70590d4c9324b4f959c09775e6cdaca": {
     "model_module": "@jupyter-widgets/controls",
     "model_module_version": "1.5.0",
     "model_name": "FloatProgressModel",
     "state": {
      "_dom_classes": [],
      "_model_module": "@jupyter-widgets/controls",
      "_model_module_version": "1.5.0",
      "_model_name": "FloatProgressModel",
      "_view_count": null,
      "_view_module": "@jupyter-widgets/controls",
      "_view_module_version": "1.5.0",
      "_view_name": "ProgressView",
      "bar_style": "success",
      "description": "",
      "description_tooltip": null,
      "layout": "IPY_MODEL_1dc3ed1ddbcc4e4d8e358758f433143b",
      "max": 1,
      "min": 0,
      "orientation": "horizontal",
      "style": "IPY_MODEL_3b87cf0c1ee647c383013b3584258c93",
      "value": 0
     }
    },
    "ddb49497420f4aeea04934f347aec9d5": {
     "model_module": "@jupyter-widgets/controls",
     "model_module_version": "1.5.0",
     "model_name": "HTMLModel",
     "state": {
      "_dom_classes": [],
      "_model_module": "@jupyter-widgets/controls",
      "_model_module_version": "1.5.0",
      "_model_name": "HTMLModel",
      "_view_count": null,
      "_view_module": "@jupyter-widgets/controls",
      "_view_module_version": "1.5.0",
      "_view_name": "HTMLView",
      "description": "",
      "description_tooltip": null,
      "layout": "IPY_MODEL_326c6fb2b54b4e199f78228b9dc72859",
      "placeholder": "​",
      "style": "IPY_MODEL_972ba80348cd4a458dc71ccbc74975ac",
      "value": " 1/1 [00:04&lt;00:00,  4.92s/ url]"
     }
    },
    "e1ae8e4e4c284dc489a64e62c1856695": {
     "model_module": "@jupyter-widgets/controls",
     "model_module_version": "1.5.0",
     "model_name": "FloatProgressModel",
     "state": {
      "_dom_classes": [],
      "_model_module": "@jupyter-widgets/controls",
      "_model_module_version": "1.5.0",
      "_model_name": "FloatProgressModel",
      "_view_count": null,
      "_view_module": "@jupyter-widgets/controls",
      "_view_module_version": "1.5.0",
      "_view_name": "ProgressView",
      "bar_style": "",
      "description": "",
      "description_tooltip": null,
      "layout": "IPY_MODEL_7c15153bb4aa4a69b3485d471082207c",
      "max": 10000,
      "min": 0,
      "orientation": "horizontal",
      "style": "IPY_MODEL_6d3b903a9b6a474aaa63498e6fc2d5c3",
      "value": 10000
     }
    },
    "e343196dca554dbda7c7aa75a639708a": {
     "model_module": "@jupyter-widgets/base",
     "model_module_version": "1.2.0",
     "model_name": "LayoutModel",
     "state": {
      "_model_module": "@jupyter-widgets/base",
      "_model_module_version": "1.2.0",
      "_model_name": "LayoutModel",
      "_view_count": null,
      "_view_module": "@jupyter-widgets/base",
      "_view_module_version": "1.2.0",
      "_view_name": "LayoutView",
      "align_content": null,
      "align_items": null,
      "align_self": null,
      "border": null,
      "bottom": null,
      "display": null,
      "flex": null,
      "flex_flow": null,
      "grid_area": null,
      "grid_auto_columns": null,
      "grid_auto_flow": null,
      "grid_auto_rows": null,
      "grid_column": null,
      "grid_gap": null,
      "grid_row": null,
      "grid_template_areas": null,
      "grid_template_columns": null,
      "grid_template_rows": null,
      "height": null,
      "justify_content": null,
      "justify_items": null,
      "left": null,
      "margin": null,
      "max_height": null,
      "max_width": null,
      "min_height": null,
      "min_width": null,
      "object_fit": null,
      "object_position": null,
      "order": null,
      "overflow": null,
      "overflow_x": null,
      "overflow_y": null,
      "padding": null,
      "right": null,
      "top": null,
      "visibility": "hidden",
      "width": null
     }
    },
    "e4f8a337a26440f295490d028013775a": {
     "model_module": "@jupyter-widgets/controls",
     "model_module_version": "1.5.0",
     "model_name": "FloatProgressModel",
     "state": {
      "_dom_classes": [],
      "_model_module": "@jupyter-widgets/controls",
      "_model_module_version": "1.5.0",
      "_model_name": "FloatProgressModel",
      "_view_count": null,
      "_view_module": "@jupyter-widgets/controls",
      "_view_module_version": "1.5.0",
      "_view_name": "ProgressView",
      "bar_style": "success",
      "description": "",
      "description_tooltip": null,
      "layout": "IPY_MODEL_09e67ba0709d4ea5bb38ca10f1606e00",
      "max": 1,
      "min": 0,
      "orientation": "horizontal",
      "style": "IPY_MODEL_75c441075dda410b9ea8daf031f7af5d",
      "value": 1
     }
    },
    "e7cd78b2d7724beaa68d7adf434d65e0": {
     "model_module": "@jupyter-widgets/controls",
     "model_module_version": "1.5.0",
     "model_name": "HTMLModel",
     "state": {
      "_dom_classes": [],
      "_model_module": "@jupyter-widgets/controls",
      "_model_module_version": "1.5.0",
      "_model_name": "HTMLModel",
      "_view_count": null,
      "_view_module": "@jupyter-widgets/controls",
      "_view_module_version": "1.5.0",
      "_view_name": "HTMLView",
      "description": "",
      "description_tooltip": null,
      "layout": "IPY_MODEL_846a318b777c41139c2e689bbda2f62f",
      "placeholder": "​",
      "style": "IPY_MODEL_0889aaa8df6e400781b243f16253e424",
      "value": "Generating database examples...: "
     }
    },
    "e938d9a234d94ec6bbb551be7cace6c4": {
     "model_module": "@jupyter-widgets/controls",
     "model_module_version": "1.5.0",
     "model_name": "HTMLModel",
     "state": {
      "_dom_classes": [],
      "_model_module": "@jupyter-widgets/controls",
      "_model_module_version": "1.5.0",
      "_model_name": "HTMLModel",
      "_view_count": null,
      "_view_module": "@jupyter-widgets/controls",
      "_view_module_version": "1.5.0",
      "_view_name": "HTMLView",
      "description": "",
      "description_tooltip": null,
      "layout": "IPY_MODEL_533cb56cef054e30983881fd8f3cc9f5",
      "placeholder": "​",
      "style": "IPY_MODEL_4840cadec22d43aab8c7627d5f01669b",
      "value": "Dl Size...: 100%"
     }
    },
    "efd976de9e6f46ab9fccfdced562239f": {
     "model_module": "@jupyter-widgets/controls",
     "model_module_version": "1.5.0",
     "model_name": "ProgressStyleModel",
     "state": {
      "_model_module": "@jupyter-widgets/controls",
      "_model_module_version": "1.5.0",
      "_model_name": "ProgressStyleModel",
      "_view_count": null,
      "_view_module": "@jupyter-widgets/base",
      "_view_module_version": "1.2.0",
      "_view_name": "StyleView",
      "bar_color": null,
      "description_width": ""
     }
    },
    "f1b4b46c05474e1388786bb6303e9f44": {
     "model_module": "@jupyter-widgets/base",
     "model_module_version": "1.2.0",
     "model_name": "LayoutModel",
     "state": {
      "_model_module": "@jupyter-widgets/base",
      "_model_module_version": "1.2.0",
      "_model_name": "LayoutModel",
      "_view_count": null,
      "_view_module": "@jupyter-widgets/base",
      "_view_module_version": "1.2.0",
      "_view_name": "LayoutView",
      "align_content": null,
      "align_items": null,
      "align_self": null,
      "border": null,
      "bottom": null,
      "display": null,
      "flex": null,
      "flex_flow": null,
      "grid_area": null,
      "grid_auto_columns": null,
      "grid_auto_flow": null,
      "grid_auto_rows": null,
      "grid_column": null,
      "grid_gap": null,
      "grid_row": null,
      "grid_template_areas": null,
      "grid_template_columns": null,
      "grid_template_rows": null,
      "height": null,
      "justify_content": null,
      "justify_items": null,
      "left": null,
      "margin": null,
      "max_height": null,
      "max_width": null,
      "min_height": null,
      "min_width": null,
      "object_fit": null,
      "object_position": null,
      "order": null,
      "overflow": null,
      "overflow_x": null,
      "overflow_y": null,
      "padding": null,
      "right": null,
      "top": null,
      "visibility": null,
      "width": null
     }
    },
    "f25a0c3e497147a0b09c485a40f9d68d": {
     "model_module": "@jupyter-widgets/controls",
     "model_module_version": "1.5.0",
     "model_name": "HTMLModel",
     "state": {
      "_dom_classes": [],
      "_model_module": "@jupyter-widgets/controls",
      "_model_module_version": "1.5.0",
      "_model_name": "HTMLModel",
      "_view_count": null,
      "_view_module": "@jupyter-widgets/controls",
      "_view_module_version": "1.5.0",
      "_view_name": "HTMLView",
      "description": "",
      "description_tooltip": null,
      "layout": "IPY_MODEL_34eab6f4527a4841aac44826f509cbc9",
      "placeholder": "​",
      "style": "IPY_MODEL_94871aef9c9f4e9a89611a11d10196ff",
      "value": " 9769/? [00:16&lt;00:00, 611.47 examples/s]"
     }
    },
    "f526f8653d9543db9c5b03be44b745ba": {
     "model_module": "@jupyter-widgets/base",
     "model_module_version": "1.2.0",
     "model_name": "LayoutModel",
     "state": {
      "_model_module": "@jupyter-widgets/base",
      "_model_module_version": "1.2.0",
      "_model_name": "LayoutModel",
      "_view_count": null,
      "_view_module": "@jupyter-widgets/base",
      "_view_module_version": "1.2.0",
      "_view_name": "LayoutView",
      "align_content": null,
      "align_items": null,
      "align_self": null,
      "border": null,
      "bottom": null,
      "display": null,
      "flex": null,
      "flex_flow": null,
      "grid_area": null,
      "grid_auto_columns": null,
      "grid_auto_flow": null,
      "grid_auto_rows": null,
      "grid_column": null,
      "grid_gap": null,
      "grid_row": null,
      "grid_template_areas": null,
      "grid_template_columns": null,
      "grid_template_rows": null,
      "height": null,
      "justify_content": null,
      "justify_items": null,
      "left": null,
      "margin": null,
      "max_height": null,
      "max_width": null,
      "min_height": null,
      "min_width": null,
      "object_fit": null,
      "object_position": null,
      "order": null,
      "overflow": null,
      "overflow_x": null,
      "overflow_y": null,
      "padding": null,
      "right": null,
      "top": null,
      "visibility": null,
      "width": "20px"
     }
    },
    "f7e304bacd3d457a925c59a8139c2d31": {
     "model_module": "@jupyter-widgets/base",
     "model_module_version": "1.2.0",
     "model_name": "LayoutModel",
     "state": {
      "_model_module": "@jupyter-widgets/base",
      "_model_module_version": "1.2.0",
      "_model_name": "LayoutModel",
      "_view_count": null,
      "_view_module": "@jupyter-widgets/base",
      "_view_module_version": "1.2.0",
      "_view_name": "LayoutView",
      "align_content": null,
      "align_items": null,
      "align_self": null,
      "border": null,
      "bottom": null,
      "display": null,
      "flex": null,
      "flex_flow": null,
      "grid_area": null,
      "grid_auto_columns": null,
      "grid_auto_flow": null,
      "grid_auto_rows": null,
      "grid_column": null,
      "grid_gap": null,
      "grid_row": null,
      "grid_template_areas": null,
      "grid_template_columns": null,
      "grid_template_rows": null,
      "height": null,
      "justify_content": null,
      "justify_items": null,
      "left": null,
      "margin": null,
      "max_height": null,
      "max_width": null,
      "min_height": null,
      "min_width": null,
      "object_fit": null,
      "object_position": null,
      "order": null,
      "overflow": null,
      "overflow_x": null,
      "overflow_y": null,
      "padding": null,
      "right": null,
      "top": null,
      "visibility": null,
      "width": null
     }
    },
    "fa53945b03454fbb8f4cc7028a4859c9": {
     "model_module": "@jupyter-widgets/base",
     "model_module_version": "1.2.0",
     "model_name": "LayoutModel",
     "state": {
      "_model_module": "@jupyter-widgets/base",
      "_model_module_version": "1.2.0",
      "_model_name": "LayoutModel",
      "_view_count": null,
      "_view_module": "@jupyter-widgets/base",
      "_view_module_version": "1.2.0",
      "_view_name": "LayoutView",
      "align_content": null,
      "align_items": null,
      "align_self": null,
      "border": null,
      "bottom": null,
      "display": null,
      "flex": null,
      "flex_flow": null,
      "grid_area": null,
      "grid_auto_columns": null,
      "grid_auto_flow": null,
      "grid_auto_rows": null,
      "grid_column": null,
      "grid_gap": null,
      "grid_row": null,
      "grid_template_areas": null,
      "grid_template_columns": null,
      "grid_template_rows": null,
      "height": null,
      "justify_content": null,
      "justify_items": null,
      "left": null,
      "margin": null,
      "max_height": null,
      "max_width": null,
      "min_height": null,
      "min_width": null,
      "object_fit": null,
      "object_position": null,
      "order": null,
      "overflow": null,
      "overflow_x": null,
      "overflow_y": null,
      "padding": null,
      "right": null,
      "top": null,
      "visibility": null,
      "width": null
     }
    }
   }
  }
 },
 "nbformat": 4,
 "nbformat_minor": 4
}
