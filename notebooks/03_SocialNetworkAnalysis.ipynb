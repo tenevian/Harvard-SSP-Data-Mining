{
 "cells": [
  {
   "cell_type": "markdown",
   "id": "3d34a9b9",
   "metadata": {},
   "source": [
    "# Assignment 03\n",
    "\n",
    "## Social Network Analysis \n",
    "\n",
    "### Steve Elston\n",
    "\n",
    "## CSCI E-108"
   ]
  },
  {
   "cell_type": "markdown",
   "id": "37a90893",
   "metadata": {},
   "source": [
    "## Introduction\n",
    "\n",
    "In this assignment you will gain some experience with several algorithms used for the analysis of social networks. There are two running examples. The first dataset is a simple purely synthetic network. The second dataset is a widely used example of a small real-world social network.  \n",
    "\n",
    "Anthropologist [Wayne Zachary (1977)](http://www.communicationcache.com/uploads/1/0/8/8/10887248/an_information_flow_model_for_conflict_and_fission_in_small_groups.pdf) observed the social interactions between members of a small real-world [karate club](https://en.wikipedia.org/wiki/Zachary%27s_karate_club) over a two year period. Toward the end of the study period a conflict arose which caused the club to split into 2. Some club members stayed connect to a group centered on a founder, Mr Hi. Other members started a new club. Zachary published his results in [1977](https://www.jstor.org/stable/3629752).   \n",
    "\n",
    "> **Required packages:** Before running the code in this notebook you will need to install the [NetworkX package](https://networkx.org/). The NetworkX has a dependency on [PyGraphViz](https://pygraphviz.github.io/). If you have not installed these packages un-comment the code below and install both. Especailly, if you are using the Windows OS, or have instalaiton problems on any OS, read these [PyGraphViz installation instructions](https://pygraphviz.github.io/documentation/stable/install.html) carefully. Finally, you will use the Louvain modularity algorithm from the Python [Community](https://python-louvain.readthedocs.io/en/latest/index.html) package.   "
   ]
  },
  {
   "cell_type": "code",
   "execution_count": null,
   "id": "ae91a632",
   "metadata": {},
   "outputs": [],
   "source": [
    "## Install NetworkX if it is not already present.  \n",
    "#!pip install networkx\n",
    "\n",
    "## You may need to install PyGraphViz. This instillation will fail on Windows. \n",
    "#!pip install pygraphviz\n",
    "\n",
    "## You may need to install the community package if it is not already present. \n",
    "#!pip install community"
   ]
  },
  {
   "cell_type": "markdown",
   "id": "2b717dad",
   "metadata": {},
   "source": [
    "Execute the code in the cell below to import the packages you will need for this assignment. "
   ]
  },
  {
   "cell_type": "code",
   "execution_count": null,
   "id": "7ffe299a",
   "metadata": {},
   "outputs": [],
   "source": [
    "import numpy as np\n",
    "from scipy.sparse.linalg import eigs\n",
    "import networkx as nx\n",
    "import pandas as pd\n",
    "import itertools\n",
    "from networkx.algorithms.community.centrality import girvan_newman\n",
    "from networkx.algorithms.community import modularity, greedy_modularity_communities\n",
    "import community as community_louvain\n",
    "import matplotlib.pyplot as plt\n",
    "\n",
    "%matplotlib inline"
   ]
  },
  {
   "cell_type": "markdown",
   "id": "04dceb40",
   "metadata": {},
   "source": [
    "## Data Samples\n",
    "\n",
    "In this assignment you will work with two datasets. The first is a simple synthetic network. The second is the karate club dataset. \n",
    "\n",
    "### Instantiate simple network\n",
    "To create and plot the first dataset execute the code in the cell below. The network is defined by specifying a list of edge tuples. Notice the two clear communities.  "
   ]
  },
  {
   "cell_type": "code",
   "execution_count": null,
   "id": "481fdd29",
   "metadata": {},
   "outputs": [],
   "source": [
    "edge_list = [(1,3),(1,4),(1,5),(2,3),(2,4),(2,5),(2,6),(3,5),(4,5),(5,10),(6,7),(6,9),(6,10),(7,8),(7,9),(7,10),(8,9),(8,10)]\n",
    "simple_graph = nx.Graph()\n",
    "simple_graph.add_nodes_from([1,2,3,4,5,6,7,8,9,10])\n",
    "simple_graph.add_edges_from(edge_list)\n",
    "\n",
    "nx.draw_networkx(simple_graph, with_labels=True, alpha=0.5, node_size=800)  "
   ]
  },
  {
   "cell_type": "markdown",
   "id": "2e6e1cc5-3296-4a1e-939d-16346d30f142",
   "metadata": {},
   "source": [
    "NetworkX uses a memory efficient data structure to store the network and its attributes. To see the instance for this network execute the code in the cell below. "
   ]
  },
  {
   "cell_type": "code",
   "execution_count": null,
   "id": "b1a1542f",
   "metadata": {},
   "outputs": [],
   "source": [
    "simple_graph.__dict__"
   ]
  },
  {
   "cell_type": "markdown",
   "id": "19af33d4-58dc-4bca-abd5-9aa25fc4b3fd",
   "metadata": {},
   "source": [
    "Notice the following aspects of the data structure:    \n",
    "1. The data structure is a dictionary, form of hash table. The network has no top-level attributes, such as a name.  \n",
    "2. The nodes are referenced by number (no other name has been assigned). The nodes have no attributes attached as yet.\n",
    "3. The edges are defined by a dictionary referenced by origin node number. The edges are bidirectional, so the representation is symmetric. Each edge is shown twice, with the origin node for each end. The edges have no attributes assigned as yet.\n",
    "4. The summary of network work characteristics are shown in the 'DegreeView` dictionary, the `EdgeView` list of tuples and the `NodeView' tuple.    "
   ]
  },
  {
   "cell_type": "markdown",
   "id": "615eac48",
   "metadata": {},
   "source": [
    "### The karate club network    \n",
    "\n",
    "To import and plot the karate club dataset execute the code in the cell below. The structure of this social network is fairly complex. However, you can see that some nodes clearly have some amount of centrality. "
   ]
  },
  {
   "cell_type": "code",
   "execution_count": null,
   "id": "9f41d442",
   "metadata": {},
   "outputs": [],
   "source": [
    "K_club = nx.karate_club_graph()\n",
    "\n",
    "fig,ax = plt.subplots(figsize=(12,10))\n",
    "nx.draw_networkx(K_club, with_labels=True, alpha=0.5, node_size=1200, ax=ax)  "
   ]
  },
  {
   "cell_type": "markdown",
   "id": "5b218044-139a-476c-a11e-2a15b0c64e2c",
   "metadata": {},
   "source": [
    "Execute the code in the cell below to display the data structure for the karate club network.  "
   ]
  },
  {
   "cell_type": "code",
   "execution_count": null,
   "id": "606d97f7-f2b6-4776-b521-45267ec217df",
   "metadata": {
    "scrolled": true
   },
   "outputs": [],
   "source": [
    "K_club.__dict__"
   ]
  },
  {
   "cell_type": "markdown",
   "id": "f80906c4-5259-4087-ac9f-f5bc4a8034b4",
   "metadata": {},
   "source": [
    "This data structure has the same organization as the first network. Notice that this network has attributes has some attributes set. The club joined is an attribute of the nodes and the edges have weights representing a measure of affinity between the nodes.    \n",
    "\n",
    "We can add other attributes to the nodes and edges of this network. Execute the code in the cell below to set a distance attribute as the inverse of the edge weight. "
   ]
  },
  {
   "cell_type": "code",
   "execution_count": null,
   "id": "d7c7eca2-3202-4f41-8867-30788cca9181",
   "metadata": {},
   "outputs": [],
   "source": [
    "edge_distances = {}\n",
    "for node1,node2 in list(K_club.edges):\n",
    "    dist = round(1.0/K_club.get_edge_data(node1,node2)['weight'], 3)\n",
    "    edge_distances[node1,node2] = dist\n",
    "    edge_distances[node2,node1] = dist\n",
    "\n",
    "nx.set_edge_attributes(K_club, edge_distances, 'distance')\n",
    "K_club.__dict__"
   ]
  },
  {
   "cell_type": "markdown",
   "id": "b4d2ed29-6db2-417a-8796-32feb7fc3efb",
   "metadata": {},
   "source": [
    " The edges now have both a weight and distance attribute.  "
   ]
  },
  {
   "cell_type": "markdown",
   "id": "a55275e8-4158-4dd7-be64-ee5aa16351b5",
   "metadata": {},
   "source": [
    "## Exploring the Networks\n",
    "\n",
    "As a first step, let's explore some of the basic properties of these networks. As a first step, execute the code in the cell below to expand the compact NetworkX data structure.  "
   ]
  },
  {
   "cell_type": "code",
   "execution_count": null,
   "id": "01aba890-daad-4b27-8f60-0e0cbc8efd08",
   "metadata": {},
   "outputs": [],
   "source": [
    "simple_graph_array = nx.to_numpy_array(simple_graph) \n",
    "print(simple_graph_array)"
   ]
  },
  {
   "cell_type": "markdown",
   "id": "c986d5ce-e262-42cd-b0df-3300a083ac6a",
   "metadata": {},
   "source": [
    "The network is now represented by a dense **association matrix**. There is a $1$ representing each edge, and a $0$ where there is no edge between the nodes.     \n",
    "\n",
    "Next, you can quantify some characteristics of the network by performing simple operations on the association matrix.   \n",
    "1. The row of column indices indicate the node.    \n",
    "2. The **out degree** is the sum across the row of the association matrix.  \n",
    "3. The **in degree** is the sum across the columns of the association matrix.\n",
    "\n",
    "Execute the code and examine the results."
   ]
  },
  {
   "cell_type": "code",
   "execution_count": null,
   "id": "9faae702-fcdb-4213-b9c0-3af944b81e47",
   "metadata": {
    "scrolled": true
   },
   "outputs": [],
   "source": [
    "out_degree = np.sum(simple_graph_array, axis=0).astype(int)\n",
    "in_degree = np.sum(simple_graph_array, axis=1).astype(int)\n",
    "n_nodes = len(simple_graph_array)\n",
    "sparsity = np.sum(simple_graph_array)/n_nodes**2\n",
    "print(f'The number of nodes: {n_nodes} and sparsity: {sparsity}')\n",
    "print(f'{pd.DataFrame({'In degree': in_degree, 'Out degree': out_degree}, index=range(1,n_nodes + 1))}')"
   ]
  },
  {
   "cell_type": "code",
   "execution_count": null,
   "id": "d74306f3-323a-4a6f-ac23-abe5da1e2c40",
   "metadata": {},
   "outputs": [],
   "source": []
  },
  {
   "cell_type": "markdown",
   "id": "c60c366b-c60a-4c2a-b569-1a81911bd717",
   "metadata": {},
   "source": [
    "> **Exercise 3-01:** You will now analyze the karate club network by doing the following:\n",
    "> 1. Instantiate the association matrix from the NetworkX data structure. The edges have weights, so you will need to use [numpy.where](https://numpy.org/doc/2.2/reference/generated/numpy.where.html) to convert the weighted association matrix to $[0,1]$ values. Name this array, 'K_club_array' You do not need to print this array.\n",
    "> 2. Display the number of nodes and sparsity of this network.\n",
    "> 3. Compute and display the in degree and out degree of each node in the network.   "
   ]
  },
  {
   "cell_type": "code",
   "execution_count": null,
   "id": "3bbf36f3-7e86-4b6f-8fc0-bc7457218f71",
   "metadata": {},
   "outputs": [],
   "source": [
    "## Put your code below\n",
    "\n",
    "\n",
    "\n",
    "\n",
    "\n"
   ]
  },
  {
   "cell_type": "markdown",
   "id": "492a01c9-9617-464d-923a-a74a659f13c2",
   "metadata": {},
   "source": [
    "> Examine the results of your calculations and answer the following questions:\n",
    "> 1. Compare the NetworkX data structure to the association matrix representation of the network. Which representation will use less memory and why?\n",
    "> 2. Notice that the in degree is identical to the out degree for each node. Is this expected and why?\n",
    "> 3. Based only on degree, which two nodes to you expect to have highest centrality?\n",
    "> 4. Compare the sparsity of the karate club network to the simple network. What does this difference tell you about these networks.   "
   ]
  },
  {
   "cell_type": "markdown",
   "id": "165f0c41-7457-44f8-8a87-72d20337d058",
   "metadata": {},
   "source": [
    "> **Answers:**\n",
    "> 1.    \n",
    "> 2.    \n",
    "> 3.     \n",
    "> 4.   "
   ]
  },
  {
   "attachments": {},
   "cell_type": "markdown",
   "id": "267fe3d8-87d2-4ad4-a132-80888b80df52",
   "metadata": {},
   "source": [
    "## Random Graphs\n",
    "\n",
    "[Random graphs](https://en.wikipedia.org/wiki/Random_graph) are often used as a basis for comparison with real world networks. The idea is simple. We construct a graph with $n$ nodes and randomly allocated edges. There are two possible models.    \n",
    "1. $𝐺(𝑛,𝑀)$: Where $𝑀$ edges are randomly distributed connecting the $𝑛$ nodes.\n",
    "2. $𝐺(𝑛,𝑝$): Where the probability of an edge connecting two nodes is $𝑝$. \n",
    "\n",
    "Here we will only work with the first model. Execute the code in the cell below to generate and plot random graphs with a fixed $n=12$ and varibale $M$. \n",
    "\n",
    ">Note: If the code throws a disconnected graph exception on the first try, run the code again.  "
   ]
  },
  {
   "cell_type": "code",
   "execution_count": null,
   "id": "888e7fc2-b157-4fab-831d-da7e2d0d06d9",
   "metadata": {},
   "outputs": [],
   "source": [
    "_,ax_p = plt.subplots(2,2, figsize =(10,10))\n",
    "ax_p = ax_p.flatten()\n",
    "\n",
    "n=12\n",
    "np.random.seed(498)\n",
    "for ax, m in zip(ax_p, [18, 32, 48, 64]): \n",
    "    \n",
    "    random_graph = nx.gnm_random_graph(n, m) \n",
    "    random_average_dist = round(nx.average_shortest_path_length(random_graph), 3)\n",
    "    random_average_clust_coef = round(nx.average_clustering(random_graph), 3)\n",
    "\n",
    "    nx.draw_networkx(random_graph, alpha=0.5, ax=ax)\n",
    "    ax.set_title(f\"{n} node random graph with n: {n}  m: {m}\\n average distance: {random_average_dist}\\n average clust coef: {random_average_clust_coef}\")"
   ]
  },
  {
   "cell_type": "markdown",
   "id": "e98e8c4d-8cd9-494a-8e8a-56c22c174538",
   "metadata": {},
   "source": [
    "> **Exercise 3-02:** Examine these random graphs. Keeping in mind that a fully connected graphs with 12 nodes has $\\frac{n(n-1)}{2} = \\frac{12 \\times 11}{2} = 64$ edges, answer the following questions:\n",
    "> 1. Explain how the average distance in the random graph changes as the number of edges approaches a fully connected graph.\n",
    "> 2. For the graphs the number of edges $m \\ll 64$ do you think the random graphs shown are the only possibility and why?  "
   ]
  },
  {
   "cell_type": "markdown",
   "id": "ebe20892-6962-456d-8679-96cf66ce7991",
   "metadata": {},
   "source": [
    "> **Answers:**\n",
    "> 1.    \n",
    "> 2.    "
   ]
  },
  {
   "cell_type": "markdown",
   "id": "693bf56e",
   "metadata": {},
   "source": [
    "## Measures of Centrality\n",
    "\n",
    "You will now compute and assess measures of centrality for both graphs. The goal is to find the nodes with the greatest influence measured by centrality.   \n",
    "\n",
    "### Closeness Centrality\n",
    "\n",
    "Closeness centrality is a simple centrality metric. Nodes with a small average inverse distance to the other nodes in the network are considered to have higher centrality.  \n",
    "\n",
    "Execute the code in the cell below to compute and display the closeness centrality of the simple graph. This code uses the [networkx.algorithms.centrality.closeness_centrality](https://networkx.org/documentation/stable/reference/algorithms/generated/networkx.algorithms.centrality.closeness_centrality.html?highlight=closeness%20centrality) function.   "
   ]
  },
  {
   "cell_type": "code",
   "execution_count": null,
   "id": "bf143477",
   "metadata": {},
   "outputs": [],
   "source": [
    "simple_closeness_centrality = nx.closeness_centrality(simple_graph)\n",
    "simple_closeness_centrality"
   ]
  },
  {
   "cell_type": "markdown",
   "id": "3758fc54",
   "metadata": {},
   "source": [
    "A graphical display of centrality metrics of a graph is often very useful in terms of interpreting the results. Execute the code in the cell below to display the closeness centrality of the simple graph. "
   ]
  },
  {
   "cell_type": "code",
   "execution_count": null,
   "id": "fb3038d5",
   "metadata": {},
   "outputs": [],
   "source": [
    "def plot_centrality(G, node_centrality=None, edge_centrality=None, size=1.0, width=2.0): \n",
    "    fig,ax = plt.subplots(figsize=(12,10))\n",
    "    ## Set the node sizes to display if provided\n",
    "    if node_centrality==None:\n",
    "        node_size=size\n",
    "    else: \n",
    "        node_size = [size*node_centrality[key] for key in node_centrality.keys()]\n",
    "    ## Set the edge width to display if provided \n",
    "    if edge_centrality==None:\n",
    "        edge_width=width\n",
    "    else:\n",
    "        edge_width = [width*edge_centrality[u,v] for u,v in edge_centrality.keys()]\n",
    "    ## Display the graph\n",
    "    nx.draw_networkx(G, with_labels=True, alpha=0.5, node_size=node_size, width=edge_width, ax=ax)  \n",
    "\n",
    "plot_centrality(simple_graph, simple_closeness_centrality, size=10000, width=2)"
   ]
  },
  {
   "cell_type": "markdown",
   "id": "83edb068",
   "metadata": {},
   "source": [
    "There range of the closeness centrality values is limited. None the less, the results look reasonable since the nodes with the highest closeness centrality are concentrated around the middle of the graph, and more peripheral nodes have low closeness centrality. "
   ]
  },
  {
   "cell_type": "markdown",
   "id": "a5c99769",
   "metadata": {},
   "source": [
    "> **Exercise 3-03:** You will now compute and display the closeness centrality of the karate club graph by the following steps:   \n",
    "> 1. Compute the closeness centrality of the graph using the [networkx.algorithms.centrality.closeness_centrality](https://networkx.org/documentation/stable/search.html?q=closeness) function, setting the `distance='distance'` argument.  \n",
    "> 2. Plot the closeness centrality of the graph using the `plot_centrality` function with the `size-1000` argument.  \n",
    "> 3. Print the centrality of the graph nodes. "
   ]
  },
  {
   "cell_type": "code",
   "execution_count": null,
   "id": "9a4fbb9b",
   "metadata": {},
   "outputs": [],
   "source": [
    "## Put your code below\n",
    "\n",
    "\n"
   ]
  },
  {
   "cell_type": "markdown",
   "id": "d4807972",
   "metadata": {},
   "source": [
    "> Examine both the numerical values of closeness centrality and the plot. What statement can you make about how well the closeness centrality represents the connectedness of the network?     \n",
    "> **End of exercise.**"
   ]
  },
  {
   "cell_type": "markdown",
   "id": "50675f2c",
   "metadata": {},
   "source": [
    "> **Answer:**     "
   ]
  },
  {
   "cell_type": "markdown",
   "id": "bf11924f",
   "metadata": {},
   "source": [
    "### K-Cores\n",
    "\n",
    "K-cores are a metric of connection density at the densest part of a community, the core. A node, $n_i$, is in the k-core if at least $k$ edges can be removed without breaking the component containing the node into parts. At the minimum, a k-core node must have at least $degree(n_i) = k_i > k$.\n",
    "\n",
    "The [networkx.k_componentse](https://networkx.org/documentation/stable/reference/algorithms/generated/networkx.algorithms.connectivity.kcomponents.k_components.html) function iterates over values of k. The function starts from $k=1$ and terminates at the value of $k$ where all nodes are in disconnected components. To see how the core components evolved for the simple example graph execute the code in the cell below.   "
   ]
  },
  {
   "cell_type": "code",
   "execution_count": null,
   "id": "a7912eac",
   "metadata": {},
   "outputs": [],
   "source": [
    "nx.k_components(simple_graph)"
   ]
  },
  {
   "cell_type": "markdown",
   "id": "f7c64528",
   "metadata": {},
   "source": [
    "The key of the displayed dictionary is the value of k. The values are the components for that value of k. At $k=3$ there are 2 disconnected components, defined by the two dictionaries.\n",
    "\n",
    "To visualize the cores at the different values of k execute the code in the cell below.  "
   ]
  },
  {
   "cell_type": "code",
   "execution_count": null,
   "id": "e65efa90",
   "metadata": {},
   "outputs": [],
   "source": [
    "def plot_k_components(G, K_comps):\n",
    "    for c in range(len(K_comps)): #[4,3,2,1]:\n",
    "        node_colors = ['blue']*len(G.nodes)\n",
    "        for node in K_comps[c+1][0]: \n",
    "            node_colors[node-1] = 'red'\n",
    "        nx.draw_networkx(G, node_color=node_colors, with_labels=True)\n",
    "        plt.title('k = ' + str(c+1))\n",
    "        plt.show()\n",
    "        \n",
    "K_comps = nx.k_components(simple_graph)\n",
    "plot_k_components(simple_graph, K_comps)"
   ]
  },
  {
   "cell_type": "markdown",
   "id": "7772a1e2",
   "metadata": {},
   "source": [
    "Notice that for $k=3$ the simple graph is divided into two components. Given the structure of the communities, the selection of k-core nodes is a bit arbitrary. At termination, the algorithm must label nodes as core or not, and in this case, there is no particularly good division of the nodes.      \n",
    "\n",
    "> **Exercise 3-04:** To visualize the k-cores of the karate club graph execute the code in the cell below to display these cores for different values of k. Hint: It will help your interpretation to examine printed degree of the nodes in this, which is the [degree](https://networkx.org/documentation/stable/reference/classes/generated/networkx.Graph.degree.html?highlight=degree#networkx.Graph.degree) attribute of the graph object. "
   ]
  },
  {
   "cell_type": "code",
   "execution_count": null,
   "id": "484abb12",
   "metadata": {},
   "outputs": [],
   "source": [
    "def plot_k_components_0_index(G, K_comps):\n",
    "    for c in range(len(K_comps)): #[4,3,2,1]:\n",
    "        node_colors = ['blue']*len(G.nodes)\n",
    "        for node in K_comps[c+1][0]: \n",
    "            node_colors[node] = 'red'\n",
    "        nx.draw_networkx(G, node_color=node_colors, with_labels=True)\n",
    "        plt.title('K = ' + str(c+1))\n",
    "        plt.show()\n",
    "\n",
    "print(K_club.degree)\n",
    "K_comps = nx.k_components(K_club)\n",
    "plot_k_components_0_index(K_club, K_comps)"
   ]
  },
  {
   "cell_type": "markdown",
   "id": "f5e46ec2",
   "metadata": {},
   "source": [
    "> Examine these plots and provide short answers to the following questions:      \n",
    "> 1. How do the members of the core nodes change with increasing k as related to centrality?      \n",
    "> 2. How does membership in the k-core align with connectivity and centrality of the graph?        \n",
    "> **End of exercise.**"
   ]
  },
  {
   "cell_type": "markdown",
   "id": "3c0204f8",
   "metadata": {},
   "source": [
    "> **Answers:**     \n",
    "> 1.             \n",
    "> 2.      "
   ]
  },
  {
   "cell_type": "markdown",
   "id": "4fdc2138",
   "metadata": {},
   "source": [
    "### Triangle Centrality and Clustering  \n",
    "\n",
    "The density of triangles, or triad relationships, in a social network is a measure of the centrality of the nodes. Triangle density is computed using the [networkx.algorithms.cluster.triangles](https://networkx.org/documentation/stable/reference/algorithms/generated/networkx.algorithms.cluster.triangles.html?highlight=triangle#networkx.algorithms.cluster.triangles) function. To see the triangle density of the simple graph example execute the code in the cell below.        "
   ]
  },
  {
   "cell_type": "code",
   "execution_count": null,
   "id": "c236aa93",
   "metadata": {
    "scrolled": true
   },
   "outputs": [],
   "source": [
    "## Compute triangle density  \n",
    "triangles = nx.triangles(simple_graph)\n",
    "plot_centrality(simple_graph, triangles, size=2000, width=2)\n",
    "triangles"
   ]
  },
  {
   "cell_type": "markdown",
   "id": "887ab132",
   "metadata": {},
   "source": [
    "In the above plot you can see that two nodes have higher triangle density that the others. These nodes are vertices of 4 triangles, indicating centrality of these nodes.\n",
    "\n",
    "Triangle centrality is a biased measure since nodes with higher degree are more likely to be vertices of a triad in a random graph. The clustering coefficient adjusts the triangle density of the nodes by the degree, which is done by the [networkx.algorithms.cluster.clustering](https://networkx.org/documentation/stable/reference/algorithms/generated/networkx.algorithms.cluster.clustering.html?highlight=clustering#networkx.algorithms.cluster.clustering) function. Execute the code to display the correlation coefficients for the simple graph. "
   ]
  },
  {
   "cell_type": "code",
   "execution_count": null,
   "id": "572db10c",
   "metadata": {},
   "outputs": [],
   "source": [
    "clustering = nx.clustering(simple_graph)\n",
    "plot_centrality(simple_graph, clustering, size=10000, width=2)\n",
    "clustering"
   ]
  },
  {
   "cell_type": "markdown",
   "id": "01395f44",
   "metadata": {},
   "source": [
    "There are several nodes with high clustering coefficients. Because of the small graph with significant symmetry several nodes have high clustering coefficients.    \n",
    "\n",
    "> **Exercise 3-05:** Compute and display the triangle density for the karate club graph. Display the dictionary of triangle density and the plot. "
   ]
  },
  {
   "cell_type": "code",
   "execution_count": null,
   "id": "799d9214",
   "metadata": {},
   "outputs": [],
   "source": [
    "## Put your code below  \n",
    "K_triangles = nx.triangles(K_club)\n",
    "plot_centrality(K_club, K_triangles, size=200, width=2)\n",
    "K_triangles"
   ]
  },
  {
   "cell_type": "markdown",
   "id": "94811a46",
   "metadata": {},
   "source": [
    "> Examine the triangle density of this graph. How do the nodes with high triangle density compare to the $k=$ core components found in Exercise 3-04?       \n",
    "> **End of exercise.**     "
   ]
  },
  {
   "cell_type": "markdown",
   "id": "16832180",
   "metadata": {},
   "source": [
    "> **Answer:**      "
   ]
  },
  {
   "cell_type": "markdown",
   "id": "4b265cd1",
   "metadata": {},
   "source": [
    "> **Exercise 3-06:** In the cell below create and execute the code to display the clustering coefficients of the karate club graph as a dictionary and a plot.   "
   ]
  },
  {
   "cell_type": "code",
   "execution_count": null,
   "id": "98f7f1e6",
   "metadata": {},
   "outputs": [],
   "source": [
    "## Put your code below\n",
    "\n",
    "\n"
   ]
  },
  {
   "cell_type": "markdown",
   "id": "f3f85b84",
   "metadata": {},
   "source": [
    "> Examine the results noticing how the clustering coefficient is down-weighted by the degree of the node. What pattern can you observe for the nodes with the highest and lowest clustering coefficients?    \n",
    "> **End of exercise**"
   ]
  },
  {
   "cell_type": "markdown",
   "id": "5adb4d43",
   "metadata": {},
   "source": [
    "> **Answers:**         "
   ]
  },
  {
   "cell_type": "markdown",
   "id": "bb460b2d",
   "metadata": {},
   "source": [
    "## Betweenness \n",
    "\n",
    "Betweenness is a measure of the number of shortest paths through a node or edge. Nodes and edges with high betweenness tend to be at the edges of communities within a graph. The node and edge betweenness often follow similar patterns, these different metrics can sometimes highlight different aspects of community structure.   \n",
    "\n",
    "We use betweenness in two ways here. First to highlight community structure in the graph. The nodes and edges connecting communities tend to have the highest betweenness since there are relatively fewer paths between densely connected communities. Next, we will use the concept of betweenness to remove edges from graphs and partition them by communities.     "
   ]
  },
  {
   "cell_type": "markdown",
   "id": "6e060baf",
   "metadata": {},
   "source": [
    "### Betweenness Centrality  \n",
    "\n",
    "We can use the concept of either edge or node betweenness as a measure of centrality. Nodes and edges with high betweenness can define the edges of communities. The code in the cells below computes the edge betweenness with the [networkx.algorithms.centrality.edge_betweenness_centrality](https://networkx.org/documentation/stable/reference/algorithms/generated/networkx.algorithms.centrality.edge_betweenness_centrality.html?highlight=betweenness#networkx.algorithms.centrality.edge_betweenness_centrality) function and the node betweenness with the [networkx.algorithms.centrality.betweenness_centrality](https://networkx.org/documentation/stable/reference/algorithms/generated/networkx.algorithms.centrality.betweenness_centrality.html?highlight=betweenness#networkx.algorithms.centrality.betweenness_centrality). Execute this code and examine the results. "
   ]
  },
  {
   "cell_type": "code",
   "execution_count": null,
   "id": "2d1883cd",
   "metadata": {},
   "outputs": [],
   "source": [
    "edge_betweenness=nx.edge_betweenness_centrality(simple_graph)\n",
    "edge_betweenness"
   ]
  },
  {
   "cell_type": "code",
   "execution_count": null,
   "id": "7c769e06",
   "metadata": {},
   "outputs": [],
   "source": [
    "node_betweenness = nx.betweenness_centrality(simple_graph)\n",
    "node_betweenness"
   ]
  },
  {
   "cell_type": "markdown",
   "id": "4d1987c8",
   "metadata": {},
   "source": [
    "Next, execute the code in the cell below to display a plot of the simple graph with node size showing betweenness centrality and edge width showing edge centrality. "
   ]
  },
  {
   "cell_type": "code",
   "execution_count": null,
   "id": "3dce5597",
   "metadata": {},
   "outputs": [],
   "source": [
    "plot_centrality(simple_graph, node_betweenness, edge_betweenness, size=20000, width=30)"
   ]
  },
  {
   "cell_type": "markdown",
   "id": "e9026e23",
   "metadata": {},
   "source": [
    "Notice the following aspects of the node and edge betweenness for this graph. The nodes with the highest betweenness are the ones with end points for edges between the communities. Correspondingly, the edges between the communities have the highest betweenness.  \n",
    "\n",
    "> **Exercise 3-07:** Starting with the karate club graph create and execute code in the cell below do the following:   \n",
    "> 1. Compute the edge betweenness. \n",
    "> 2. Compute and print the node betweenness centrality. \n",
    "> 3. Plot the graph showing edge betweenness and betweenness centrality. "
   ]
  },
  {
   "cell_type": "code",
   "execution_count": null,
   "id": "56d71d58",
   "metadata": {},
   "outputs": [],
   "source": [
    "## Put your code below\n",
    "\n",
    "\n",
    "\n"
   ]
  },
  {
   "cell_type": "markdown",
   "id": "21701c3e",
   "metadata": {},
   "source": [
    "> Examine this plot, keeping in mind that this network has weighted edges, answer the following questions: \n",
    "> 1. Compare the node betweenness centrality to the nodes in the $k=4$ k-core. Do nodes with high betweenness centrality appear to be largely the same ones in the k-core?   \n",
    "> 2. Certain edges have relatively high betweenness. Can you see a correspondence between these edges and a possible division of the graph into communities?  \n",
    "> **End of exercise.** "
   ]
  },
  {
   "cell_type": "markdown",
   "id": "357715c7",
   "metadata": {},
   "source": [
    "> **Answers:**    \n",
    "> 1.   \n",
    "> 2       "
   ]
  },
  {
   "cell_type": "markdown",
   "id": "23f15601",
   "metadata": {},
   "source": [
    "### Graph Partitioning with Betweenness \n",
    "\n",
    "Having explored the betweenness of the two running example graphs, we will now turn our attention to using betweenness to partition these graphs. Since the goal is to partition the graphs by removing edges, we will use edge betweenness. \n",
    "\n",
    "The Girvan Newman algorithm is a well known method for partitioning graphs into communities using edge betweenness. The algorithm partitions the graph by recursively removing edges with the highest betweenness. Execute the code which uses [networkx.algorithms.community.centrality.girvan_newman](https://networkx.org/documentation/stable/reference/algorithms/generated/networkx.algorithms.community.centrality.girvan_newman.html?highlight=girvan%20newman#networkx.algorithms.community.centrality.girvan_newman) the function, and examine the results.  "
   ]
  },
  {
   "cell_type": "code",
   "execution_count": null,
   "id": "8eb664a8",
   "metadata": {},
   "outputs": [],
   "source": [
    "betweenness_decomp = girvan_newman(simple_graph)\n",
    "betweenness_decomp = tuple(sorted(c) for c in next(betweenness_decomp))\n",
    "betweenness_decomp"
   ]
  },
  {
   "cell_type": "markdown",
   "id": "9b84635e",
   "metadata": {},
   "source": [
    "The Givan Newman algorithm has partitioned the graph into two subsets. These subsets correspond to the communities.    \n",
    "\n",
    "Execute the code in the cell below to see the graph partitioned by these communities. "
   ]
  },
  {
   "cell_type": "code",
   "execution_count": null,
   "id": "25a7aa85",
   "metadata": {},
   "outputs": [],
   "source": [
    "col = ['red','blue']\n",
    "node_colors = ['None']*len(simple_graph.nodes)\n",
    "for i,list in enumerate(betweenness_decomp): \n",
    "    for val in betweenness_decomp[i]:\n",
    "        node_colors[val-1] = col[i] \n",
    " \n",
    "nx.draw_networkx(simple_graph, with_labels=True, alpha=0.5, node_color=node_colors)  "
   ]
  },
  {
   "cell_type": "markdown",
   "id": "f155f837",
   "metadata": {},
   "source": [
    "The figure above shows the communities are labeled as as expected.   \n",
    "\n",
    "We can take a direct approach to partitioning a graph using edge betweenness. The code in the cell below does just this using a greedy algorithm with the following steps:  \n",
    "1. The function `remove_edges` prunes the k edges with the highest edge betweenness. In the for loop the betweenness of the current graph is computed. It is important to update the edge betweenness values each time an edge is removed, since the graph changes at each step.     \n",
    "2. The edge to removed is determined by the `find_max_edge` function. This function searches the edges in the graph and returns the key (endpoint pair of nodes) with the maximum betweenness.  \n",
    "\n",
    "Execute this code and examine the result."
   ]
  },
  {
   "cell_type": "code",
   "execution_count": null,
   "id": "67dc9984",
   "metadata": {},
   "outputs": [],
   "source": [
    "def find_max_edge(temp_betweenness):\n",
    "    max_key = None\n",
    "    max_betweenness = 0.0\n",
    "    for edge in temp_betweenness.keys():\n",
    "        if temp_betweenness[edge] > max_betweenness: \n",
    "            max_betweenness = temp_betweenness[edge]\n",
    "            max_key = edge \n",
    "    ## Remove edge from dictionary  \n",
    "    temp_betweenness.pop(max_key)\n",
    "    return max_key        \n",
    "\n",
    "def remove_edges(graph, k=2):\n",
    "    '''Remove k edges from the graph'''\n",
    "    temp_graph = graph.copy()\n",
    "    for _ in range(k):\n",
    "        ## Compute the betweenness for each graph created as edges are removed   \n",
    "        temp_betweenness = nx.edge_betweenness_centrality(temp_graph)\n",
    "        max_key = find_max_edge(temp_betweenness)\n",
    "        temp_graph.remove_edge(max_key[0],max_key[1])\n",
    "    return temp_graph    \n",
    "\n",
    "partitioned_graph = remove_edges(simple_graph, k=2)\n",
    "\n",
    "nx.draw_networkx(partitioned_graph, with_labels=True, alpha=0.5, node_size=1000)  "
   ]
  },
  {
   "cell_type": "markdown",
   "id": "542e02ab",
   "metadata": {},
   "source": [
    "The partition of the simple graph into the two communities is exactly as expected. \n",
    "\n",
    "You will apply the betweenness-based graph partitioning to the karate club graph. But first, it will be useful to see the actual partitioning of the club members that resulted from the club splitting in a dispute. The club split into two communities, one centered around a key figure, Mr Hi, and the other around an officer of the club. To see this partition, execute the code in the cell below. "
   ]
  },
  {
   "cell_type": "code",
   "execution_count": null,
   "id": "7e0628a3",
   "metadata": {},
   "outputs": [],
   "source": [
    "club_color = {\n",
    "    'Mr. Hi': 'orange',\n",
    "    'Officer': 'lightblue',\n",
    "}\n",
    "node_colors = [club_color[K_club._node[n]['club']] for n in K_club._node]\n",
    "nx.draw_networkx(K_club, node_color=node_colors, with_labels=True)"
   ]
  },
  {
   "cell_type": "markdown",
   "id": "295f46c6",
   "metadata": {},
   "source": [
    "Examine this result, keeping in mind that Mr Hi is represented by node 0 and the officer by node 33. \n",
    "\n",
    "> **Exercise 3-08:** To understand how the karate club graph can be partitioned using edge betweenness execute the code in the cell below. For each iteration of the for loop, the following operations are performed:   \n",
    "> 1. Compute a partitioned graph for each number of edges to remove using the `remove_edges` function. \n",
    "> 2. Print the number of edges removed as a label of the resulting graph. \n",
    "> 3. Display the plot of the partitioned graph, using the show method to ensure each plot is displayed individually. "
   ]
  },
  {
   "cell_type": "code",
   "execution_count": null,
   "id": "deef86b2-8f70-447e-b64f-e9d9dad464b4",
   "metadata": {},
   "outputs": [],
   "source": [
    "for k in range(9,16): \n",
    "    club_partitioned_graph = remove_edges(K_club, k=k)\n",
    "    print('Remove ' + str(k) + ' edges')\n",
    "    nx.draw_networkx(club_partitioned_graph, with_labels=True, alpha=0.5, node_size=500, node_color=node_colors)\n",
    "    plt.show()"
   ]
  },
  {
   "cell_type": "markdown",
   "id": "3d6aba00",
   "metadata": {},
   "source": [
    "> Examine these results and answer the following questions:  \n",
    "> 1. How many edges must be removed to create a graph with two components, each representing a community?    \n",
    "> 2. Are the members of these two communities found with the graph partitioned reasonably aligned with the actual split of the karate club?  \n",
    "> 3. How many edges must be removed before the graph partition starts to produce isolated singletons?     \n",
    "> **End of exercise.**"
   ]
  },
  {
   "cell_type": "markdown",
   "id": "75045151",
   "metadata": {},
   "source": [
    "> **Answers:**     \n",
    "> 1.        \n",
    "> 2.            \n",
    "> 3.      "
   ]
  },
  {
   "cell_type": "markdown",
   "id": "4990865b",
   "metadata": {},
   "source": [
    "## Modularity and Graph Partitioning   \n",
    "\n",
    "Modularity of a graph measures the concentration of edges to certain nodes compared the number expected for a random graph. Since we expect communities to have a high concentration of edges, modularity can be used as a community detection metric.  \n",
    "\n",
    "There are many proposals for algorithms one can use to partition a graph. In these exercises will we look at only one, greedy partitioning algorithm. The algorithm is conceptually simple, starting with a random allocation of nodes to two equal partitions of the graph. Nodes chosen at random one at a time are moved from one component to the other. In this process, the community assignment of the chosen node is changed to the other community. If the modularity of the graph improves the new assignment is retained. Otherwise the node retains its current assignment.  \n",
    "\n",
    "To see this algorithm applied to the simple example graph execute the code in the cell below, which uses the [networkx.algorithms.community.modularity_max.greedy_modularity_communities](https://networkx.org/documentation/stable/reference/algorithms/generated/networkx.algorithms.community.modularity_max.greedy_modularity_communities.html?highlight=greedy%20modularity#networkx.algorithms.community.modularity_max.greedy_modularity_communities) function. "
   ]
  },
  {
   "cell_type": "code",
   "execution_count": null,
   "id": "16ea30a1",
   "metadata": {},
   "outputs": [],
   "source": [
    "def assign_node_colors(G, communities, col, first_node_number=0):\n",
    "    ## first unpack the list of frozen sets to a list of lists\n",
    "    ## so we can actually work with the results \n",
    "    node_lists = []\n",
    "    for i in range(len(communities)):\n",
    "        node_lists.append([x for x in set(communities[i])])  \n",
    "    \n",
    "    ## Now, assign colors from the color dictionary  \n",
    "    node_colors = [' ']*len(G.nodes)\n",
    "    for i in range(len(communities)):\n",
    "        for j in node_lists[i]:\n",
    "            node_colors[j-first_node_number] = col[i]     \n",
    "    return node_colors        \n",
    "\n",
    "## Find the modular communities \n",
    "modular_communities = greedy_modularity_communities(simple_graph)\n",
    "print(modular_communities)\n",
    "\n",
    "## Get the color list for the nodes\n",
    "node_colors = assign_node_colors(simple_graph, modular_communities, col, first_node_number=1)\n",
    "\n",
    "## Finally draw the graph with the colors showing the communities \n",
    "nx.draw_networkx(simple_graph, node_color=node_colors)"
   ]
  },
  {
   "cell_type": "markdown",
   "id": "bfc9339c",
   "metadata": {},
   "source": [
    "The greedy modularity algorithm has found the expected two communities.   \n",
    "\n",
    "> **Exercise 03-9:** Complete the code in the cell below to apply the greedy modularity algorithm to the partition of the karate club graph. Assign the partitioned graph to a variable named `club_modular_communities`. Print the `club_modular_communities`. Execute the code and examine the results. "
   ]
  },
  {
   "cell_type": "code",
   "execution_count": null,
   "id": "ba171645",
   "metadata": {},
   "outputs": [],
   "source": [
    "## Color dictionary for dispalying the graph\n",
    "col = {0:'red',1:'gray',2:'blue'}\n",
    "\n",
    "## Put your code below\n",
    "\n",
    "\n",
    "\n",
    "## Set the node colors\n",
    "node_colors = assign_node_colors(K_club, club_modular_communities, col)\n",
    "print(node_colors)\n",
    "\n",
    "## Finally draw the graph with the colors showing the communities \n",
    "nx.draw_networkx(K_club, with_labels=True, alpha=0.5, node_size=500, node_color=node_colors)"
   ]
  },
  {
   "cell_type": "markdown",
   "id": "472d6cf7",
   "metadata": {},
   "source": [
    "> Examine the graph noticing the partition of the graph. At first this partition seems odd. But, there might be an explanation. Do you see evidence that the third partition might be club members with no particularly stronger connection to either of the factions that split the club? To answer this question, look back at the k-core for $k=4$ and the betweenness centrality plots you created in exercises 06-3 and 06-6.     \n",
    "> **End of exercise.**     "
   ]
  },
  {
   "cell_type": "markdown",
   "id": "dec56504",
   "metadata": {},
   "source": [
    "> **Answer:**   "
   ]
  },
  {
   "attachments": {},
   "cell_type": "markdown",
   "id": "741a8068",
   "metadata": {},
   "source": [
    " ## Small World Networks      \n",
    "\n",
    " [**Small world networks (SWN)**](https://en.wikipedia.org/wiki/Small-world_network) have low degree of separation between nodes \n",
    "Small world networks comprise two types of edges.   \n",
    "1. Edges between near neighbors of a lattice network.     \n",
    "2. A small number of edges between distant nodes.       \n",
    "\n",
    "Key properties of SWNs include:\n",
    "1. Relatively few highly connected nodes or hubs compared to random graphs.\n",
    "2. The average distances between nodes, $L$, of a SWN grows following a **power law** as the number of nodes, $n$, grow.\n",
    "   $$L \\propto log\\ n$$\n",
    "\n",
    "There are several ways to measure the degree of \"small worldness\" one can use to compare a SWN to an equivalent random graph. Here, we will only use one, the small world coefficient, $\\omega$:      \n",
    "$$\\omega = \\frac{L}{L_r} - \\frac{C}{C_l}$$   \n",
    "where,    \n",
    "- $0 \\le \\omega \\le 1$, where larger values of $\\omega$ indicate stronger small world properties.   \n",
    "- $L_r$ is the average distances between nodes of an equivalent random graph.   \n",
    "- $C$ is the clustering coefficient of the SWN.   \n",
    "- $C_l$ is the clustering coefficient of the equivalent random lattice.     \n",
    "\n",
    "For the examples we use the [networkx.navigable_small_world_graph]() function to generate the small work networks. The arguments for this function are:    \n",
    "- $n^2$ is the number of nodes in the network.      \n",
    "- $𝑝=1$ is the diameter of short-range connections.  \n",
    "- $𝑞$ is the number of long-range connections per node.   \n",
    "\n",
    "Execute the code in the cell below to generate and display SWNs.   "
   ]
  },
  {
   "cell_type": "code",
   "execution_count": null,
   "id": "74c2acef-d8e2-4ffe-88c6-4a0ce11f2cbe",
   "metadata": {},
   "outputs": [],
   "source": [
    "_,ax_p = plt.subplots(2,2, figsize =(10,10))\n",
    "ax_p = ax_p.flatten()\n",
    "\n",
    "n=4\n",
    "p=1\n",
    "np.random.seed(5674)\n",
    "for ax, q in zip(ax_p, [1,2,4,8]): \n",
    "    NSW_graph = nx.navigable_small_world_graph(n=n, p=p, q=q)\n",
    "    \n",
    "    average_dist = round(nx.average_shortest_path_length(NSW_graph), 2)\n",
    "    average_clust_coef = round(nx.average_clustering(NSW_graph), 2)\n",
    "    SW_coefficient = round(nx.omega(nx.to_undirected(NSW_graph)), 3)\n",
    "\n",
    "    nx.draw_networkx(NSW_graph, pos=nx.circular_layout(NSW_graph), alpha=0.5, ax=ax)\n",
    "    ax.set_title(f\"{n**2} node NSW graph with p: {p} q: {q}\\n average distance: {average_dist}\\n average clust coef: {average_clust_coef}\\n  small world coefficient: {SW_coefficient}\")"
   ]
  },
  {
   "cell_type": "markdown",
   "id": "08bfb910-0c82-4702-83d6-48dcef1f11c6",
   "metadata": {},
   "source": [
    "> **Exercise 3-10:** Examine these networks. As the number of long-range edges increases, how does the small world property of the network change?     "
   ]
  },
  {
   "cell_type": "markdown",
   "id": "e3761412-80ef-44b0-b9e0-be920bf0cd12",
   "metadata": {},
   "source": [
    "> **Answer:**    "
   ]
  },
  {
   "cell_type": "markdown",
   "id": "d2d811ea-e971-4fb2-bcc8-7060cbce14ff",
   "metadata": {},
   "source": [
    "In the foregoing example, we increased the number of long-range connections with a fixed diameter for the short range connections. Now, we will vary the diameter of the short range connections, keeping the number of long range connections constant. Execute the code in the cell below and examine the results. "
   ]
  },
  {
   "cell_type": "raw",
   "id": "10cd6d52-3748-4fda-9d8a-a812ebbe992e",
   "metadata": {},
   "source": [
    "_,ax_p = plt.subplots(2,2, figsize =(10,10))\n",
    "ax_p = ax_p.flatten()\n",
    "\n",
    "n=4\n",
    "q=2\n",
    "np.random.seed(2398)\n",
    "for ax, p in zip(ax_p, [1,2,4,8]): \n",
    "    NSW_graph = nx.navigable_small_world_graph(n=n, p=p, q=q)\n",
    "    \n",
    "    average_dist = round(nx.average_shortest_path_length(NSW_graph), 3)\n",
    "    average_clust_coef = round(nx.average_clustering(NSW_graph), 3)\n",
    "    SW_coefficient = round(nx.omega(nx.to_undirected(NSW_graph)), 3)\n",
    "\n",
    "    nx.draw_networkx(NSW_graph, pos=nx.circular_layout(NSW_graph), alpha=0.5, ax=ax)\n",
    "    ax.set_title(f\"{n**2} node NSW graph with p: {p} q: {q}\\n average distance: {average_dist}\\n average clust coef: {average_clust_coef}\\n  small world coefficient: {SW_coefficient}\")"
   ]
  },
  {
   "cell_type": "markdown",
   "id": "845ae24d-84ee-419d-8ea5-9c5fa6f6ebe3",
   "metadata": {},
   "source": [
    "> **Exercise 3-11:** Notice that the network approaches fully connected as the diameter of the short-range connections increases. Examine these networks and answer the following questions:\n",
    "> 1. How does $\\omega$ change with increasing short-range diameter and why?\n",
    "> 2. As the short-range diameter increases how do the clustering coefficient and average distance between nodes change and why?    "
   ]
  },
  {
   "cell_type": "markdown",
   "id": "0cd98ea6-6a8a-49dd-aae1-d81fe884e96c",
   "metadata": {},
   "source": [
    "> **Answers:**\n",
    "> 1.     \n",
    "> 2.     "
   ]
  },
  {
   "cell_type": "markdown",
   "id": "378a390e-28c5-46dc-90a5-73ab330baec3",
   "metadata": {},
   "source": [
    "Finally, to illustrate the power law relationship between the average distances between nodes as the number of nodes increases, execute the code in the cell below and examine the results.  "
   ]
  },
  {
   "cell_type": "code",
   "execution_count": null,
   "id": "494e72bc-4a63-4003-b1ce-827083c8b930",
   "metadata": {},
   "outputs": [],
   "source": [
    "_,ax = plt.subplots(figsize =(6,6))\n",
    "#ax_p = ax_p.flatten()\n",
    "\n",
    "q=4\n",
    "n_list = [2,4,8,16,32]\n",
    "average_dist = []\n",
    "for n in n_list: \n",
    "    NSW_graph = nx.navigable_small_world_graph(n=n, q=q)\n",
    "    average_dist.append(round(nx.average_shortest_path_length(NSW_graph), 2))\n",
    "\n",
    "n_list = np.square(n_list)\n",
    "ax.plot(n_list, average_dist)\n",
    "ax.set_xscale('log')\n",
    "ax.set_title(f\"Log average distance vs. number of nodes in NSW graph\")\n",
    "ax.set_ylabel('Average distance')\n",
    "ax.set_xlabel('Log number of nodes')          "
   ]
  },
  {
   "cell_type": "markdown",
   "id": "933abb66-d12d-4649-905b-0eca699a4bfd",
   "metadata": {},
   "source": [
    "#### Copyright 2021, 2022, 2023, 2025, Stephen F Elston. All rights reserved."
   ]
  },
  {
   "cell_type": "code",
   "execution_count": null,
   "id": "0425e9a7-ae08-47ae-bc05-90d6e74b4121",
   "metadata": {},
   "outputs": [],
   "source": []
  }
 ],
 "metadata": {
  "kernelspec": {
   "display_name": "Python 3 (ipykernel)",
   "language": "python",
   "name": "python3"
  },
  "language_info": {
   "codemirror_mode": {
    "name": "ipython",
    "version": 3
   },
   "file_extension": ".py",
   "mimetype": "text/x-python",
   "name": "python",
   "nbconvert_exporter": "python",
   "pygments_lexer": "ipython3",
   "version": "3.12.7"
  }
 },
 "nbformat": 4,
 "nbformat_minor": 5
}
